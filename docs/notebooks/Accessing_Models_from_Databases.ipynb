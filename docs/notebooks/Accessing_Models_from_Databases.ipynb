{
 "cells": [
  {
   "cell_type": "markdown",
   "metadata": {
    "collapsed": true
   },
   "source": [
    "## Accessing Models from the database\n",
    "This example describes how to access models from BioModels and JWS. Further databases could be easily added later on. \n",
    "\n",
    "###  BioModels"
   ]
  },
  {
   "cell_type": "code",
   "execution_count": 1,
   "metadata": {},
   "outputs": [],
   "source": [
    "import sys\n",
    "if '../..' not in sys.path:\n",
    "    sys.path.append('../..')\n",
    "    \n",
    "import basico.biomodels as biomodels"
   ]
  },
  {
   "cell_type": "markdown",
   "metadata": {},
   "source": [
    "the BioModels REST API allows searching for models, just as one would do in the web interface on http://biomodels.net. So one can search by pathway, species or reactions or submitter / author by just entering them."
   ]
  },
  {
   "cell_type": "code",
   "execution_count": 2,
   "metadata": {},
   "outputs": [
    {
     "name": "stdout",
     "output_type": "stream",
     "text": [
      "Id: BIOMD0000000042\n",
      "Name: Nielsen1998_Glycolysis\n",
      "Format: SBML\n",
      "\n",
      "Id: BIOMD0000000051\n",
      "Name: Chassagnole2002_Carbon_Metabolism\n",
      "Format: SBML\n",
      "\n",
      "Id: BIOMD0000000054\n",
      "Name: Ataullahkhanov1996_Adenylate\n",
      "Format: SBML\n",
      "\n",
      "Id: BIOMD0000000061\n",
      "Name: Hynne2001_Glycolysis\n",
      "Format: SBML\n",
      "\n",
      "Id: BIOMD0000000064\n",
      "Name: Teusink2000_Glycolysis\n",
      "Format: SBML\n",
      "\n",
      "Id: BIOMD0000000071\n",
      "Name: Bakker2001_Glycolysis\n",
      "Format: SBML\n",
      "\n",
      "Id: BIOMD0000000172\n",
      "Name: Pritchard2002_glycolysis\n",
      "Format: SBML\n",
      "\n",
      "Id: BIOMD0000000176\n",
      "Name: Conant2007_WGD_glycolysis_2A3AB\n",
      "Format: SBML\n",
      "\n",
      "Id: BIOMD0000000177\n",
      "Name: Conant2007_glycolysis_2C\n",
      "Format: SBML\n",
      "\n",
      "Id: BIOMD0000000206\n",
      "Name: Wolf2000_Glycolytic_Oscillations\n",
      "Format: SBML\n",
      "\n"
     ]
    }
   ],
   "source": [
    "glycolysis_models = biomodels.search_for_model('glycolysis')\n",
    "for model in glycolysis_models: \n",
    "    print ('Id: %s' % model['id'])\n",
    "    print ('Name: %s' % model['name'])\n",
    "    print ('Format: %s' % model['format'])\n",
    "    print ('')"
   ]
  },
  {
   "cell_type": "markdown",
   "metadata": {},
   "source": [
    "to get more information about a particular model, the `get_model_info` function provides basic information. As all the runctions in this module they take either an integer or string biomodels id as parameter"
   ]
  },
  {
   "cell_type": "code",
   "execution_count": 3,
   "metadata": {},
   "outputs": [],
   "source": [
    "info = biomodels.get_model_info(206)"
   ]
  },
  {
   "cell_type": "code",
   "execution_count": 4,
   "metadata": {},
   "outputs": [
    {
     "name": "stdout",
     "output_type": "stream",
     "text": [
      "Wolf2000_Glycolytic_Oscillations\n",
      "<notes xmlns=\"http://www.sbml.org/sbml/level2/version3\">\r\n",
      "      <body xmlns=\"http://www.w3.org/1999/xhtml\">\r\n",
      "        <p>Model reproduces the dynamics of ATP and NADH as depicted in Fig 4 of the paper.  Model successfully tested on Jarnac and MathSBML.</p>\r\n",
      "        <br />\r\n",
      "        <p>To the extent possible under law, all copyright and related or neighbouring rights to this encoded model have been dedicated to the public domain worldwide. Please refer to      <a href=\"http://creativecommons.org/publicdomain/zero/1.0/\" title=\"Creative Commons CC0\">CC0 Public Domain Dedication</a>\r\n",
      "          for more information.      </p>\r\n",
      "      <p>In summary, you are entitled to use this encoded model in absolutely any manner you deem suitable, verbatim, or with modification, alone or embedded it in a larger context, redistribute it, commercially or not, in a restricted way or not.</p>\r\n",
      "      <br />\r\n",
      "      <p>To cite BioModels Database, please use:      <a href=\"http://www.ncbi.nlm.nih.gov/pubmed/20587024\" target=\"_blank\">Li C, Donizelli M, Rodriguez N, Dharuri H, Endler L, Chelliah V, Li L, He E, Henry A, Stefan MI, Snoep JL, Hucka M, Le Novère N, Laibe C (2010) BioModels Database: An enhanced, curated and annotated resource for published quantitative kinetic models. BMC Syst Biol., 4:92.</a>\r\n",
      "  </p>\r\n",
      "</body>\r\n",
      "</notes>\n"
     ]
    }
   ],
   "source": [
    "print (info['name'])\n",
    "print (info['description'])"
   ]
  },
  {
   "cell_type": "markdown",
   "metadata": {},
   "source": [
    "the model information object also contains the list of file names associated with the entry. To just get that list the convenience function `get_files_for_model` exists. The main document is contained in a sublist called `main`. So the main entry can be retrieved using"
   ]
  },
  {
   "cell_type": "code",
   "execution_count": 5,
   "metadata": {},
   "outputs": [],
   "source": [
    "first_entry = info['files']['main'][0]"
   ]
  },
  {
   "cell_type": "code",
   "execution_count": 6,
   "metadata": {},
   "outputs": [
    {
     "name": "stdout",
     "output_type": "stream",
     "text": [
      "Main FileName is: 'BIOMD0000000206_url.xml' and has size 27693 kb\n"
     ]
    }
   ],
   "source": [
    "print (\"Main FileName is: '{0}' and has size {1} kb\".format(first_entry['name'], first_entry['fileSize']))"
   ]
  },
  {
   "cell_type": "markdown",
   "metadata": {},
   "source": [
    "to actually get hold of the model itself, you can use the `get_content_for_model` function, that takes a model id, as well as an optional filename. If the filename is not given, the first main content will be chosen automatically. So to download the model of biomodel #206, once could simply call: "
   ]
  },
  {
   "cell_type": "code",
   "execution_count": 7,
   "metadata": {},
   "outputs": [],
   "source": [
    "sbml = biomodels.get_content_for_model(206)"
   ]
  },
  {
   "cell_type": "code",
   "execution_count": 8,
   "metadata": {},
   "outputs": [
    {
     "name": "stdout",
     "output_type": "stream",
     "text": [
      "<?xml version='1.0' encoding='UTF-8' standalone='no'?>\n",
      "<sbml xmlns=\"http://www.sbml.org/sbml/level2/version3\" level=\"2\" metaid=\"metaid_0000001\" version=\"3\">\n",
      "  <model id=\"Wolf2000_Glycolytic_Oscillations\" metaid=\"metaid_0000002\" name=\"Wolf2000_Glycolytic_Oscillations\">\n",
      "    <notes>\n",
      "      <body xmlns=\"http://www.w3.org/1999/xhtml\">\n",
      "        <p>Model reproduces the dynamics of ATP and NADH as depicted in Fig 4 of the paper.  Model successfully tested on Jarnac and MathSBML.</p>\n",
      "        <br/>\n",
      "        <p>To the extent possible under law, all copyright and related or neighbouring rights to this encoded model have been dedicated to the public domain worldwide. Please refer to      <a href=\"http://creativecommons.org/publicdomain/zero/1.0/\" title=\"Creative Commons CC0\">CC0 Public Domain Dedication</a>\n",
      "          for more information.      </p>\n",
      "      <p>In summary, you are entitled to use this encoded model in absolutely any manner you deem suitable, verbatim, or with modification, alone or embedd\n"
     ]
    }
   ],
   "source": [
    "print(sbml[:1000])  # just printing the first couple of lines"
   ]
  },
  {
   "cell_type": "markdown",
   "metadata": {
    "tags": []
   },
   "source": [
    "of course you can simply call `load_biomodel(206)` to load a biomodel into basico. "
   ]
  },
  {
   "cell_type": "code",
   "execution_count": 9,
   "metadata": {},
   "outputs": [
    {
     "data": {
      "text/plain": [
       "[{'format': 'SBML',\n",
       "  'id': 'BIOMD0000000329',\n",
       "  'lastModified': '2014-12-11T00:00:00Z',\n",
       "  'name': 'Kummer2000 - Oscillations in Calcium Signalling',\n",
       "  'submissionDate': '2014-12-11T00:00:00Z',\n",
       "  'submitter': 'Vijayalakshmi Chelliah',\n",
       "  'url': 'https://www.ebi.ac.uk/biomodels/BIOMD0000000329'}]"
      ]
     },
     "execution_count": 9,
     "metadata": {},
     "output_type": "execute_result"
    }
   ],
   "source": [
    "biomodels.search_for_model('kummer2000')"
   ]
  },
  {
   "cell_type": "markdown",
   "metadata": {},
   "source": [
    "### JWS Online\n",
    "we also provide access to models from JWS online."
   ]
  },
  {
   "cell_type": "code",
   "execution_count": 10,
   "metadata": {},
   "outputs": [],
   "source": [
    "import basico.jws_online as jws"
   ]
  },
  {
   "cell_type": "markdown",
   "metadata": {},
   "source": [
    "with `get_all_models` you would get a list of all the models in JWS online. To search for models, you have 2 options. One is to search for models by species. For example to search for all models involving 'atp'"
   ]
  },
  {
   "cell_type": "code",
   "execution_count": 11,
   "metadata": {},
   "outputs": [
    {
     "name": "stdout",
     "output_type": "stream",
     "text": [
      "achcar1\n",
      "achcar10\n",
      "achcar11\n",
      "achcar12\n",
      "achcar13\n",
      "achcar14\n",
      "achcar2\n",
      "achcar3\n",
      "achcar4\n",
      "achcar5\n",
      "achcar6\n",
      "achcar7\n",
      "achcar8\n",
      "achcar9\n",
      "albert1\n",
      "arnold10\n",
      "arnold10-2\n",
      "arnold11\n",
      "arnold6\n",
      "arnold7\n",
      "arnold8\n",
      "arnold9\n",
      "assmus\n",
      "bali\n",
      "bier2\n",
      "bradshaw\n",
      "bray2\n",
      "bruggeman1\n",
      "bulik1\n",
      "bulik2\n",
      "bulik3\n",
      "chance1\n",
      "chassagnole1\n",
      "chassagnole3\n",
      "conant1\n",
      "conant2\n",
      "curto1\n",
      "dano1\n",
      "dano2\n",
      "dano3\n",
      "dupreez1\n",
      "dupreez2\n",
      "dupreez3\n",
      "dupreez4\n",
      "dupreez5\n",
      "dupreez6\n",
      "dupreez7\n",
      "fribourg1\n",
      "fribourg2\n",
      "fridlyand1\n",
      "galazzo1\n",
      "gustavsson1\n",
      "gustavsson2\n",
      "gustavsson3\n",
      "gustavsson4\n",
      "gustavsson5\n",
      "hald\n",
      "heinrich\n",
      "hoefnagel1\n",
      "hoefnagel2\n",
      "hoefnagel_mixedacid\n",
      "holzhutter\n",
      "hynne\n",
      "jamshidi\n",
      "jiang1\n",
      "kerkhovena\n",
      "kerkhovenc\n",
      "kolmeisky1\n",
      "kongas1\n",
      "kouril2\n",
      "kouril3\n",
      "kouril4\n",
      "kouril6\n",
      "kouril7\n",
      "kouril8\n",
      "kouril9\n",
      "lambeth\n",
      "levering1\n",
      "levering2\n",
      "maher1\n",
      "marinhernandez1\n",
      "marinhernandez2\n",
      "marinhernandez3\n",
      "mayya1\n",
      "mosca1\n",
      "mulquiney\n",
      "mulquiney1\n",
      "mulquiney2\n",
      "nazaret1\n",
      "neves1\n",
      "nielsen\n",
      "nishio1\n",
      "olah\n",
      "orth1\n",
      "penkler1\n",
      "penkler2\n",
      "penkler2aa\n",
      "poolman\n",
      "pritchard1\n",
      "proctor1\n",
      "rohwer1\n",
      "rovers1\n",
      "saavedra\n",
      "sengupta1\n",
      "smallbone0\n",
      "smallbone1\n",
      "smallbone10\n",
      "smallbone11\n",
      "smallbone12\n",
      "smallbone13\n",
      "smallbone14\n",
      "smallbone15\n",
      "smallbone16\n",
      "smallbone17\n",
      "smallbone18\n",
      "smallbone19\n",
      "smallbone2\n",
      "smallbone3\n",
      "smallbone4\n",
      "smallbone5\n",
      "smallbone6\n",
      "smallbone7\n",
      "smallbone8\n",
      "smallbone9\n",
      "tang1\n",
      "teusink2\n",
      "uys\n",
      "valero\n",
      "vaneunen1\n",
      "vanheerden1\n",
      "vanheerden2\n",
      "vanniekerk1\n",
      "whillier4\n",
      "wolf\n",
      "wolf1\n"
     ]
    }
   ],
   "source": [
    "atp_models = jws.get_models_for_species('atp')\n",
    "for model in atp_models: \n",
    "    print(model['slug'])"
   ]
  },
  {
   "cell_type": "markdown",
   "metadata": {},
   "source": [
    "or you could get the models for a specific reaction for example, all models involving 'pfk' would be:"
   ]
  },
  {
   "cell_type": "code",
   "execution_count": 12,
   "metadata": {},
   "outputs": [
    {
     "name": "stdout",
     "output_type": "stream",
     "text": [
      "achcar1\n",
      "achcar10\n",
      "achcar11\n",
      "achcar12\n",
      "achcar13\n",
      "achcar14\n",
      "achcar2\n",
      "achcar3\n",
      "achcar4\n",
      "achcar5\n",
      "achcar6\n",
      "achcar7\n",
      "achcar8\n",
      "achcar9\n",
      "albert1\n",
      "chassagnole2\n",
      "conant1\n",
      "conant2\n",
      "dupreez1\n",
      "dupreez2\n",
      "dupreez3\n",
      "dupreez4\n",
      "dupreez5\n",
      "dupreez6\n",
      "dupreez7\n",
      "gustavsson1\n",
      "gustavsson2\n",
      "gustavsson3\n",
      "gustavsson4\n",
      "gustavsson5\n",
      "hald\n",
      "kerkhovena\n",
      "kerkhovenc\n",
      "levering1\n",
      "levering2\n",
      "machado1\n",
      "marinhernandez1\n",
      "marinhernandez2\n",
      "marinhernandez3\n",
      "mosca1\n",
      "mulquiney\n",
      "mulquiney1\n",
      "mulquiney2\n",
      "orth1\n",
      "penkler1\n",
      "penkler2\n",
      "penkler2aa\n",
      "pritchard1\n",
      "ralser1\n",
      "smallbone0\n",
      "smallbone1\n",
      "smallbone10\n",
      "smallbone11\n",
      "smallbone12\n",
      "smallbone13\n",
      "smallbone14\n",
      "smallbone15\n",
      "smallbone16\n",
      "smallbone17\n",
      "smallbone18\n",
      "smallbone2\n",
      "smallbone3\n",
      "smallbone4\n",
      "smallbone5\n",
      "smallbone6\n",
      "smallbone7\n",
      "smallbone8\n",
      "smallbone9\n",
      "vanniekerk1\n"
     ]
    }
   ],
   "source": [
    "pfk_models = jws.get_models_for_reaction('pfk')\n",
    "for model in pfk_models:\n",
    "    print(model['slug'])"
   ]
  },
  {
   "cell_type": "markdown",
   "metadata": {},
   "source": [
    "for each of these ids, you can get the manuscript, to find out what the model is all about, or the sbml model itself"
   ]
  },
  {
   "cell_type": "code",
   "execution_count": 13,
   "metadata": {},
   "outputs": [],
   "source": [
    "manuscript = jws.get_manuscript('wolf')"
   ]
  },
  {
   "cell_type": "code",
   "execution_count": 14,
   "metadata": {},
   "outputs": [
    {
     "name": "stdout",
     "output_type": "stream",
     "text": [
      "Transduction of intracellular and intercellular dynamics in yeast glycolytic oscillations.\n"
     ]
    }
   ],
   "source": [
    "print(manuscript['title'])"
   ]
  },
  {
   "cell_type": "code",
   "execution_count": 15,
   "metadata": {},
   "outputs": [
    {
     "name": "stdout",
     "output_type": "stream",
     "text": [
      "Under certain well-defined conditions, a population of yeast cells exhibits glycolytic oscillations that synchronize through intercellular acetaldehyde. This implies that the dynamic phenomenon of the oscillation propagates within and between cells. We here develop a method to establish by which route dynamics propagate through a biological reaction network. Application of the method to yeast demonstrates how the oscillations and the synchronization signal can be transduced. That transduction is not so much through the backbone of glycolysis, as via the Gibbs energy and redox coenzyme couples (ATP/ADP, and NADH/NAD), and via both intra- and intercellular acetaldehyde.\n"
     ]
    }
   ],
   "source": [
    "print(manuscript['abstract'])"
   ]
  },
  {
   "cell_type": "code",
   "execution_count": 16,
   "metadata": {},
   "outputs": [],
   "source": [
    "sbml = jws.get_sbml_model('wolf')"
   ]
  },
  {
   "cell_type": "code",
   "execution_count": 17,
   "metadata": {},
   "outputs": [
    {
     "name": "stdout",
     "output_type": "stream",
     "text": [
      "<?xml version=\"1.0\" encoding=\"UTF-8\"?>\n",
      "<sbml xmlns=\"http://www.sbml.org/sbml/level3/version1/core\" level=\"3\" version=\"1\">\n",
      "  <model id=\"wolf\" name=\"wolf\">\n",
      "    <listOfCompartments>\n",
      "      <compartment metaid=\"metaid_0\" sboTerm=\"SBO:0000410\" id=\"default_compartment\" spatialDimensions=\"3\" size=\"1\" constant=\"true\"/>\n",
      "    </listOfCompartments>\n",
      "    <listOfSpecies>\n",
      "      <species metaid=\"metaid_1\" id=\"at\" name=\"ATP\" compartment=\"default_compartment\" initialConcentration=\"2\" hasOnlySubstanceUnits=\"false\" boundaryCondition=\"false\" constant=\"false\">\n",
      "        <annotation>\n",
      "          <rdf:RDF xmlns:rdf=\"http://www.w3.org/1999/02/22-rdf-syntax-ns#\" xmlns:dc=\"http://purl.org/dc/elements/1.1/\" xmlns:dcterms=\"http://purl.org/dc/terms/\" xmlns:vCard=\"http://www.w3.org/2001/vcard-rdf/3.0#\" xmlns:bqbiol=\"http://biomodels.net/biology-qualifiers/\" xmlns:bqmodel=\"http://biomodels.net/model-qualifiers/\">\n",
      "            <rdf:Description rdf:about=\"#metaid_1\">\n",
      "              <bqbiol:is>\n",
      "                <rdf:Bag>\n",
      "       \n"
     ]
    }
   ],
   "source": [
    "print(sbml[:1000])"
   ]
  },
  {
   "cell_type": "code",
   "execution_count": null,
   "metadata": {},
   "outputs": [],
   "source": []
  },
  {
   "cell_type": "code",
   "execution_count": null,
   "metadata": {},
   "outputs": [],
   "source": []
  }
 ],
 "metadata": {
  "kernelspec": {
   "display_name": "Python 3",
   "language": "python",
   "name": "python3"
  },
  "language_info": {
   "codemirror_mode": {
    "name": "ipython",
    "version": 3
   },
   "file_extension": ".py",
   "mimetype": "text/x-python",
   "name": "python",
   "nbconvert_exporter": "python",
   "pygments_lexer": "ipython3",
   "version": "3.7.3"
  }
 },
 "nbformat": 4,
 "nbformat_minor": 2
}
