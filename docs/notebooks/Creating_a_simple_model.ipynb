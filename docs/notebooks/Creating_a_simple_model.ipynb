{
 "cells": [
  {
   "cell_type": "markdown",
   "metadata": {},
   "source": [
    "## Creating and simulating a simple model\n",
    "Here we show how to create a basic model using basiCO, and simulating it. We start as usual by importing basiCO. "
   ]
  },
  {
   "cell_type": "code",
   "execution_count": 1,
   "metadata": {},
   "outputs": [],
   "source": [
    "import sys\n",
    "if '../..' not in sys.path:\n",
    "    sys.path.append('../..')\n",
    "from basico import *\n",
    "import numpy as np\n",
    "import matplotlib.pyplot as plt\n",
    "%matplotlib inline"
   ]
  },
  {
   "cell_type": "markdown",
   "metadata": {},
   "source": [
    "Now lets create a new model, passing along the `name` that we want to give it. Additional supported parameters for the model consist of: \n",
    "\n",
    "* `quantity_unit`: which sets the unit to use for species concentrations (defaults to mol)\n",
    "* `volume_unit`: the unit to use for three dimensional compartments (defaults to litre (l))\n",
    "* `time_unit`: the unit to use for time (defaults to second (s))\n",
    "* `area_unit`: the unit to use for two dimensional compartments\n",
    "* `length_unit`: the unit to use for one dimensional compartments"
   ]
  },
  {
   "cell_type": "code",
   "execution_count": 2,
   "metadata": {},
   "outputs": [],
   "source": [
    "new_model(name='Simple Model');"
   ]
  },
  {
   "cell_type": "markdown",
   "metadata": {},
   "source": [
    "now we add a basic reaction that converts a chemical species `A` irreversibly into `B`. We can do that by just calling `addReaction` with the chemical formula to use. In this case this would be: `A -> B`. The reaction will be automatically created using mass action kinetics.  "
   ]
  },
  {
   "cell_type": "code",
   "execution_count": 3,
   "metadata": {},
   "outputs": [],
   "source": [
    "add_reaction('R1', 'A -> B');"
   ]
  },
  {
   "cell_type": "markdown",
   "metadata": {},
   "source": [
    "Since we had a new model, this created the Species `A` and `B` as well as a compartment `compartment`, in which those chemicals reside. The species have an initial concentration of 1. To verify we can call `get_species`, which returns a dataframe with all information about the species (either all species, or the one filtered to): \n"
   ]
  },
  {
   "cell_type": "code",
   "execution_count": 4,
   "metadata": {},
   "outputs": [
    {
     "data": {
      "text/plain": [
       "name\n",
       "A    1.0\n",
       "B    1.0\n",
       "Name: initial_concentration, dtype: float64"
      ]
     },
     "execution_count": 4,
     "metadata": {},
     "output_type": "execute_result"
    }
   ],
   "source": [
    "get_species().initial_concentration"
   ]
  },
  {
   "cell_type": "markdown",
   "metadata": {},
   "source": [
    "to change the initial concentration, we use `set_species`, and specify which property we want to change: "
   ]
  },
  {
   "cell_type": "code",
   "execution_count": 5,
   "metadata": {},
   "outputs": [
    {
     "data": {
      "text/plain": [
       "name\n",
       "A    10.0\n",
       "B     0.0\n",
       "Name: initial_concentration, dtype: float64"
      ]
     },
     "execution_count": 5,
     "metadata": {},
     "output_type": "execute_result"
    }
   ],
   "source": [
    "set_species('B', initial_concentration=0)\n",
    "set_species('A', initial_concentration=10)\n",
    "get_species().initial_concentration"
   ]
  },
  {
   "cell_type": "markdown",
   "metadata": {},
   "source": [
    "to see the kinetic paramters of our recation we can use `get_reaction_parameters`, and we see that the parameter has been created by default with a value of `0.1`"
   ]
  },
  {
   "cell_type": "code",
   "execution_count": 6,
   "metadata": {},
   "outputs": [
    {
     "data": {
      "text/html": [
       "<div>\n",
       "<style scoped>\n",
       "    .dataframe tbody tr th:only-of-type {\n",
       "        vertical-align: middle;\n",
       "    }\n",
       "\n",
       "    .dataframe tbody tr th {\n",
       "        vertical-align: top;\n",
       "    }\n",
       "\n",
       "    .dataframe thead th {\n",
       "        text-align: right;\n",
       "    }\n",
       "</style>\n",
       "<table border=\"1\" class=\"dataframe\">\n",
       "  <thead>\n",
       "    <tr style=\"text-align: right;\">\n",
       "      <th></th>\n",
       "      <th>value</th>\n",
       "      <th>reaction</th>\n",
       "      <th>type</th>\n",
       "      <th>mapped_to</th>\n",
       "    </tr>\n",
       "    <tr>\n",
       "      <th>name</th>\n",
       "      <th></th>\n",
       "      <th></th>\n",
       "      <th></th>\n",
       "      <th></th>\n",
       "    </tr>\n",
       "  </thead>\n",
       "  <tbody>\n",
       "    <tr>\n",
       "      <th>(R1).k1</th>\n",
       "      <td>0.1</td>\n",
       "      <td>R1</td>\n",
       "      <td>local</td>\n",
       "      <td></td>\n",
       "    </tr>\n",
       "  </tbody>\n",
       "</table>\n",
       "</div>"
      ],
      "text/plain": [
       "         value reaction   type mapped_to\n",
       "name                                    \n",
       "(R1).k1    0.1       R1  local          "
      ]
     },
     "execution_count": 6,
     "metadata": {},
     "output_type": "execute_result"
    }
   ],
   "source": [
    "get_reaction_parameters()"
   ]
  },
  {
   "cell_type": "markdown",
   "metadata": {},
   "source": [
    "to change that parameter, we use `set_reaction_parameters`, specifying the value to be changed: "
   ]
  },
  {
   "cell_type": "code",
   "execution_count": 7,
   "metadata": {
    "scrolled": true
   },
   "outputs": [
    {
     "data": {
      "text/html": [
       "<div>\n",
       "<style scoped>\n",
       "    .dataframe tbody tr th:only-of-type {\n",
       "        vertical-align: middle;\n",
       "    }\n",
       "\n",
       "    .dataframe tbody tr th {\n",
       "        vertical-align: top;\n",
       "    }\n",
       "\n",
       "    .dataframe thead th {\n",
       "        text-align: right;\n",
       "    }\n",
       "</style>\n",
       "<table border=\"1\" class=\"dataframe\">\n",
       "  <thead>\n",
       "    <tr style=\"text-align: right;\">\n",
       "      <th></th>\n",
       "      <th>value</th>\n",
       "      <th>reaction</th>\n",
       "      <th>type</th>\n",
       "      <th>mapped_to</th>\n",
       "    </tr>\n",
       "    <tr>\n",
       "      <th>name</th>\n",
       "      <th></th>\n",
       "      <th></th>\n",
       "      <th></th>\n",
       "      <th></th>\n",
       "    </tr>\n",
       "  </thead>\n",
       "  <tbody>\n",
       "    <tr>\n",
       "      <th>(R1).k1</th>\n",
       "      <td>1.0</td>\n",
       "      <td>R1</td>\n",
       "      <td>local</td>\n",
       "      <td></td>\n",
       "    </tr>\n",
       "  </tbody>\n",
       "</table>\n",
       "</div>"
      ],
      "text/plain": [
       "         value reaction   type mapped_to\n",
       "name                                    \n",
       "(R1).k1    1.0       R1  local          "
      ]
     },
     "execution_count": 7,
     "metadata": {},
     "output_type": "execute_result"
    }
   ],
   "source": [
    "set_reaction_parameters('(R1).k1', value=1)\n",
    "get_reaction_parameters('k1')"
   ]
  },
  {
   "cell_type": "markdown",
   "metadata": {},
   "source": [
    "now lets simulate our model for 10 seconds:"
   ]
  },
  {
   "cell_type": "code",
   "execution_count": 8,
   "metadata": {
    "scrolled": true
   },
   "outputs": [
    {
     "data": {
      "image/png": "[encoded data removed]",
      "text/plain": [
       "<Figure size 640x480 with 1 Axes>"
      ]
     },
     "metadata": {},
     "output_type": "display_data"
    }
   ],
   "source": [
    "result = run_time_course(duration=50)\n",
    "result.plot();\n"
   ]
  },
  {
   "cell_type": "markdown",
   "metadata": {},
   "source": [
    "to simulate the model stochastically, you can specify the simulation method. COPASI supports many different simulations methods: \n",
    "\n",
    "* `deterministic`: using the COPASI LSODA implementation\n",
    "* `stochastic`: using the Gibson Bruck algorithm\n",
    "* `directMethod`: using the Gillespie direct method \n",
    "\n",
    "others are: \n",
    "\n",
    "* `tauleap`, `adaptivesa`, `radau5`, `hybridlsoda`, `hybridode45`\n",
    "\n",
    "So lets try and simulate the model stochastically: "
   ]
  },
  {
   "cell_type": "code",
   "execution_count": 9,
   "metadata": {},
   "outputs": [
    {
     "name": "stderr",
     "output_type": "stream",
     "text": [
      "Error while initializing the simulation: >ERROR 2023-07-06T11:58:20<\n",
      "  At least one particle number in the initial state is too big.\n"
     ]
    }
   ],
   "source": [
    "result = run_time_course(duration=50, method='stochastic')"
   ]
  },
  {
   "cell_type": "markdown",
   "metadata": {},
   "source": [
    "simulation failed in this time because the particle numbers, that the stochastic simulation is based upon is too high! Lets check: "
   ]
  },
  {
   "cell_type": "code",
   "execution_count": 10,
   "metadata": {},
   "outputs": [
    {
     "data": {
      "text/plain": [
       "name\n",
       "A    6.022141e+24\n",
       "B    0.000000e+00\n",
       "Name: initial_particle_number, dtype: float64"
      ]
     },
     "execution_count": 10,
     "metadata": {},
     "output_type": "execute_result"
    }
   ],
   "source": [
    "get_species().initial_particle_number"
   ]
  },
  {
   "cell_type": "markdown",
   "metadata": {},
   "source": [
    "so we just set the initial particle number of a to be smaller, and run the simulation again, this time returning particle numbers rather than concentrations for the resulting dataframe"
   ]
  },
  {
   "cell_type": "code",
   "execution_count": 11,
   "metadata": {},
   "outputs": [],
   "source": [
    "set_species('A', initial_particle_number=100)"
   ]
  },
  {
   "cell_type": "markdown",
   "metadata": {},
   "source": [
    "Alternatively we could have modified the models quantity unit, which currently was set to: "
   ]
  },
  {
   "cell_type": "code",
   "execution_count": 12,
   "metadata": {},
   "outputs": [
    {
     "data": {
      "text/plain": [
       "{'time_unit': 's',\n",
       " 'quantity_unit': 'mol',\n",
       " 'length_unit': 'm',\n",
       " 'area_unit': 'm²',\n",
       " 'volume_unit': 'l'}"
      ]
     },
     "execution_count": 12,
     "metadata": {},
     "output_type": "execute_result"
    }
   ],
   "source": [
    "get_model_units()"
   ]
  },
  {
   "cell_type": "markdown",
   "metadata": {},
   "source": [
    "So initially we had a concentration of 10 mol/l, which does not lend itself for stochastic simulation. Using the `set_model_unit` command with a more apropriate `quantity_unit` and `volume_unit` would be the propper solution. "
   ]
  },
  {
   "cell_type": "markdown",
   "metadata": {},
   "source": [
    "When running stochastic simulations, you might want to specify the `seed` to be used, so that traces become reproducible. In COPASI you have two parameters for that `seed`, the actual seed, and `use_seed` a boolean indicating whether that seed is to be used for the next simulation. For a single trace we use both: "
   ]
  },
  {
   "cell_type": "code",
   "execution_count": 13,
   "metadata": {},
   "outputs": [
    {
     "data": {
      "image/png": "[encoded data removed]",
      "text/plain": [
       "<Figure size 640x480 with 1 Axes>"
      ]
     },
     "metadata": {},
     "output_type": "display_data"
    }
   ],
   "source": [
    "result = run_time_course(duration=10, method='stochastic', use_numbers=True, seed=1234, use_seed=True)\n",
    "result.plot();"
   ]
  },
  {
   "cell_type": "markdown",
   "metadata": {},
   "source": [
    "of course one stochastic trace will not be enough, so lets run many of them. This time the species will be plotted separately, so that it is easy to reuse the same color. This time we also don't use the seed specified before.  "
   ]
  },
  {
   "cell_type": "code",
   "execution_count": 14,
   "metadata": {},
   "outputs": [
    {
     "data": {
      "image/png": "[encoded data removed]",
      "text/plain": [
       "<Figure size 640x480 with 1 Axes>"
      ]
     },
     "metadata": {},
     "output_type": "display_data"
    }
   ],
   "source": [
    "fig, ax = plt.subplots()\n",
    "for i in range(100): \n",
    "    result = run_time_course(duration=10, method='stochastic', use_numbers=True, use_seed=False)\n",
    "    result.plot(y='A', color='r', ax=ax, legend=None);\n",
    "    result.plot(y='B', color='b', ax=ax, legend=None);"
   ]
  },
  {
   "cell_type": "markdown",
   "metadata": {},
   "source": [
    "so far, we were only using mass action kinetics, but of course we could use any other kinetic as well. COPASI comes with a large number of functions already inbuilt. You can see those, running the `get_functions` command. It is filterable by name, and whether or not the formula is reversible, or general (general reactions can be used for either reversibility). Since we modelled our reaction as irreversible, lets look at the irreversible functions we have: "
   ]
  },
  {
   "cell_type": "code",
   "execution_count": 15,
   "metadata": {},
   "outputs": [
    {
     "data": {
      "text/html": [
       "<div>\n",
       "<style scoped>\n",
       "    .dataframe tbody tr th:only-of-type {\n",
       "        vertical-align: middle;\n",
       "    }\n",
       "\n",
       "    .dataframe tbody tr th {\n",
       "        vertical-align: top;\n",
       "    }\n",
       "\n",
       "    .dataframe thead th {\n",
       "        text-align: right;\n",
       "    }\n",
       "</style>\n",
       "<table border=\"1\" class=\"dataframe\">\n",
       "  <thead>\n",
       "    <tr style=\"text-align: right;\">\n",
       "      <th></th>\n",
       "      <th>reversible</th>\n",
       "      <th>formula</th>\n",
       "      <th>general</th>\n",
       "      <th>mapping</th>\n",
       "    </tr>\n",
       "    <tr>\n",
       "      <th>name</th>\n",
       "      <th></th>\n",
       "      <th></th>\n",
       "      <th></th>\n",
       "      <th></th>\n",
       "    </tr>\n",
       "  </thead>\n",
       "  <tbody>\n",
       "    <tr>\n",
       "      <th>Allosteric inhibition (MWC)</th>\n",
       "      <td>False</td>\n",
       "      <td>V*(substrate/Ks)*(1+(substrate/Ks))^(n-1)/(L*(...</td>\n",
       "      <td>False</td>\n",
       "      <td>{'substrate': 'substrate', 'Inhibitor': 'modif...</td>\n",
       "    </tr>\n",
       "    <tr>\n",
       "      <th>Catalytic activation (irrev)</th>\n",
       "      <td>False</td>\n",
       "      <td>V*substrate*Activator/((Kms+substrate)*(Ka+Act...</td>\n",
       "      <td>False</td>\n",
       "      <td>{'substrate': 'substrate', 'Activator': 'modif...</td>\n",
       "    </tr>\n",
       "    <tr>\n",
       "      <th>Competitive inhibition (irr)</th>\n",
       "      <td>False</td>\n",
       "      <td>V*substrate/(Km+substrate+Km*Inhibitor/Ki)</td>\n",
       "      <td>False</td>\n",
       "      <td>{'substrate': 'substrate', 'Inhibitor': 'modif...</td>\n",
       "    </tr>\n",
       "    <tr>\n",
       "      <th>Constant flux (irreversible)</th>\n",
       "      <td>False</td>\n",
       "      <td>v</td>\n",
       "      <td>False</td>\n",
       "      <td>{'v': 'parameter'}</td>\n",
       "    </tr>\n",
       "    <tr>\n",
       "      <th>Henri-Michaelis-Menten (irreversible)</th>\n",
       "      <td>False</td>\n",
       "      <td>V*substrate/(Km+substrate)</td>\n",
       "      <td>False</td>\n",
       "      <td>{'substrate': 'substrate', 'Km': 'parameter', ...</td>\n",
       "    </tr>\n",
       "    <tr>\n",
       "      <th>Hill Cooperativity</th>\n",
       "      <td>False</td>\n",
       "      <td>V*(substrate/Shalve)^h/(1+(substrate/Shalve)^h)</td>\n",
       "      <td>False</td>\n",
       "      <td>{'substrate': 'substrate', 'Shalve': 'paramete...</td>\n",
       "    </tr>\n",
       "    <tr>\n",
       "      <th>Hyperbolic modifier (irrev)</th>\n",
       "      <td>False</td>\n",
       "      <td>V*substrate*(1+b*Modifier/(a*Kd))/(Km*(1+Modif...</td>\n",
       "      <td>False</td>\n",
       "      <td>{'substrate': 'substrate', 'Modifier': 'modifi...</td>\n",
       "    </tr>\n",
       "    <tr>\n",
       "      <th>Mass action (irreversible)</th>\n",
       "      <td>False</td>\n",
       "      <td>k1*PRODUCT&lt;substrate_i&gt;</td>\n",
       "      <td>False</td>\n",
       "      <td>{'k1': 'parameter', 'substrate': 'substrate'}</td>\n",
       "    </tr>\n",
       "    <tr>\n",
       "      <th>Mixed activation (irrev)</th>\n",
       "      <td>False</td>\n",
       "      <td>V*substrate*Activator/(Kms*(Kas+Activator)+sub...</td>\n",
       "      <td>False</td>\n",
       "      <td>{'substrate': 'substrate', 'Activator': 'modif...</td>\n",
       "    </tr>\n",
       "    <tr>\n",
       "      <th>Mixed inhibition (irr)</th>\n",
       "      <td>False</td>\n",
       "      <td>V*substrate/(Km*(1+Inhibitor/Kis)+substrate*(1...</td>\n",
       "      <td>False</td>\n",
       "      <td>{'substrate': 'substrate', 'Inhibitor': 'modif...</td>\n",
       "    </tr>\n",
       "    <tr>\n",
       "      <th>Noncompetitive inhibition (irr)</th>\n",
       "      <td>False</td>\n",
       "      <td>V*substrate/((Km+substrate)*(1+Inhibitor/Ki))</td>\n",
       "      <td>False</td>\n",
       "      <td>{'substrate': 'substrate', 'Inhibitor': 'modif...</td>\n",
       "    </tr>\n",
       "    <tr>\n",
       "      <th>Specific activation (irrev)</th>\n",
       "      <td>False</td>\n",
       "      <td>V*substrate*Activator/(Kms*Ka+(Kms+substrate)*...</td>\n",
       "      <td>False</td>\n",
       "      <td>{'substrate': 'substrate', 'Activator': 'modif...</td>\n",
       "    </tr>\n",
       "    <tr>\n",
       "      <th>Substrate activation (irr)</th>\n",
       "      <td>False</td>\n",
       "      <td>V*(substrate/Ksa)^2/(1+substrate/Ksc+substrate...</td>\n",
       "      <td>False</td>\n",
       "      <td>{'substrate': 'substrate', 'V': 'parameter', '...</td>\n",
       "    </tr>\n",
       "    <tr>\n",
       "      <th>Substrate inhibition (irr)</th>\n",
       "      <td>False</td>\n",
       "      <td>V*substrate/(Km+substrate+Km*(substrate/Ki)^2)</td>\n",
       "      <td>False</td>\n",
       "      <td>{'substrate': 'substrate', 'Km': 'parameter', ...</td>\n",
       "    </tr>\n",
       "    <tr>\n",
       "      <th>Uncompetitive inhibition (irr)</th>\n",
       "      <td>False</td>\n",
       "      <td>V*substrate/(Km+substrate*(1+Inhibitor/Ki))</td>\n",
       "      <td>False</td>\n",
       "      <td>{'substrate': 'substrate', 'Inhibitor': 'modif...</td>\n",
       "    </tr>\n",
       "    <tr>\n",
       "      <th>Bi (irreversible)</th>\n",
       "      <td>False</td>\n",
       "      <td>vmax*A*B/(Kma*Kmb + A*Kmb + B*Kma + A*B)</td>\n",
       "      <td>False</td>\n",
       "      <td>{'vmax': 'parameter', 'A': 'substrate', 'B': '...</td>\n",
       "    </tr>\n",
       "    <tr>\n",
       "      <th>Arrhenius Bimolecular (irr)</th>\n",
       "      <td>False</td>\n",
       "      <td>A*exp(-Ea/(R*T))*S1*S2</td>\n",
       "      <td>False</td>\n",
       "      <td>{'A': 'parameter', 'Ea': 'parameter', 'R': 'pa...</td>\n",
       "    </tr>\n",
       "    <tr>\n",
       "      <th>Arrhenius Unimolecular (irr)</th>\n",
       "      <td>False</td>\n",
       "      <td>A*exp(-Ea/(R*T))*S</td>\n",
       "      <td>False</td>\n",
       "      <td>{'A': 'parameter', 'Ea': 'parameter', 'R': 'pa...</td>\n",
       "    </tr>\n",
       "  </tbody>\n",
       "</table>\n",
       "</div>"
      ],
      "text/plain": [
       "                                       reversible  \\\n",
       "name                                                \n",
       "Allosteric inhibition (MWC)                 False   \n",
       "Catalytic activation (irrev)                False   \n",
       "Competitive inhibition (irr)                False   \n",
       "Constant flux (irreversible)                False   \n",
       "Henri-Michaelis-Menten (irreversible)       False   \n",
       "Hill Cooperativity                          False   \n",
       "Hyperbolic modifier (irrev)                 False   \n",
       "Mass action (irreversible)                  False   \n",
       "Mixed activation (irrev)                    False   \n",
       "Mixed inhibition (irr)                      False   \n",
       "Noncompetitive inhibition (irr)             False   \n",
       "Specific activation (irrev)                 False   \n",
       "Substrate activation (irr)                  False   \n",
       "Substrate inhibition (irr)                  False   \n",
       "Uncompetitive inhibition (irr)              False   \n",
       "Bi (irreversible)                           False   \n",
       "Arrhenius Bimolecular (irr)                 False   \n",
       "Arrhenius Unimolecular (irr)                False   \n",
       "\n",
       "                                                                                 formula  \\\n",
       "name                                                                                       \n",
       "Allosteric inhibition (MWC)            V*(substrate/Ks)*(1+(substrate/Ks))^(n-1)/(L*(...   \n",
       "Catalytic activation (irrev)           V*substrate*Activator/((Kms+substrate)*(Ka+Act...   \n",
       "Competitive inhibition (irr)                  V*substrate/(Km+substrate+Km*Inhibitor/Ki)   \n",
       "Constant flux (irreversible)                                                           v   \n",
       "Henri-Michaelis-Menten (irreversible)                         V*substrate/(Km+substrate)   \n",
       "Hill Cooperativity                       V*(substrate/Shalve)^h/(1+(substrate/Shalve)^h)   \n",
       "Hyperbolic modifier (irrev)            V*substrate*(1+b*Modifier/(a*Kd))/(Km*(1+Modif...   \n",
       "Mass action (irreversible)                                       k1*PRODUCT<substrate_i>   \n",
       "Mixed activation (irrev)               V*substrate*Activator/(Kms*(Kas+Activator)+sub...   \n",
       "Mixed inhibition (irr)                 V*substrate/(Km*(1+Inhibitor/Kis)+substrate*(1...   \n",
       "Noncompetitive inhibition (irr)            V*substrate/((Km+substrate)*(1+Inhibitor/Ki))   \n",
       "Specific activation (irrev)            V*substrate*Activator/(Kms*Ka+(Kms+substrate)*...   \n",
       "Substrate activation (irr)             V*(substrate/Ksa)^2/(1+substrate/Ksc+substrate...   \n",
       "Substrate inhibition (irr)                V*substrate/(Km+substrate+Km*(substrate/Ki)^2)   \n",
       "Uncompetitive inhibition (irr)               V*substrate/(Km+substrate*(1+Inhibitor/Ki))   \n",
       "Bi (irreversible)                               vmax*A*B/(Kma*Kmb + A*Kmb + B*Kma + A*B)   \n",
       "Arrhenius Bimolecular (irr)                                       A*exp(-Ea/(R*T))*S1*S2   \n",
       "Arrhenius Unimolecular (irr)                                          A*exp(-Ea/(R*T))*S   \n",
       "\n",
       "                                       general  \\\n",
       "name                                             \n",
       "Allosteric inhibition (MWC)              False   \n",
       "Catalytic activation (irrev)             False   \n",
       "Competitive inhibition (irr)             False   \n",
       "Constant flux (irreversible)             False   \n",
       "Henri-Michaelis-Menten (irreversible)    False   \n",
       "Hill Cooperativity                       False   \n",
       "Hyperbolic modifier (irrev)              False   \n",
       "Mass action (irreversible)               False   \n",
       "Mixed activation (irrev)                 False   \n",
       "Mixed inhibition (irr)                   False   \n",
       "Noncompetitive inhibition (irr)          False   \n",
       "Specific activation (irrev)              False   \n",
       "Substrate activation (irr)               False   \n",
       "Substrate inhibition (irr)               False   \n",
       "Uncompetitive inhibition (irr)           False   \n",
       "Bi (irreversible)                        False   \n",
       "Arrhenius Bimolecular (irr)              False   \n",
       "Arrhenius Unimolecular (irr)             False   \n",
       "\n",
       "                                                                                 mapping  \n",
       "name                                                                                      \n",
       "Allosteric inhibition (MWC)            {'substrate': 'substrate', 'Inhibitor': 'modif...  \n",
       "Catalytic activation (irrev)           {'substrate': 'substrate', 'Activator': 'modif...  \n",
       "Competitive inhibition (irr)           {'substrate': 'substrate', 'Inhibitor': 'modif...  \n",
       "Constant flux (irreversible)                                          {'v': 'parameter'}  \n",
       "Henri-Michaelis-Menten (irreversible)  {'substrate': 'substrate', 'Km': 'parameter', ...  \n",
       "Hill Cooperativity                     {'substrate': 'substrate', 'Shalve': 'paramete...  \n",
       "Hyperbolic modifier (irrev)            {'substrate': 'substrate', 'Modifier': 'modifi...  \n",
       "Mass action (irreversible)                 {'k1': 'parameter', 'substrate': 'substrate'}  \n",
       "Mixed activation (irrev)               {'substrate': 'substrate', 'Activator': 'modif...  \n",
       "Mixed inhibition (irr)                 {'substrate': 'substrate', 'Inhibitor': 'modif...  \n",
       "Noncompetitive inhibition (irr)        {'substrate': 'substrate', 'Inhibitor': 'modif...  \n",
       "Specific activation (irrev)            {'substrate': 'substrate', 'Activator': 'modif...  \n",
       "Substrate activation (irr)             {'substrate': 'substrate', 'V': 'parameter', '...  \n",
       "Substrate inhibition (irr)             {'substrate': 'substrate', 'Km': 'parameter', ...  \n",
       "Uncompetitive inhibition (irr)         {'substrate': 'substrate', 'Inhibitor': 'modif...  \n",
       "Bi (irreversible)                      {'vmax': 'parameter', 'A': 'substrate', 'B': '...  \n",
       "Arrhenius Bimolecular (irr)            {'A': 'parameter', 'Ea': 'parameter', 'R': 'pa...  \n",
       "Arrhenius Unimolecular (irr)           {'A': 'parameter', 'Ea': 'parameter', 'R': 'pa...  "
      ]
     },
     "execution_count": 15,
     "metadata": {},
     "output_type": "execute_result"
    }
   ],
   "source": [
    "get_functions(reversible=False)"
   ]
  },
  {
   "cell_type": "markdown",
   "metadata": {},
   "source": [
    "So lets change the kinetic function that our reaction should use. Here we simply specify the function name that we got from the call before. This will introduce new local parameters, for `Km` and `Vmax` to the model. (We of course could have used the function parameter already add the `add_reaction` command above. "
   ]
  },
  {
   "cell_type": "code",
   "execution_count": 16,
   "metadata": {},
   "outputs": [],
   "source": [
    "set_reaction('R1', function='Henri-Michaelis-Menten (irreversible)')"
   ]
  },
  {
   "cell_type": "code",
   "execution_count": 17,
   "metadata": {},
   "outputs": [
    {
     "data": {
      "text/html": [
       "<div>\n",
       "<style scoped>\n",
       "    .dataframe tbody tr th:only-of-type {\n",
       "        vertical-align: middle;\n",
       "    }\n",
       "\n",
       "    .dataframe tbody tr th {\n",
       "        vertical-align: top;\n",
       "    }\n",
       "\n",
       "    .dataframe thead th {\n",
       "        text-align: right;\n",
       "    }\n",
       "</style>\n",
       "<table border=\"1\" class=\"dataframe\">\n",
       "  <thead>\n",
       "    <tr style=\"text-align: right;\">\n",
       "      <th></th>\n",
       "      <th>scheme</th>\n",
       "      <th>flux</th>\n",
       "      <th>particle_flux</th>\n",
       "      <th>function</th>\n",
       "      <th>key</th>\n",
       "      <th>sbml_id</th>\n",
       "      <th>mapping</th>\n",
       "    </tr>\n",
       "    <tr>\n",
       "      <th>name</th>\n",
       "      <th></th>\n",
       "      <th></th>\n",
       "      <th></th>\n",
       "      <th></th>\n",
       "      <th></th>\n",
       "      <th></th>\n",
       "      <th></th>\n",
       "    </tr>\n",
       "  </thead>\n",
       "  <tbody>\n",
       "    <tr>\n",
       "      <th>R1</th>\n",
       "      <td>A -&gt; B</td>\n",
       "      <td>0.0</td>\n",
       "      <td>0.0</td>\n",
       "      <td>Henri-Michaelis-Menten (irreversible)</td>\n",
       "      <td>Reaction_0</td>\n",
       "      <td></td>\n",
       "      <td>{'substrate': 'A', 'Km': 0.1, 'V': 0.1}</td>\n",
       "    </tr>\n",
       "  </tbody>\n",
       "</table>\n",
       "</div>"
      ],
      "text/plain": [
       "      scheme  flux  particle_flux                               function  \\\n",
       "name                                                                       \n",
       "R1    A -> B   0.0            0.0  Henri-Michaelis-Menten (irreversible)   \n",
       "\n",
       "             key sbml_id                                  mapping  \n",
       "name                                                               \n",
       "R1    Reaction_0          {'substrate': 'A', 'Km': 0.1, 'V': 0.1}  "
      ]
     },
     "execution_count": 17,
     "metadata": {},
     "output_type": "execute_result"
    }
   ],
   "source": [
    "get_reactions()"
   ]
  },
  {
   "cell_type": "code",
   "execution_count": 18,
   "metadata": {},
   "outputs": [
    {
     "data": {
      "text/html": [
       "<div>\n",
       "<style scoped>\n",
       "    .dataframe tbody tr th:only-of-type {\n",
       "        vertical-align: middle;\n",
       "    }\n",
       "\n",
       "    .dataframe tbody tr th {\n",
       "        vertical-align: top;\n",
       "    }\n",
       "\n",
       "    .dataframe thead th {\n",
       "        text-align: right;\n",
       "    }\n",
       "</style>\n",
       "<table border=\"1\" class=\"dataframe\">\n",
       "  <thead>\n",
       "    <tr style=\"text-align: right;\">\n",
       "      <th></th>\n",
       "      <th>value</th>\n",
       "      <th>reaction</th>\n",
       "      <th>type</th>\n",
       "      <th>mapped_to</th>\n",
       "    </tr>\n",
       "    <tr>\n",
       "      <th>name</th>\n",
       "      <th></th>\n",
       "      <th></th>\n",
       "      <th></th>\n",
       "      <th></th>\n",
       "    </tr>\n",
       "  </thead>\n",
       "  <tbody>\n",
       "    <tr>\n",
       "      <th>(R1).Km</th>\n",
       "      <td>0.1</td>\n",
       "      <td>R1</td>\n",
       "      <td>local</td>\n",
       "      <td></td>\n",
       "    </tr>\n",
       "    <tr>\n",
       "      <th>(R1).V</th>\n",
       "      <td>0.1</td>\n",
       "      <td>R1</td>\n",
       "      <td>local</td>\n",
       "      <td></td>\n",
       "    </tr>\n",
       "  </tbody>\n",
       "</table>\n",
       "</div>"
      ],
      "text/plain": [
       "         value reaction   type mapped_to\n",
       "name                                    \n",
       "(R1).Km    0.1       R1  local          \n",
       "(R1).V     0.1       R1  local          "
      ]
     },
     "execution_count": 18,
     "metadata": {},
     "output_type": "execute_result"
    }
   ],
   "source": [
    "get_reaction_parameters()"
   ]
  },
  {
   "cell_type": "markdown",
   "metadata": {},
   "source": [
    "and now we can look at how the plot would look at repeating the simulation for several vmax values: "
   ]
  },
  {
   "cell_type": "code",
   "execution_count": 19,
   "metadata": {},
   "outputs": [
    {
     "data": {
      "image/png": "[encoded data removed]",
      "text/plain": [
       "<Figure size 640x480 with 1 Axes>"
      ]
     },
     "metadata": {},
     "output_type": "display_data"
    }
   ],
   "source": [
    "fig, ax = plt.subplots()\n",
    "for vm in [0.1, 0.5, 3]:\n",
    "    set_reaction_parameters('(R1).V', value=vm)\n",
    "    result = run_time_course(duration=10, method='deterministic', use_numbers=True)\n",
    "    result.plot(y='A', color='r', ax=ax, legend=None);\n",
    "    result.plot(y='B', color='b', ax=ax, legend=None);"
   ]
  }
 ],
 "metadata": {
  "kernelspec": {
   "display_name": "Python 3 (ipykernel)",
   "language": "python",
   "name": "python3"
  },
  "language_info": {
   "codemirror_mode": {
    "name": "ipython",
    "version": 3
   },
   "file_extension": ".py",
   "mimetype": "text/x-python",
   "name": "python",
   "nbconvert_exporter": "python",
   "pygments_lexer": "ipython3",
   "version": "3.11.3"
  }
 },
 "nbformat": 4,
 "nbformat_minor": 4
}
