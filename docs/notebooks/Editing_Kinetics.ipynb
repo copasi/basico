{
 "cells": [
  {
   "cell_type": "markdown",
   "id": "ac7fdcca",
   "metadata": {},
   "source": [
    "## Editing reaction kinetics\n",
    "Previous examples showed how to create models using basico, and using kinetic functions from the reaction database. Here, I want to expand on that showing how to map kinetic functions to reactions involving modifiers as well. Lets start as usual by importing basico: "
   ]
  },
  {
   "cell_type": "code",
   "execution_count": 1,
   "id": "51e4b06a",
   "metadata": {},
   "outputs": [],
   "source": [
    "from basico import *"
   ]
  },
  {
   "cell_type": "markdown",
   "id": "624e263a",
   "metadata": {},
   "source": [
    "now lets create a new model: "
   ]
  },
  {
   "cell_type": "code",
   "execution_count": 2,
   "id": "03e06c2e",
   "metadata": {},
   "outputs": [],
   "source": [
    "new_model(name='Reactions');"
   ]
  },
  {
   "cell_type": "markdown",
   "id": "8ccddfb5",
   "metadata": {},
   "source": [
    "we know we can create a reaction, by using the `add_reaction` command. It requires at the very least two arguments: \n",
    "\n",
    "* `name`: the name of the reaction\n",
    "* `scheme`: the reaction scheme\n",
    "\n",
    "If nothing else is specified, this will create the reaction with the given `name` and reaction `scheme`, assigning it mass action kinetics with local parameters defaulting to a value of `0.1`. All species will be created if they do not exist yet in the model. For example: "
   ]
  },
  {
   "cell_type": "code",
   "execution_count": 3,
   "id": "6fb13e49",
   "metadata": {},
   "outputs": [],
   "source": [
    "add_reaction('R1', 'A -> B');"
   ]
  },
  {
   "cell_type": "markdown",
   "id": "a759d106",
   "metadata": {},
   "source": [
    "creates the reaction `R1`, species `A` and `B` and a local parameter `(R1).k1`. With `get_reactions` we can have a look at what was created: "
   ]
  },
  {
   "cell_type": "code",
   "execution_count": 4,
   "id": "f4105b56",
   "metadata": {},
   "outputs": [
    {
     "data": {
      "text/html": [
       "<div>\n",
       "<style scoped>\n",
       "    .dataframe tbody tr th:only-of-type {\n",
       "        vertical-align: middle;\n",
       "    }\n",
       "\n",
       "    .dataframe tbody tr th {\n",
       "        vertical-align: top;\n",
       "    }\n",
       "\n",
       "    .dataframe thead th {\n",
       "        text-align: right;\n",
       "    }\n",
       "</style>\n",
       "<table border=\"1\" class=\"dataframe\">\n",
       "  <thead>\n",
       "    <tr style=\"text-align: right;\">\n",
       "      <th></th>\n",
       "      <th>scheme</th>\n",
       "      <th>function</th>\n",
       "      <th>mapping</th>\n",
       "    </tr>\n",
       "    <tr>\n",
       "      <th>name</th>\n",
       "      <th></th>\n",
       "      <th></th>\n",
       "      <th></th>\n",
       "    </tr>\n",
       "  </thead>\n",
       "  <tbody>\n",
       "    <tr>\n",
       "      <th>R1</th>\n",
       "      <td>A -&gt; B</td>\n",
       "      <td>Mass action (irreversible)</td>\n",
       "      <td>{'k1': 0.1, 'substrate': 'A'}</td>\n",
       "    </tr>\n",
       "  </tbody>\n",
       "</table>\n",
       "</div>"
      ],
      "text/plain": [
       "      scheme                    function                        mapping\n",
       "name                                                                   \n",
       "R1    A -> B  Mass action (irreversible)  {'k1': 0.1, 'substrate': 'A'}"
      ]
     },
     "execution_count": 4,
     "metadata": {},
     "output_type": "execute_result"
    }
   ],
   "source": [
    "get_reactions()[['scheme', 'function', 'mapping']]"
   ]
  },
  {
   "cell_type": "markdown",
   "id": "153c334b",
   "metadata": {},
   "source": [
    "here I want to point out, the `mapping` column. It shows that the parameter `k1` is a local one, as it is mapped to a value. And that the substrate of the function is mapped to `A`. We can specify the mapping directly in the `add_reaction` call, or we can specify it using `set_reaction`. So for example, if we wanted to modify the reaction, to map the reactions `k1` parameter to a global quantity `global_k`, we could to that as follows: "
   ]
  },
  {
   "cell_type": "code",
   "execution_count": 5,
   "id": "96f852a4",
   "metadata": {},
   "outputs": [],
   "source": [
    "add_parameter(name='global_k', initial_value=0.2)\n",
    "set_reaction('R1', mapping={'k1': 'global_k'})"
   ]
  },
  {
   "cell_type": "code",
   "execution_count": 6,
   "id": "63ecea1e",
   "metadata": {},
   "outputs": [
    {
     "data": {
      "text/html": [
       "<div>\n",
       "<style scoped>\n",
       "    .dataframe tbody tr th:only-of-type {\n",
       "        vertical-align: middle;\n",
       "    }\n",
       "\n",
       "    .dataframe tbody tr th {\n",
       "        vertical-align: top;\n",
       "    }\n",
       "\n",
       "    .dataframe thead th {\n",
       "        text-align: right;\n",
       "    }\n",
       "</style>\n",
       "<table border=\"1\" class=\"dataframe\">\n",
       "  <thead>\n",
       "    <tr style=\"text-align: right;\">\n",
       "      <th></th>\n",
       "      <th>scheme</th>\n",
       "      <th>function</th>\n",
       "      <th>mapping</th>\n",
       "    </tr>\n",
       "    <tr>\n",
       "      <th>name</th>\n",
       "      <th></th>\n",
       "      <th></th>\n",
       "      <th></th>\n",
       "    </tr>\n",
       "  </thead>\n",
       "  <tbody>\n",
       "    <tr>\n",
       "      <th>R1</th>\n",
       "      <td>A -&gt; B</td>\n",
       "      <td>Mass action (irreversible)</td>\n",
       "      <td>{'k1': 'global_k', 'substrate': 'A'}</td>\n",
       "    </tr>\n",
       "  </tbody>\n",
       "</table>\n",
       "</div>"
      ],
      "text/plain": [
       "      scheme                    function                               mapping\n",
       "name                                                                          \n",
       "R1    A -> B  Mass action (irreversible)  {'k1': 'global_k', 'substrate': 'A'}"
      ]
     },
     "execution_count": 6,
     "metadata": {},
     "output_type": "execute_result"
    }
   ],
   "source": [
    "get_reactions()[['scheme', 'function', 'mapping']]"
   ]
  },
  {
   "cell_type": "markdown",
   "id": "bb2b7277",
   "metadata": {},
   "source": [
    "next let us assume, i wanted to use a kinetic from the function database, that includes inhibition for the reaction. Using `get_functions` we can filter the functiondatabase, for suitable functions for our reaction, and then filter for ones that contain inhibition: "
   ]
  },
  {
   "cell_type": "code",
   "execution_count": 7,
   "id": "7b433631",
   "metadata": {},
   "outputs": [
    {
     "data": {
      "text/html": [
       "<div>\n",
       "<style scoped>\n",
       "    .dataframe tbody tr th:only-of-type {\n",
       "        vertical-align: middle;\n",
       "    }\n",
       "\n",
       "    .dataframe tbody tr th {\n",
       "        vertical-align: top;\n",
       "    }\n",
       "\n",
       "    .dataframe thead th {\n",
       "        text-align: right;\n",
       "    }\n",
       "</style>\n",
       "<table border=\"1\" class=\"dataframe\">\n",
       "  <thead>\n",
       "    <tr style=\"text-align: right;\">\n",
       "      <th></th>\n",
       "      <th>formula</th>\n",
       "      <th>mapping</th>\n",
       "    </tr>\n",
       "    <tr>\n",
       "      <th>name</th>\n",
       "      <th></th>\n",
       "      <th></th>\n",
       "    </tr>\n",
       "  </thead>\n",
       "  <tbody>\n",
       "    <tr>\n",
       "      <th>Allosteric inhibition (MWC)</th>\n",
       "      <td>V*(substrate/Ks)*(1+(substrate/Ks))^(n-1)/(L*(...</td>\n",
       "      <td>{'substrate': 'substrate', 'Inhibitor': 'modif...</td>\n",
       "    </tr>\n",
       "    <tr>\n",
       "      <th>Competitive inhibition (irr)</th>\n",
       "      <td>V*substrate/(Km+substrate+Km*Inhibitor/Ki)</td>\n",
       "      <td>{'substrate': 'substrate', 'Inhibitor': 'modif...</td>\n",
       "    </tr>\n",
       "    <tr>\n",
       "      <th>Mixed inhibition (irr)</th>\n",
       "      <td>V*substrate/(Km*(1+Inhibitor/Kis)+substrate*(1...</td>\n",
       "      <td>{'substrate': 'substrate', 'Inhibitor': 'modif...</td>\n",
       "    </tr>\n",
       "    <tr>\n",
       "      <th>Noncompetitive inhibition (irr)</th>\n",
       "      <td>V*substrate/((Km+substrate)*(1+Inhibitor/Ki))</td>\n",
       "      <td>{'substrate': 'substrate', 'Inhibitor': 'modif...</td>\n",
       "    </tr>\n",
       "    <tr>\n",
       "      <th>Substrate inhibition (irr)</th>\n",
       "      <td>V*substrate/(Km+substrate+Km*(substrate/Ki)^2)</td>\n",
       "      <td>{'substrate': 'substrate', 'Km': 'parameter', ...</td>\n",
       "    </tr>\n",
       "    <tr>\n",
       "      <th>Uncompetitive inhibition (irr)</th>\n",
       "      <td>V*substrate/(Km+substrate*(1+Inhibitor/Ki))</td>\n",
       "      <td>{'substrate': 'substrate', 'Inhibitor': 'modif...</td>\n",
       "    </tr>\n",
       "  </tbody>\n",
       "</table>\n",
       "</div>"
      ],
      "text/plain": [
       "                                                                           formula  \\\n",
       "name                                                                                 \n",
       "Allosteric inhibition (MWC)      V*(substrate/Ks)*(1+(substrate/Ks))^(n-1)/(L*(...   \n",
       "Competitive inhibition (irr)            V*substrate/(Km+substrate+Km*Inhibitor/Ki)   \n",
       "Mixed inhibition (irr)           V*substrate/(Km*(1+Inhibitor/Kis)+substrate*(1...   \n",
       "Noncompetitive inhibition (irr)      V*substrate/((Km+substrate)*(1+Inhibitor/Ki))   \n",
       "Substrate inhibition (irr)          V*substrate/(Km+substrate+Km*(substrate/Ki)^2)   \n",
       "Uncompetitive inhibition (irr)         V*substrate/(Km+substrate*(1+Inhibitor/Ki))   \n",
       "\n",
       "                                                                           mapping  \n",
       "name                                                                                \n",
       "Allosteric inhibition (MWC)      {'substrate': 'substrate', 'Inhibitor': 'modif...  \n",
       "Competitive inhibition (irr)     {'substrate': 'substrate', 'Inhibitor': 'modif...  \n",
       "Mixed inhibition (irr)           {'substrate': 'substrate', 'Inhibitor': 'modif...  \n",
       "Noncompetitive inhibition (irr)  {'substrate': 'substrate', 'Inhibitor': 'modif...  \n",
       "Substrate inhibition (irr)       {'substrate': 'substrate', 'Km': 'parameter', ...  \n",
       "Uncompetitive inhibition (irr)   {'substrate': 'substrate', 'Inhibitor': 'modif...  "
      ]
     },
     "execution_count": 7,
     "metadata": {},
     "output_type": "execute_result"
    }
   ],
   "source": [
    "suitable_functions = get_functions(suitable_for='R1')[['formula', 'mapping']]\n",
    "suitable_inhibitions = suitable_functions[suitable_functions.index.str.contains('inhibition')]\n",
    "suitable_inhibitions"
   ]
  },
  {
   "cell_type": "markdown",
   "id": "6aceb40d",
   "metadata": {},
   "source": [
    "let us use `Allosteric inhibition (MWC)` here, lets have a look at the formula and the mapping table: "
   ]
  },
  {
   "cell_type": "code",
   "execution_count": 8,
   "id": "39678fd6",
   "metadata": {},
   "outputs": [
    {
     "data": {
      "text/plain": [
       "{'name': 'Allosteric inhibition (MWC)',\n",
       " 'formula': 'V*(substrate/Ks)*(1+(substrate/Ks))^(n-1)/(L*(1+Inhibitor/Ki)^n+(1+(substrate/Ks))^n)',\n",
       " 'mapping': {'substrate': 'substrate',\n",
       "  'Inhibitor': 'modifier',\n",
       "  'V': 'parameter',\n",
       "  'Ks': 'parameter',\n",
       "  'n': 'parameter',\n",
       "  'L': 'parameter',\n",
       "  'Ki': 'parameter'}}"
      ]
     },
     "execution_count": 8,
     "metadata": {},
     "output_type": "execute_result"
    }
   ],
   "source": [
    "as_dict(suitable_inhibitions)[0]"
   ]
  },
  {
   "cell_type": "markdown",
   "id": "2e21b9e9",
   "metadata": {},
   "source": [
    "since this function requires a modifier, we also change the reaction scheme to include a modifier. This is done by adding a semicolon at the end of the reaction scheme, and listing the modifiers space separated there. Then we an assign that function directly. "
   ]
  },
  {
   "cell_type": "code",
   "execution_count": 9,
   "id": "3573e0d7",
   "metadata": {},
   "outputs": [
    {
     "data": {
      "text/html": [
       "<div>\n",
       "<style scoped>\n",
       "    .dataframe tbody tr th:only-of-type {\n",
       "        vertical-align: middle;\n",
       "    }\n",
       "\n",
       "    .dataframe tbody tr th {\n",
       "        vertical-align: top;\n",
       "    }\n",
       "\n",
       "    .dataframe thead th {\n",
       "        text-align: right;\n",
       "    }\n",
       "</style>\n",
       "<table border=\"1\" class=\"dataframe\">\n",
       "  <thead>\n",
       "    <tr style=\"text-align: right;\">\n",
       "      <th></th>\n",
       "      <th>scheme</th>\n",
       "      <th>function</th>\n",
       "      <th>mapping</th>\n",
       "    </tr>\n",
       "    <tr>\n",
       "      <th>name</th>\n",
       "      <th></th>\n",
       "      <th></th>\n",
       "      <th></th>\n",
       "    </tr>\n",
       "  </thead>\n",
       "  <tbody>\n",
       "    <tr>\n",
       "      <th>R1</th>\n",
       "      <td>A -&gt; B;  C</td>\n",
       "      <td>Allosteric inhibition (MWC)</td>\n",
       "      <td>{'substrate': 'A', 'Inhibitor': 'C', 'V': 0.1,...</td>\n",
       "    </tr>\n",
       "  </tbody>\n",
       "</table>\n",
       "</div>"
      ],
      "text/plain": [
       "          scheme                     function  \\\n",
       "name                                            \n",
       "R1    A -> B;  C  Allosteric inhibition (MWC)   \n",
       "\n",
       "                                                mapping  \n",
       "name                                                     \n",
       "R1    {'substrate': 'A', 'Inhibitor': 'C', 'V': 0.1,...  "
      ]
     },
     "execution_count": 9,
     "metadata": {},
     "output_type": "execute_result"
    }
   ],
   "source": [
    "set_reaction('R1', scheme='A -> B; C', function='Allosteric inhibition (MWC)')\n",
    "get_reactions()[['scheme', 'function', 'mapping']]"
   ]
  },
  {
   "cell_type": "markdown",
   "id": "5e67bcbb",
   "metadata": {},
   "source": [
    "*Note:* that here, the mapping is not necessary, as the function has only one modifier, had we multiple modifiers defined, then we'd want to specify the mapping dictionary and map the `Inhibitor` to the respective modifier in our reaction scheme: "
   ]
  },
  {
   "cell_type": "code",
   "execution_count": 10,
   "id": "97c24b0b",
   "metadata": {},
   "outputs": [
    {
     "data": {
      "text/html": [
       "<div>\n",
       "<style scoped>\n",
       "    .dataframe tbody tr th:only-of-type {\n",
       "        vertical-align: middle;\n",
       "    }\n",
       "\n",
       "    .dataframe tbody tr th {\n",
       "        vertical-align: top;\n",
       "    }\n",
       "\n",
       "    .dataframe thead th {\n",
       "        text-align: right;\n",
       "    }\n",
       "</style>\n",
       "<table border=\"1\" class=\"dataframe\">\n",
       "  <thead>\n",
       "    <tr style=\"text-align: right;\">\n",
       "      <th></th>\n",
       "      <th>scheme</th>\n",
       "      <th>function</th>\n",
       "      <th>mapping</th>\n",
       "    </tr>\n",
       "    <tr>\n",
       "      <th>name</th>\n",
       "      <th></th>\n",
       "      <th></th>\n",
       "      <th></th>\n",
       "    </tr>\n",
       "  </thead>\n",
       "  <tbody>\n",
       "    <tr>\n",
       "      <th>R1</th>\n",
       "      <td>A -&gt; B;  D</td>\n",
       "      <td>Allosteric inhibition (MWC)</td>\n",
       "      <td>{'substrate': 'A', 'Inhibitor': 'D', 'V': 0.1,...</td>\n",
       "    </tr>\n",
       "  </tbody>\n",
       "</table>\n",
       "</div>"
      ],
      "text/plain": [
       "          scheme                     function  \\\n",
       "name                                            \n",
       "R1    A -> B;  D  Allosteric inhibition (MWC)   \n",
       "\n",
       "                                                mapping  \n",
       "name                                                     \n",
       "R1    {'substrate': 'A', 'Inhibitor': 'D', 'V': 0.1,...  "
      ]
     },
     "execution_count": 10,
     "metadata": {},
     "output_type": "execute_result"
    }
   ],
   "source": [
    "set_reaction('R1', scheme='A -> B; C D', function='Allosteric inhibition (MWC)', mapping={'Inhibitor': 'D'})\n",
    "get_reactions()[['scheme', 'function', 'mapping']]"
   ]
  },
  {
   "cell_type": "markdown",
   "id": "a36fb78b",
   "metadata": {},
   "source": [
    "*Note:* Assigning a function that uses modifiers, *requires* that modifiers are present in the reaction scheme. So assigning the function above would fail with error, if no modifier is declared: "
   ]
  },
  {
   "cell_type": "code",
   "execution_count": 11,
   "id": "2b86b131",
   "metadata": {},
   "outputs": [
    {
     "name": "stderr",
     "output_type": "stream",
     "text": [
      "ERROR:root:the mapping for reaction \"error\" with function \"Allosteric inhibition (MWC)\" is not valid and cannot be applied.\n"
     ]
    }
   ],
   "source": [
    "add_reaction('error', scheme='A -> B', function='Allosteric inhibition (MWC)');"
   ]
  }
 ],
 "metadata": {
  "kernelspec": {
   "display_name": "Python 3 (ipykernel)",
   "language": "python",
   "name": "python3"
  },
  "language_info": {
   "codemirror_mode": {
    "name": "ipython",
    "version": 3
   },
   "file_extension": ".py",
   "mimetype": "text/x-python",
   "name": "python",
   "nbconvert_exporter": "python",
   "pygments_lexer": "ipython3",
   "version": "3.10.4"
  }
 },
 "nbformat": 4,
 "nbformat_minor": 5
}
