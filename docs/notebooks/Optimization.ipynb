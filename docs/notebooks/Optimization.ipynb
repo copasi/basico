{
 "cells": [
  {
   "cell_type": "markdown",
   "id": "71741e82",
   "metadata": {},
   "source": [
    "## Optimization\n",
    "This notebook walks through the steps of setting up / running optimizations using basico. We start as usual: "
   ]
  },
  {
   "cell_type": "code",
   "execution_count": 1,
   "id": "14e22e8e",
   "metadata": {},
   "outputs": [],
   "source": [
    "from basico import *"
   ]
  },
  {
   "cell_type": "markdown",
   "id": "6fb7feb4",
   "metadata": {},
   "source": [
    "### Model\n",
    "The first step is to load a model (this can be done as usual using `load_model`, `load_biomodel` or by `load_example`) or create a new one. Here I'll create one with a typical optimization problem, the himmelblau function: \n",
    "\n",
    "$$ f(x,y) = (x^2 + y - 11)^2 + (x + y^2 -7)^2$$\n",
    "    \n",
    "In basico this is easily done using global parameters for x and y, and then an assignment for the function"
   ]
  },
  {
   "cell_type": "code",
   "execution_count": 2,
   "id": "adf95067",
   "metadata": {},
   "outputs": [],
   "source": [
    "new_model(name=\"Himmelblau\", \n",
    "          notes=\"\"\"A model implementing the himmelau function\n",
    "          \n",
    "          Maxima is known to be at (-0.270845, -0.923039) with\n",
    "          max value 181.617\n",
    "          \n",
    "          4 Minima: (3,2), (-2.805118, 3.131313), \n",
    "                    (-3.779310, -3.2383186), \n",
    "                    (3.584428, -1.848126) with value 0\n",
    "          \n",
    "          \"\"\");"
   ]
  },
  {
   "cell_type": "code",
   "execution_count": 3,
   "id": "45355a98",
   "metadata": {},
   "outputs": [],
   "source": [
    "add_parameter('x', initial_value=0)\n",
    "add_parameter('y', initial_value=0)\n",
    "add_parameter('f', type='assignment', \n",
    "              expression='({Values[x].InitialValue}^2+{Values[y].InitialValue}-11)^2+({Values[x].InitialValue}+{Values[y].InitialValue}^2-7)^2');"
   ]
  },
  {
   "cell_type": "markdown",
   "id": "b927028d",
   "metadata": {},
   "source": [
    "### The Setup\n",
    "Now we setup the parameters to be varied during the optimization. For each item we need to specify, what to vary, as well as the lower and upper bounds. The utility function `get_opt_item_template` allows to retrieve all the global / local parameters and sets default bounds: "
   ]
  },
  {
   "cell_type": "code",
   "execution_count": 4,
   "id": "1d9f6c15",
   "metadata": {},
   "outputs": [
    {
     "data": {
      "text/plain": [
       "[{'name': 'Values[x].InitialValue', 'lower': -1, 'upper': 1000, 'start': 0.0},\n",
       " {'name': 'Values[y].InitialValue', 'lower': -1, 'upper': 1000, 'start': 0.0}]"
      ]
     },
     "execution_count": 4,
     "metadata": {},
     "output_type": "execute_result"
    }
   ],
   "source": [
    "get_opt_item_template(include_global=True, default_lb=-1)"
   ]
  },
  {
   "cell_type": "markdown",
   "id": "f0434474",
   "metadata": {},
   "source": [
    "lets use them: "
   ]
  },
  {
   "cell_type": "code",
   "execution_count": 5,
   "id": "d1f5f445",
   "metadata": {},
   "outputs": [],
   "source": [
    "set_opt_parameters(get_opt_item_template(include_global=True, default_lb=-1))"
   ]
  },
  {
   "cell_type": "markdown",
   "id": "e94aa6fb",
   "metadata": {},
   "source": [
    "the next thing is to set up the objective function. Any expression with the names of model elements will work, here we want to minimize the value of the global parameter `f`: "
   ]
  },
  {
   "cell_type": "code",
   "execution_count": 6,
   "id": "ddeba0b9",
   "metadata": {},
   "outputs": [],
   "source": [
    "set_objective_function(expression='Values[f].InitialValue', minimize=True)"
   ]
  },
  {
   "cell_type": "markdown",
   "id": "3bfd823e",
   "metadata": {},
   "source": [
    "additional settings can be modified using `set_opt_settings`, such as specifying the method to be used and their parameters: "
   ]
  },
  {
   "cell_type": "code",
   "execution_count": 7,
   "id": "ef9c76d1",
   "metadata": {},
   "outputs": [],
   "source": [
    "set_opt_settings(settings={\n",
    "    'subtask': T.TIME_COURSE,\n",
    "    'method': {\n",
    "        'name': PE.LEVENBERG_MARQUARDT\n",
    "}})"
   ]
  },
  {
   "cell_type": "markdown",
   "id": "5d28a839",
   "metadata": {},
   "source": [
    "to verify the setup you can use `get_opt_parameters` to retrieve all the parameters and bounds and `get_opt_settings` to retrieve all settings:"
   ]
  },
  {
   "cell_type": "code",
   "execution_count": 8,
   "id": "41006d61",
   "metadata": {},
   "outputs": [
    {
     "data": {
      "text/plain": [
       "{'scheduled': False,\n",
       " 'update_model': False,\n",
       " 'problem': {'Maximize': False,\n",
       "  'Randomize Start Values': False,\n",
       "  'Calculate Statistics': True},\n",
       " 'method': {'Iteration Limit': 2000,\n",
       "  'Tolerance': 1e-06,\n",
       "  'name': 'Levenberg - Marquardt'},\n",
       " 'report': {'filename': '',\n",
       "  'report_definition': 'Optimization',\n",
       "  'append': True,\n",
       "  'confirm_overwrite': True},\n",
       " 'expression': 'Values[f].InitialValue',\n",
       " 'subtask': 'Time-Course'}"
      ]
     },
     "execution_count": 8,
     "metadata": {},
     "output_type": "execute_result"
    }
   ],
   "source": [
    "get_opt_settings()"
   ]
  },
  {
   "cell_type": "markdown",
   "id": "4c4bae04",
   "metadata": {},
   "source": [
    "### Running the optimization\n",
    "Now that everything is set up, we can simply run the optimization: "
   ]
  },
  {
   "cell_type": "code",
   "execution_count": 9,
   "id": "d1301426",
   "metadata": {},
   "outputs": [
    {
     "data": {
      "text/html": [
       "<div>\n",
       "<style scoped>\n",
       "    .dataframe tbody tr th:only-of-type {\n",
       "        vertical-align: middle;\n",
       "    }\n",
       "\n",
       "    .dataframe tbody tr th {\n",
       "        vertical-align: top;\n",
       "    }\n",
       "\n",
       "    .dataframe thead th {\n",
       "        text-align: right;\n",
       "    }\n",
       "</style>\n",
       "<table border=\"1\" class=\"dataframe\">\n",
       "  <thead>\n",
       "    <tr style=\"text-align: right;\">\n",
       "      <th></th>\n",
       "      <th>lower</th>\n",
       "      <th>upper</th>\n",
       "      <th>sol</th>\n",
       "    </tr>\n",
       "    <tr>\n",
       "      <th>name</th>\n",
       "      <th></th>\n",
       "      <th></th>\n",
       "      <th></th>\n",
       "    </tr>\n",
       "  </thead>\n",
       "  <tbody>\n",
       "    <tr>\n",
       "      <th>Values[x]</th>\n",
       "      <td>-1</td>\n",
       "      <td>1000</td>\n",
       "      <td>2.999999</td>\n",
       "    </tr>\n",
       "    <tr>\n",
       "      <th>Values[y]</th>\n",
       "      <td>-1</td>\n",
       "      <td>1000</td>\n",
       "      <td>2.000000</td>\n",
       "    </tr>\n",
       "  </tbody>\n",
       "</table>\n",
       "</div>"
      ],
      "text/plain": [
       "          lower upper       sol\n",
       "name                           \n",
       "Values[x]    -1  1000  2.999999\n",
       "Values[y]    -1  1000  2.000000"
      ]
     },
     "execution_count": 9,
     "metadata": {},
     "output_type": "execute_result"
    }
   ],
   "source": [
    "run_optimization()"
   ]
  },
  {
   "cell_type": "markdown",
   "id": "c840f883",
   "metadata": {},
   "source": [
    "we got close to one of the minima, to see more information about the run, you can use: "
   ]
  },
  {
   "cell_type": "code",
   "execution_count": 10,
   "id": "47d3e5dc",
   "metadata": {},
   "outputs": [
    {
     "data": {
      "text/plain": [
       "{'obj': 8.352969862744543e-11,\n",
       " 'f_evals': 321,\n",
       " 'failed_evals_exception': 0,\n",
       " 'failed_evals_nan': 0,\n",
       " 'constraint_evals': 0,\n",
       " 'failed_constraint_evals': 0,\n",
       " 'cpu_time': 0.001112,\n",
       " 'evals_per_sec': 3.46417445482866e-06}"
      ]
     },
     "execution_count": 10,
     "metadata": {},
     "output_type": "execute_result"
    }
   ],
   "source": [
    "get_opt_statistic()"
   ]
  },
  {
   "cell_type": "markdown",
   "id": "a91f66c9",
   "metadata": {},
   "source": [
    "### Customn Output\n",
    "normally when you run an optimization `run_optimization` will return a data frame of the best parameters found, just as when you run `get_opt_solution`. So, since we get to the results in any case, there is an optional parameter that you can pass to `run_optimization`, to collect any element you would like during the run.\n",
    "\n",
    "This is an advanced feature, as for many things we only have Common Names, that are a bit wieldy to use, still lets do that here. \n",
    "\n",
    "**NOTE:** this will only work for real valued CN's right now\n",
    "\n",
    "In the next run, i collect the number of function evaluation and the objective function value:"
   ]
  },
  {
   "cell_type": "code",
   "execution_count": 11,
   "id": "3c5a08bb",
   "metadata": {},
   "outputs": [
    {
     "data": {
      "text/html": [
       "<div>\n",
       "<style scoped>\n",
       "    .dataframe tbody tr th:only-of-type {\n",
       "        vertical-align: middle;\n",
       "    }\n",
       "\n",
       "    .dataframe tbody tr th {\n",
       "        vertical-align: top;\n",
       "    }\n",
       "\n",
       "    .dataframe thead th {\n",
       "        text-align: right;\n",
       "    }\n",
       "</style>\n",
       "<table border=\"1\" class=\"dataframe\">\n",
       "  <thead>\n",
       "    <tr style=\"text-align: right;\">\n",
       "      <th></th>\n",
       "      <th>Values[x].InitialValue</th>\n",
       "      <th>Values[y].InitialValue</th>\n",
       "      <th>TaskList[Optimization].(Problem)Optimization.Best Value</th>\n",
       "    </tr>\n",
       "  </thead>\n",
       "  <tbody>\n",
       "    <tr>\n",
       "      <th>0</th>\n",
       "      <td>0.000000</td>\n",
       "      <td>0.000000</td>\n",
       "      <td>1.700000e+02</td>\n",
       "    </tr>\n",
       "    <tr>\n",
       "      <th>1</th>\n",
       "      <td>0.875001</td>\n",
       "      <td>1.375001</td>\n",
       "      <td>9.641837e+01</td>\n",
       "    </tr>\n",
       "    <tr>\n",
       "      <th>2</th>\n",
       "      <td>2.108645</td>\n",
       "      <td>2.656495</td>\n",
       "      <td>1.987741e+01</td>\n",
       "    </tr>\n",
       "    <tr>\n",
       "      <th>3</th>\n",
       "      <td>2.185752</td>\n",
       "      <td>2.641869</td>\n",
       "      <td>1.750903e+01</td>\n",
       "    </tr>\n",
       "    <tr>\n",
       "      <th>4</th>\n",
       "      <td>2.303988</td>\n",
       "      <td>2.611787</td>\n",
       "      <td>1.400292e+01</td>\n",
       "    </tr>\n",
       "    <tr>\n",
       "      <th>5</th>\n",
       "      <td>2.461318</td>\n",
       "      <td>2.552965</td>\n",
       "      <td>9.623309e+00</td>\n",
       "    </tr>\n",
       "    <tr>\n",
       "      <th>6</th>\n",
       "      <td>2.637356</td>\n",
       "      <td>2.451114</td>\n",
       "      <td>5.245471e+00</td>\n",
       "    </tr>\n",
       "    <tr>\n",
       "      <th>7</th>\n",
       "      <td>2.797570</td>\n",
       "      <td>2.308062</td>\n",
       "      <td>2.014153e+00</td>\n",
       "    </tr>\n",
       "    <tr>\n",
       "      <th>8</th>\n",
       "      <td>2.911844</td>\n",
       "      <td>2.158941</td>\n",
       "      <td>4.593865e-01</td>\n",
       "    </tr>\n",
       "    <tr>\n",
       "      <th>9</th>\n",
       "      <td>2.972712</td>\n",
       "      <td>2.053942</td>\n",
       "      <td>4.851944e-02</td>\n",
       "    </tr>\n",
       "    <tr>\n",
       "      <th>10</th>\n",
       "      <td>2.994778</td>\n",
       "      <td>2.010172</td>\n",
       "      <td>1.711901e-03</td>\n",
       "    </tr>\n",
       "    <tr>\n",
       "      <th>11</th>\n",
       "      <td>2.999459</td>\n",
       "      <td>2.000957</td>\n",
       "      <td>1.604411e-05</td>\n",
       "    </tr>\n",
       "    <tr>\n",
       "      <th>12</th>\n",
       "      <td>2.999970</td>\n",
       "      <td>2.000046</td>\n",
       "      <td>4.073483e-08</td>\n",
       "    </tr>\n",
       "    <tr>\n",
       "      <th>13</th>\n",
       "      <td>2.999998</td>\n",
       "      <td>2.000001</td>\n",
       "      <td>1.515858e-10</td>\n",
       "    </tr>\n",
       "    <tr>\n",
       "      <th>14</th>\n",
       "      <td>2.999999</td>\n",
       "      <td>2.000000</td>\n",
       "      <td>8.410451e-11</td>\n",
       "    </tr>\n",
       "    <tr>\n",
       "      <th>15</th>\n",
       "      <td>2.999999</td>\n",
       "      <td>2.000000</td>\n",
       "      <td>8.353344e-11</td>\n",
       "    </tr>\n",
       "    <tr>\n",
       "      <th>16</th>\n",
       "      <td>2.999999</td>\n",
       "      <td>2.000000</td>\n",
       "      <td>8.352971e-11</td>\n",
       "    </tr>\n",
       "    <tr>\n",
       "      <th>17</th>\n",
       "      <td>2.999999</td>\n",
       "      <td>2.000000</td>\n",
       "      <td>8.352970e-11</td>\n",
       "    </tr>\n",
       "  </tbody>\n",
       "</table>\n",
       "</div>"
      ],
      "text/plain": [
       "    Values[x].InitialValue  Values[y].InitialValue  \\\n",
       "0                 0.000000                0.000000   \n",
       "1                 0.875001                1.375001   \n",
       "2                 2.108645                2.656495   \n",
       "3                 2.185752                2.641869   \n",
       "4                 2.303988                2.611787   \n",
       "5                 2.461318                2.552965   \n",
       "6                 2.637356                2.451114   \n",
       "7                 2.797570                2.308062   \n",
       "8                 2.911844                2.158941   \n",
       "9                 2.972712                2.053942   \n",
       "10                2.994778                2.010172   \n",
       "11                2.999459                2.000957   \n",
       "12                2.999970                2.000046   \n",
       "13                2.999998                2.000001   \n",
       "14                2.999999                2.000000   \n",
       "15                2.999999                2.000000   \n",
       "16                2.999999                2.000000   \n",
       "17                2.999999                2.000000   \n",
       "\n",
       "    TaskList[Optimization].(Problem)Optimization.Best Value  \n",
       "0                                        1.700000e+02        \n",
       "1                                        9.641837e+01        \n",
       "2                                        1.987741e+01        \n",
       "3                                        1.750903e+01        \n",
       "4                                        1.400292e+01        \n",
       "5                                        9.623309e+00        \n",
       "6                                        5.245471e+00        \n",
       "7                                        2.014153e+00        \n",
       "8                                        4.593865e-01        \n",
       "9                                        4.851944e-02        \n",
       "10                                       1.711901e-03        \n",
       "11                                       1.604411e-05        \n",
       "12                                       4.073483e-08        \n",
       "13                                       1.515858e-10        \n",
       "14                                       8.410451e-11        \n",
       "15                                       8.353344e-11        \n",
       "16                                       8.352971e-11        \n",
       "17                                       8.352970e-11        "
      ]
     },
     "execution_count": 11,
     "metadata": {},
     "output_type": "execute_result"
    }
   ],
   "source": [
    "run_optimization(output=[\n",
    "    'Values[x].InitialValue',\n",
    "    'Values[y].InitialValue',\n",
    "    'CN=Root,Vector=TaskList[Optimization],Problem=Optimization,Reference=Best Value'\n",
    "])"
   ]
  },
  {
   "cell_type": "markdown",
   "id": "71ff33a6",
   "metadata": {},
   "source": [
    "### Constraints\n",
    "You can further constrain the optimization problem, by defining constraints that will be evaluated when the model is simulated. This is useful for example, when you want to ensure concentrations are in a specific range.\n",
    "\n",
    "You can modify constraints using the `set_opt_contraints` function and retrieve them using `get_opt_constraints`. As example here, we constrain the solution to be greater than `170` when maximizing: "
   ]
  },
  {
   "cell_type": "code",
   "execution_count": 29,
   "id": "9e54c2c6",
   "metadata": {},
   "outputs": [],
   "source": [
    "set_opt_constraints([\n",
    "    {'name': 'Values[f]', 'lower': 170, 'upper': 200}\n",
    "])"
   ]
  },
  {
   "cell_type": "code",
   "execution_count": 30,
   "id": "1bd66007",
   "metadata": {},
   "outputs": [
    {
     "data": {
      "text/html": [
       "<div>\n",
       "<style scoped>\n",
       "    .dataframe tbody tr th:only-of-type {\n",
       "        vertical-align: middle;\n",
       "    }\n",
       "\n",
       "    .dataframe tbody tr th {\n",
       "        vertical-align: top;\n",
       "    }\n",
       "\n",
       "    .dataframe thead th {\n",
       "        text-align: right;\n",
       "    }\n",
       "</style>\n",
       "<table border=\"1\" class=\"dataframe\">\n",
       "  <thead>\n",
       "    <tr style=\"text-align: right;\">\n",
       "      <th></th>\n",
       "      <th>lower</th>\n",
       "      <th>upper</th>\n",
       "      <th>start</th>\n",
       "      <th>cn</th>\n",
       "    </tr>\n",
       "    <tr>\n",
       "      <th>name</th>\n",
       "      <th></th>\n",
       "      <th></th>\n",
       "      <th></th>\n",
       "      <th></th>\n",
       "    </tr>\n",
       "  </thead>\n",
       "  <tbody>\n",
       "    <tr>\n",
       "      <th>Values[f]</th>\n",
       "      <td>170</td>\n",
       "      <td>200</td>\n",
       "      <td>181.616522</td>\n",
       "      <td>CN=Root,Model=Himmelblau,Vector=Values[f],Refe...</td>\n",
       "    </tr>\n",
       "  </tbody>\n",
       "</table>\n",
       "</div>"
      ],
      "text/plain": [
       "          lower upper       start  \\\n",
       "name                                \n",
       "Values[f]   170   200  181.616522   \n",
       "\n",
       "                                                          cn  \n",
       "name                                                          \n",
       "Values[f]  CN=Root,Model=Himmelblau,Vector=Values[f],Refe...  "
      ]
     },
     "execution_count": 30,
     "metadata": {},
     "output_type": "execute_result"
    }
   ],
   "source": [
    "get_opt_constraints()"
   ]
  },
  {
   "cell_type": "code",
   "execution_count": 31,
   "id": "bb5249b2",
   "metadata": {},
   "outputs": [
    {
     "data": {
      "text/plain": [
       "{'obj': 181.6165215225808,\n",
       " 'f_evals': 282,\n",
       " 'failed_evals_exception': 0,\n",
       " 'failed_evals_nan': 0,\n",
       " 'constraint_evals': 33,\n",
       " 'failed_constraint_evals': 0,\n",
       " 'cpu_time': 0.001709,\n",
       " 'evals_per_sec': 6.060283687943263e-06}"
      ]
     },
     "execution_count": 31,
     "metadata": {},
     "output_type": "execute_result"
    }
   ],
   "source": [
    "settings = get_opt_settings()\n",
    "settings['problem']['Maximize'] = True\n",
    "run_optimization(settings=settings)\n",
    "get_opt_statistic()"
   ]
  },
  {
   "cell_type": "markdown",
   "id": "51f54f7f",
   "metadata": {},
   "source": [
    "*Note*: Keep in mind, that setting constraints will make finding the solution harder for the algorithms. So when in doubt, it might be a good idea to take them out. "
   ]
  },
  {
   "cell_type": "code",
   "execution_count": null,
   "id": "f977c77a",
   "metadata": {},
   "outputs": [],
   "source": []
  }
 ],
 "metadata": {
  "kernelspec": {
   "display_name": "Python 3 (ipykernel)",
   "language": "python",
   "name": "python3"
  },
  "language_info": {
   "codemirror_mode": {
    "name": "ipython",
    "version": 3
   },
   "file_extension": ".py",
   "mimetype": "text/x-python",
   "name": "python",
   "nbconvert_exporter": "python",
   "pygments_lexer": "ipython3",
   "version": "3.11.3"
  }
 },
 "nbformat": 4,
 "nbformat_minor": 5
}
