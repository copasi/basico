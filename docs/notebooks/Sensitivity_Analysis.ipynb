{
 "cells": [
  {
   "cell_type": "markdown",
   "id": "446fc7bc",
   "metadata": {},
   "source": [
    "## Sensitivity Analysis\n",
    "\n",
    "This notebook demonstrates how to use sensitivity analysis using basico. \n",
    "\n",
    "We start as always by importing basico, and loading a model. Here I load the brusselator model from the examples. "
   ]
  },
  {
   "cell_type": "code",
   "execution_count": 1,
   "id": "62df257a",
   "metadata": {},
   "outputs": [],
   "source": [
    "from basico import *"
   ]
  },
  {
   "cell_type": "code",
   "execution_count": 2,
   "id": "bcd83f3d",
   "metadata": {},
   "outputs": [
    {
     "data": {
      "text/html": [
       "<div>\n",
       "<style scoped>\n",
       "    .dataframe tbody tr th:only-of-type {\n",
       "        vertical-align: middle;\n",
       "    }\n",
       "\n",
       "    .dataframe tbody tr th {\n",
       "        vertical-align: top;\n",
       "    }\n",
       "\n",
       "    .dataframe thead th {\n",
       "        text-align: right;\n",
       "    }\n",
       "</style>\n",
       "<table border=\"1\" class=\"dataframe\">\n",
       "  <thead>\n",
       "    <tr style=\"text-align: right;\">\n",
       "      <th></th>\n",
       "      <th>scheme</th>\n",
       "    </tr>\n",
       "    <tr>\n",
       "      <th>name</th>\n",
       "      <th></th>\n",
       "    </tr>\n",
       "  </thead>\n",
       "  <tbody>\n",
       "    <tr>\n",
       "      <th>R1</th>\n",
       "      <td>A -&gt; X</td>\n",
       "    </tr>\n",
       "    <tr>\n",
       "      <th>R2</th>\n",
       "      <td>2 * X + Y -&gt; 3 * X</td>\n",
       "    </tr>\n",
       "    <tr>\n",
       "      <th>R3</th>\n",
       "      <td>X + B -&gt; Y + D</td>\n",
       "    </tr>\n",
       "    <tr>\n",
       "      <th>R4</th>\n",
       "      <td>X -&gt; E</td>\n",
       "    </tr>\n",
       "  </tbody>\n",
       "</table>\n",
       "</div>"
      ],
      "text/plain": [
       "                  scheme\n",
       "name                    \n",
       "R1                A -> X\n",
       "R2    2 * X + Y -> 3 * X\n",
       "R3        X + B -> Y + D\n",
       "R4                X -> E"
      ]
     },
     "execution_count": 2,
     "metadata": {},
     "output_type": "execute_result"
    }
   ],
   "source": [
    "load_example('brusselator');\n",
    "get_reactions()[['scheme']]"
   ]
  },
  {
   "cell_type": "markdown",
   "id": "99668fab",
   "metadata": {},
   "source": [
    "### Settings\n",
    "\n",
    "The settings for the sensitivities task are controlled using the functions `get_sensitivity_settings()` and `set_sensitivity_settings()`. The core attributes to change here would be: \n",
    "\n",
    " * the subtask to use (can be one of 'Evaluation', 'Steady State', 'Time Series', 'Parameter Estimation', 'Optimization', 'Cross Section'). They are available in the `SENS_ST` constant class. \n",
    " * `effect`: this specifies the element (or elements that we want to observe)\n",
    " * `cause` and `secondary_cause`: these are the elements to be varied, that we expect to have an effect on the observed element. \n",
    "   \n",
    "If we look at the current settings, we see that the steady state subtask is run to observe what happens to non-constant concentratiosn of species when parameter values are varied."
   ]
  },
  {
   "cell_type": "code",
   "execution_count": 3,
   "id": "76dfb08d",
   "metadata": {},
   "outputs": [
    {
     "data": {
      "text/plain": [
       "{'scheduled': False,\n",
       " 'update_model': False,\n",
       " 'method': {'Delta factor': 0.001,\n",
       "  'Delta minimum': 1e-12,\n",
       "  'name': 'Sensitivities Method'},\n",
       " 'report': {'filename': '',\n",
       "  'report_definition': 'Sensitivities',\n",
       "  'append': True,\n",
       "  'confirm_overwrite': False},\n",
       " 'sub_task': 'Steady State',\n",
       " 'effect': 'Non-Constant Concentrations of Species',\n",
       " 'cause': 'All Parameter Values',\n",
       " 'secondary_cause': 'Not Set'}"
      ]
     },
     "execution_count": 3,
     "metadata": {},
     "output_type": "execute_result"
    }
   ],
   "source": [
    "get_sensitivity_settings()"
   ]
  },
  {
   "cell_type": "markdown",
   "id": "ed55b01d",
   "metadata": {},
   "source": [
    "Valid values for `cause` and `effect` are either a specific element, specified by using either the display name or the CN of an element. Or an element from the `SENS` constant class."
   ]
  },
  {
   "cell_type": "markdown",
   "id": "723af187",
   "metadata": {},
   "source": [
    "### Running the Analysis\n",
    "\n",
    "`run_sensitivities()` will run the sensitivity task, after which the result is available by calling: \n",
    "\n",
    "* get_scaled_sensitivities()\n",
    "* get_unscaled_sensitivities()\n",
    "* get_summarized_sensitivities()\n"
   ]
  },
  {
   "cell_type": "code",
   "execution_count": 4,
   "id": "41856f5d",
   "metadata": {},
   "outputs": [],
   "source": [
    "run_sensitivities()"
   ]
  },
  {
   "cell_type": "code",
   "execution_count": 5,
   "id": "245d1f74",
   "metadata": {},
   "outputs": [
    {
     "data": {
      "text/html": [
       "<div>\n",
       "<style scoped>\n",
       "    .dataframe tbody tr th:only-of-type {\n",
       "        vertical-align: middle;\n",
       "    }\n",
       "\n",
       "    .dataframe tbody tr th {\n",
       "        vertical-align: top;\n",
       "    }\n",
       "\n",
       "    .dataframe thead th {\n",
       "        text-align: right;\n",
       "    }\n",
       "</style>\n",
       "<table border=\"1\" class=\"dataframe\">\n",
       "  <thead>\n",
       "    <tr style=\"text-align: right;\">\n",
       "      <th></th>\n",
       "      <th>(R1).k1</th>\n",
       "      <th>(R2).k1</th>\n",
       "      <th>(R3).k1</th>\n",
       "      <th>(R4).k1</th>\n",
       "    </tr>\n",
       "  </thead>\n",
       "  <tbody>\n",
       "    <tr>\n",
       "      <th>[X]</th>\n",
       "      <td>1.000000</td>\n",
       "      <td>0.000000</td>\n",
       "      <td>4.440893e-13</td>\n",
       "      <td>-0.999001</td>\n",
       "    </tr>\n",
       "    <tr>\n",
       "      <th>[Y]</th>\n",
       "      <td>-0.999001</td>\n",
       "      <td>-0.999001</td>\n",
       "      <td>1.000000e+00</td>\n",
       "      <td>1.000000</td>\n",
       "    </tr>\n",
       "  </tbody>\n",
       "</table>\n",
       "</div>"
      ],
      "text/plain": [
       "      (R1).k1   (R2).k1       (R3).k1   (R4).k1\n",
       "[X]  1.000000  0.000000  4.440893e-13 -0.999001\n",
       "[Y] -0.999001 -0.999001  1.000000e+00  1.000000"
      ]
     },
     "execution_count": 5,
     "metadata": {},
     "output_type": "execute_result"
    }
   ],
   "source": [
    "get_scaled_sensitivities()"
   ]
  },
  {
   "cell_type": "code",
   "execution_count": 6,
   "id": "d9b6e416",
   "metadata": {},
   "outputs": [
    {
     "data": {
      "text/html": [
       "<div>\n",
       "<style scoped>\n",
       "    .dataframe tbody tr th:only-of-type {\n",
       "        vertical-align: middle;\n",
       "    }\n",
       "\n",
       "    .dataframe tbody tr th {\n",
       "        vertical-align: top;\n",
       "    }\n",
       "\n",
       "    .dataframe thead th {\n",
       "        text-align: right;\n",
       "    }\n",
       "</style>\n",
       "<table border=\"1\" class=\"dataframe\">\n",
       "  <thead>\n",
       "    <tr style=\"text-align: right;\">\n",
       "      <th></th>\n",
       "      <th>(R1).k1</th>\n",
       "      <th>(R2).k1</th>\n",
       "      <th>(R3).k1</th>\n",
       "      <th>(R4).k1</th>\n",
       "    </tr>\n",
       "  </thead>\n",
       "  <tbody>\n",
       "    <tr>\n",
       "      <th>[X]</th>\n",
       "      <td>0.500000</td>\n",
       "      <td>0.000000</td>\n",
       "      <td>2.220446e-13</td>\n",
       "      <td>-0.499500</td>\n",
       "    </tr>\n",
       "    <tr>\n",
       "      <th>[Y]</th>\n",
       "      <td>-5.993999</td>\n",
       "      <td>-5.993999</td>\n",
       "      <td>5.999993e+00</td>\n",
       "      <td>5.999993</td>\n",
       "    </tr>\n",
       "  </tbody>\n",
       "</table>\n",
       "</div>"
      ],
      "text/plain": [
       "      (R1).k1   (R2).k1       (R3).k1   (R4).k1\n",
       "[X]  0.500000  0.000000  2.220446e-13 -0.499500\n",
       "[Y] -5.993999 -5.993999  5.999993e+00  5.999993"
      ]
     },
     "execution_count": 6,
     "metadata": {},
     "output_type": "execute_result"
    }
   ],
   "source": [
    "get_unscaled_sensitivities()"
   ]
  },
  {
   "cell_type": "code",
   "execution_count": 7,
   "id": "4267ced7",
   "metadata": {},
   "outputs": [
    {
     "data": {
      "text/html": [
       "<div>\n",
       "<style scoped>\n",
       "    .dataframe tbody tr th:only-of-type {\n",
       "        vertical-align: middle;\n",
       "    }\n",
       "\n",
       "    .dataframe tbody tr th {\n",
       "        vertical-align: top;\n",
       "    }\n",
       "\n",
       "    .dataframe thead th {\n",
       "        text-align: right;\n",
       "    }\n",
       "</style>\n",
       "<table border=\"1\" class=\"dataframe\">\n",
       "  <thead>\n",
       "    <tr style=\"text-align: right;\">\n",
       "      <th></th>\n",
       "      <th>0</th>\n",
       "    </tr>\n",
       "  </thead>\n",
       "  <tbody>\n",
       "    <tr>\n",
       "      <th>(R1).k1</th>\n",
       "      <td>1.413507</td>\n",
       "    </tr>\n",
       "    <tr>\n",
       "      <th>(R2).k1</th>\n",
       "      <td>0.999001</td>\n",
       "    </tr>\n",
       "    <tr>\n",
       "      <th>(R3).k1</th>\n",
       "      <td>1.000000</td>\n",
       "    </tr>\n",
       "    <tr>\n",
       "      <th>(R4).k1</th>\n",
       "      <td>1.413507</td>\n",
       "    </tr>\n",
       "  </tbody>\n",
       "</table>\n",
       "</div>"
      ],
      "text/plain": [
       "                0\n",
       "(R1).k1  1.413507\n",
       "(R2).k1  0.999001\n",
       "(R3).k1  1.000000\n",
       "(R4).k1  1.413507"
      ]
     },
     "execution_count": 7,
     "metadata": {},
     "output_type": "execute_result"
    }
   ],
   "source": [
    "get_summarized_sensitivities()"
   ]
  },
  {
   "cell_type": "markdown",
   "id": "e5524498",
   "metadata": {},
   "source": [
    "Convenience overloads exist, so that the settings can directly be passed on to the run method. If `run_first=True` is given to the functions retrieving the result, the sensitivities will be computed before obtaining the result. \n",
    "\n",
    "So for example, if we just wanted to see how the initial concentration of `A` would affect the transient concentration of `X`, we could directly call: "
   ]
  },
  {
   "cell_type": "code",
   "execution_count": 8,
   "id": "8ffb8087",
   "metadata": {},
   "outputs": [
    {
     "data": {
      "text/plain": [
       "1.0000000000004075"
      ]
     },
     "execution_count": 8,
     "metadata": {},
     "output_type": "execute_result"
    }
   ],
   "source": [
    "get_scaled_sensitivities(run_first=True, settings={'effect': '[X]', 'cause': '[A]_0'})"
   ]
  },
  {
   "cell_type": "markdown",
   "id": "4029ae32",
   "metadata": {},
   "source": [
    "To see what effect it would have on all metabolite concentrations: "
   ]
  },
  {
   "cell_type": "code",
   "execution_count": 9,
   "id": "1eb1f533",
   "metadata": {},
   "outputs": [
    {
     "data": {
      "text/html": [
       "<div>\n",
       "<style scoped>\n",
       "    .dataframe tbody tr th:only-of-type {\n",
       "        vertical-align: middle;\n",
       "    }\n",
       "\n",
       "    .dataframe tbody tr th {\n",
       "        vertical-align: top;\n",
       "    }\n",
       "\n",
       "    .dataframe thead th {\n",
       "        text-align: right;\n",
       "    }\n",
       "</style>\n",
       "<table border=\"1\" class=\"dataframe\">\n",
       "  <thead>\n",
       "    <tr style=\"text-align: right;\">\n",
       "      <th></th>\n",
       "      <th>0</th>\n",
       "    </tr>\n",
       "  </thead>\n",
       "  <tbody>\n",
       "    <tr>\n",
       "      <th>[X]</th>\n",
       "      <td>1.000000</td>\n",
       "    </tr>\n",
       "    <tr>\n",
       "      <th>[Y]</th>\n",
       "      <td>-0.999001</td>\n",
       "    </tr>\n",
       "  </tbody>\n",
       "</table>\n",
       "</div>"
      ],
      "text/plain": [
       "            0\n",
       "[X]  1.000000\n",
       "[Y] -0.999001"
      ]
     },
     "execution_count": 9,
     "metadata": {},
     "output_type": "execute_result"
    }
   ],
   "source": [
    "get_scaled_sensitivities(run_first=True, \n",
    "                         settings={'effect': SENS.NON_CONST_METAB_CONCENTRATIONS, \n",
    "                                   'cause': '[A]_0'})"
   ]
  },
  {
   "cell_type": "markdown",
   "id": "cddf288f",
   "metadata": {},
   "source": [
    "The changed settings of the last run will persist, so that it can be reproduced in the COPASI user interface as well: "
   ]
  },
  {
   "cell_type": "code",
   "execution_count": 10,
   "id": "354c9cbe",
   "metadata": {},
   "outputs": [
    {
     "data": {
      "text/plain": [
       "{'scheduled': False,\n",
       " 'update_model': False,\n",
       " 'method': {'Delta factor': 0.001,\n",
       "  'Delta minimum': 1e-12,\n",
       "  'name': 'Sensitivities Method'},\n",
       " 'report': {'filename': '',\n",
       "  'report_definition': 'Sensitivities',\n",
       "  'append': True,\n",
       "  'confirm_overwrite': False},\n",
       " 'sub_task': 'Steady State',\n",
       " 'effect': 'Non-Constant Concentrations of Species',\n",
       " 'cause': '[A]_0',\n",
       " 'secondary_cause': 'Not Set'}"
      ]
     },
     "execution_count": 10,
     "metadata": {},
     "output_type": "execute_result"
    }
   ],
   "source": [
    "get_sensitivity_settings()"
   ]
  }
 ],
 "metadata": {
  "kernelspec": {
   "display_name": "Python 3",
   "language": "python",
   "name": "python3"
  },
  "language_info": {
   "codemirror_mode": {
    "name": "ipython",
    "version": 3
   },
   "file_extension": ".py",
   "mimetype": "text/x-python",
   "name": "python",
   "nbconvert_exporter": "python",
   "pygments_lexer": "ipython3",
   "version": "3.9.5"
  }
 },
 "nbformat": 4,
 "nbformat_minor": 5
}
