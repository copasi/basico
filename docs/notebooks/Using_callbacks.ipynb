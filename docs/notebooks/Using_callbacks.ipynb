{
 "cells": [
  {
   "cell_type": "markdown",
   "id": "14d9b9b6",
   "metadata": {},
   "source": [
    "## Using callbacks\n",
    "When using basico, usually there is no feedback given when running tasks. That is fine when tasks dont take a long time, but for optimizations or parameter estimation runs, it would be nice to know how long things could go. Setting a callback also allows for interrupting a running task through interrupting by pressing `Ctrl+C`. Lets see how this works. We start as always by import basico. Additionally we also import the callbacks module (since i consider it an experimental module at the time of writing this, it is not done automatically): "
   ]
  },
  {
   "cell_type": "code",
   "execution_count": 1,
   "id": "695c7478",
   "metadata": {},
   "outputs": [],
   "source": [
    "from basico import *\n",
    "from basico.callbacks import create_default_handler"
   ]
  },
  {
   "cell_type": "markdown",
   "id": "71046683",
   "metadata": {},
   "source": [
    "For now i have wrapped the [tqdm](https://pypi.org/project/tqdm/) library, others could easily be added later on let me know if you have a preference! The `create_default_handler` function sets up a tdqm handler, that will be used for all longer running operations. It takes the following arguments: \n",
    "\n",
    "* `delay`: delay in seconds before showing the first message (defaults to `1`)\n",
    "* `leave`: boolean flag, that indicates whether messages should remain on screen after being completed (defaults to `False`)\n",
    "* `unit`: a string to display as unit for the iterations (by default tqdm will use it/s)\n",
    "\n",
    "additional key value pairs will be passed on to tqdm. So let us just create a handler, and run some tasks: "
   ]
  },
  {
   "cell_type": "code",
   "execution_count": 2,
   "id": "ce1ca138",
   "metadata": {},
   "outputs": [],
   "source": [
    "create_default_handler()"
   ]
  },
  {
   "cell_type": "markdown",
   "id": "4a7f697b",
   "metadata": {},
   "source": [
    "we start with a simple example model that has parameter estimation set up on it already"
   ]
  },
  {
   "cell_type": "code",
   "execution_count": 3,
   "id": "e304d1c9",
   "metadata": {},
   "outputs": [],
   "source": [
    "load_example('LM');"
   ]
  },
  {
   "cell_type": "markdown",
   "id": "5964cd4c",
   "metadata": {},
   "source": [
    "it uses a local method and runs for 500 iterations, or until the tolerance of 1e-16 is reached:"
   ]
  },
  {
   "cell_type": "code",
   "execution_count": 4,
   "id": "b3b5d4df",
   "metadata": {},
   "outputs": [
    {
     "data": {
      "text/plain": [
       "{'Iteration Limit': 500,\n",
       " 'Tolerance': 1e-16,\n",
       " 'Stop after # Stalled Iterations': 0,\n",
       " '#LogVerbosity': 0,\n",
       " 'name': 'Levenberg - Marquardt'}"
      ]
     },
     "execution_count": 4,
     "metadata": {},
     "output_type": "execute_result"
    }
   ],
   "source": [
    "get_task_settings(T.PARAMETER_ESTIMATION)['method']"
   ]
  },
  {
   "cell_type": "code",
   "execution_count": 5,
   "id": "7914f482",
   "metadata": {},
   "outputs": [
    {
     "data": {
      "text/html": [
       "<div>\n",
       "<style scoped>\n",
       "    .dataframe tbody tr th:only-of-type {\n",
       "        vertical-align: middle;\n",
       "    }\n",
       "\n",
       "    .dataframe tbody tr th {\n",
       "        vertical-align: top;\n",
       "    }\n",
       "\n",
       "    .dataframe thead th {\n",
       "        text-align: right;\n",
       "    }\n",
       "</style>\n",
       "<table border=\"1\" class=\"dataframe\">\n",
       "  <thead>\n",
       "    <tr style=\"text-align: right;\">\n",
       "      <th></th>\n",
       "      <th>lower</th>\n",
       "      <th>upper</th>\n",
       "      <th>sol</th>\n",
       "      <th>affected</th>\n",
       "    </tr>\n",
       "    <tr>\n",
       "      <th>name</th>\n",
       "      <th></th>\n",
       "      <th></th>\n",
       "      <th></th>\n",
       "      <th></th>\n",
       "    </tr>\n",
       "  </thead>\n",
       "  <tbody>\n",
       "    <tr>\n",
       "      <th>(R1).k2</th>\n",
       "      <td>1e-6</td>\n",
       "      <td>1e6</td>\n",
       "      <td>0.000002</td>\n",
       "      <td>[]</td>\n",
       "    </tr>\n",
       "    <tr>\n",
       "      <th>(R2).k1</th>\n",
       "      <td>1e-6</td>\n",
       "      <td>1e6</td>\n",
       "      <td>44.661715</td>\n",
       "      <td>[]</td>\n",
       "    </tr>\n",
       "    <tr>\n",
       "      <th>Values[offset]</th>\n",
       "      <td>-0.2</td>\n",
       "      <td>0.4</td>\n",
       "      <td>0.043018</td>\n",
       "      <td>[Experiment_1]</td>\n",
       "    </tr>\n",
       "    <tr>\n",
       "      <th>Values[offset]</th>\n",
       "      <td>-0.2</td>\n",
       "      <td>0.4</td>\n",
       "      <td>0.054167</td>\n",
       "      <td>[Experiment_3]</td>\n",
       "    </tr>\n",
       "    <tr>\n",
       "      <th>Values[offset]</th>\n",
       "      <td>-0.2</td>\n",
       "      <td>0.4</td>\n",
       "      <td>-0.050941</td>\n",
       "      <td>[Experiment]</td>\n",
       "    </tr>\n",
       "    <tr>\n",
       "      <th>Values[offset]</th>\n",
       "      <td>-0.2</td>\n",
       "      <td>0.4</td>\n",
       "      <td>0.045922</td>\n",
       "      <td>[Experiment_4]</td>\n",
       "    </tr>\n",
       "    <tr>\n",
       "      <th>Values[offset]</th>\n",
       "      <td>-0.2</td>\n",
       "      <td>0.4</td>\n",
       "      <td>0.048025</td>\n",
       "      <td>[Experiment_2]</td>\n",
       "    </tr>\n",
       "  </tbody>\n",
       "</table>\n",
       "</div>"
      ],
      "text/plain": [
       "               lower upper        sol        affected\n",
       "name                                                 \n",
       "(R1).k2         1e-6   1e6   0.000002              []\n",
       "(R2).k1         1e-6   1e6  44.661715              []\n",
       "Values[offset]  -0.2   0.4   0.043018  [Experiment_1]\n",
       "Values[offset]  -0.2   0.4   0.054167  [Experiment_3]\n",
       "Values[offset]  -0.2   0.4  -0.050941    [Experiment]\n",
       "Values[offset]  -0.2   0.4   0.045922  [Experiment_4]\n",
       "Values[offset]  -0.2   0.4   0.048025  [Experiment_2]"
      ]
     },
     "execution_count": 5,
     "metadata": {},
     "output_type": "execute_result"
    }
   ],
   "source": [
    "run_parameter_estimation()"
   ]
  },
  {
   "cell_type": "markdown",
   "id": "eb18eb4a",
   "metadata": {},
   "source": [
    "lets choose just random search, which will take much longer, this will make the callbacks show up, and we will see the #function evaluations, as well as the best value reached. At any point we can interrup the execution of the cell (by presing the stop button on the notebook), this will cause the parameter estimation to stop after the next iteration, with partial results being returned: "
   ]
  },
  {
   "cell_type": "code",
   "execution_count": 6,
   "id": "60b952c3",
   "metadata": {
    "scrolled": true
   },
   "outputs": [
    {
     "data": {
      "application/vnd.jupyter.widget-view+json": {
       "model_id": "2cb077dc66034079a8b79f0f77bfd1cb",
       "version_major": 2,
       "version_minor": 0
      },
      "text/plain": [
       "Function Evaluations: 1311 [00:01, 1309.69/s]"
      ]
     },
     "metadata": {},
     "output_type": "display_data"
    },
    {
     "data": {
      "application/vnd.jupyter.widget-view+json": {
       "model_id": "0f057d39b03944898d2babc12dbb723c",
       "version_major": 2,
       "version_minor": 0
      },
      "text/plain": [
       "Best Value: 22.32126236098639 [00:01, 2516.34/s]"
      ]
     },
     "metadata": {},
     "output_type": "display_data"
    },
    {
     "data": {
      "text/html": [
       "<div>\n",
       "<style scoped>\n",
       "    .dataframe tbody tr th:only-of-type {\n",
       "        vertical-align: middle;\n",
       "    }\n",
       "\n",
       "    .dataframe tbody tr th {\n",
       "        vertical-align: top;\n",
       "    }\n",
       "\n",
       "    .dataframe thead th {\n",
       "        text-align: right;\n",
       "    }\n",
       "</style>\n",
       "<table border=\"1\" class=\"dataframe\">\n",
       "  <thead>\n",
       "    <tr style=\"text-align: right;\">\n",
       "      <th></th>\n",
       "      <th>lower</th>\n",
       "      <th>upper</th>\n",
       "      <th>sol</th>\n",
       "      <th>affected</th>\n",
       "    </tr>\n",
       "    <tr>\n",
       "      <th>name</th>\n",
       "      <th></th>\n",
       "      <th></th>\n",
       "      <th></th>\n",
       "      <th></th>\n",
       "    </tr>\n",
       "  </thead>\n",
       "  <tbody>\n",
       "    <tr>\n",
       "      <th>(R1).k2</th>\n",
       "      <td>1e-6</td>\n",
       "      <td>1e6</td>\n",
       "      <td>0.000123</td>\n",
       "      <td>[]</td>\n",
       "    </tr>\n",
       "    <tr>\n",
       "      <th>(R2).k1</th>\n",
       "      <td>1e-6</td>\n",
       "      <td>1e6</td>\n",
       "      <td>40.864396</td>\n",
       "      <td>[]</td>\n",
       "    </tr>\n",
       "    <tr>\n",
       "      <th>Values[offset]</th>\n",
       "      <td>-0.2</td>\n",
       "      <td>0.4</td>\n",
       "      <td>0.108320</td>\n",
       "      <td>[Experiment_1]</td>\n",
       "    </tr>\n",
       "    <tr>\n",
       "      <th>Values[offset]</th>\n",
       "      <td>-0.2</td>\n",
       "      <td>0.4</td>\n",
       "      <td>0.216139</td>\n",
       "      <td>[Experiment_3]</td>\n",
       "    </tr>\n",
       "    <tr>\n",
       "      <th>Values[offset]</th>\n",
       "      <td>-0.2</td>\n",
       "      <td>0.4</td>\n",
       "      <td>0.010154</td>\n",
       "      <td>[Experiment]</td>\n",
       "    </tr>\n",
       "    <tr>\n",
       "      <th>Values[offset]</th>\n",
       "      <td>-0.2</td>\n",
       "      <td>0.4</td>\n",
       "      <td>0.368608</td>\n",
       "      <td>[Experiment_4]</td>\n",
       "    </tr>\n",
       "    <tr>\n",
       "      <th>Values[offset]</th>\n",
       "      <td>-0.2</td>\n",
       "      <td>0.4</td>\n",
       "      <td>-0.057231</td>\n",
       "      <td>[Experiment_2]</td>\n",
       "    </tr>\n",
       "  </tbody>\n",
       "</table>\n",
       "</div>"
      ],
      "text/plain": [
       "               lower upper        sol        affected\n",
       "name                                                 \n",
       "(R1).k2         1e-6   1e6   0.000123              []\n",
       "(R2).k1         1e-6   1e6  40.864396              []\n",
       "Values[offset]  -0.2   0.4   0.108320  [Experiment_1]\n",
       "Values[offset]  -0.2   0.4   0.216139  [Experiment_3]\n",
       "Values[offset]  -0.2   0.4   0.010154    [Experiment]\n",
       "Values[offset]  -0.2   0.4   0.368608  [Experiment_4]\n",
       "Values[offset]  -0.2   0.4  -0.057231  [Experiment_2]"
      ]
     },
     "execution_count": 6,
     "metadata": {},
     "output_type": "execute_result"
    }
   ],
   "source": [
    "run_parameter_estimation(method=PE.RANDOM_SEARCH)"
   ]
  },
  {
   "cell_type": "markdown",
   "id": "dbf9e4d2",
   "metadata": {},
   "source": [
    "to remove the default handler again, the `reset_default_handler` function can be used. As it turns out, the output of the handler could not be seen on the html version of the notebook. So here a screenshot of the operation in action. \n",
    "\n",
    "![callback handlder](https://p194.p3.n0.cdn.getcloudapp.com/items/RBuB4pxg/994c750c-2854-4682-8d7d-e9cbfead5d33.gif?v=fee23795786ee71c721d6ae7cc3687f6)"
   ]
  },
  {
   "cell_type": "markdown",
   "id": "ff6c63de",
   "metadata": {},
   "source": [
    "### Timeouts\n",
    "callbacks can also be used, to ensure that tasks are automatically interrupted after a certain number of seconds. So if we repeat the example from above, and stop the parameter estimation automatically after 10seconds, we could use: "
   ]
  },
  {
   "cell_type": "code",
   "execution_count": 7,
   "id": "3d03b15c",
   "metadata": {},
   "outputs": [],
   "source": [
    "create_default_handler(max_time=10)"
   ]
  },
  {
   "cell_type": "code",
   "execution_count": 8,
   "id": "f64b59aa",
   "metadata": {},
   "outputs": [
    {
     "data": {
      "application/vnd.jupyter.widget-view+json": {
       "model_id": "906bd2a53606486a8be75ce031b9cc92",
       "version_major": 2,
       "version_minor": 0
      },
      "text/plain": [
       "Function Evaluations: 1330 [00:01, 1328.85/s]"
      ]
     },
     "metadata": {},
     "output_type": "display_data"
    },
    {
     "data": {
      "application/vnd.jupyter.widget-view+json": {
       "model_id": "146eb8eee74545dba8e4307b4bbb0a1a",
       "version_major": 2,
       "version_minor": 0
      },
      "text/plain": [
       "Best Value: 18.52026239524136 [00:01, 2366.75/s]"
      ]
     },
     "metadata": {},
     "output_type": "display_data"
    },
    {
     "data": {
      "text/html": [
       "<div>\n",
       "<style scoped>\n",
       "    .dataframe tbody tr th:only-of-type {\n",
       "        vertical-align: middle;\n",
       "    }\n",
       "\n",
       "    .dataframe tbody tr th {\n",
       "        vertical-align: top;\n",
       "    }\n",
       "\n",
       "    .dataframe thead th {\n",
       "        text-align: right;\n",
       "    }\n",
       "</style>\n",
       "<table border=\"1\" class=\"dataframe\">\n",
       "  <thead>\n",
       "    <tr style=\"text-align: right;\">\n",
       "      <th></th>\n",
       "      <th>lower</th>\n",
       "      <th>upper</th>\n",
       "      <th>sol</th>\n",
       "      <th>affected</th>\n",
       "    </tr>\n",
       "    <tr>\n",
       "      <th>name</th>\n",
       "      <th></th>\n",
       "      <th></th>\n",
       "      <th></th>\n",
       "      <th></th>\n",
       "    </tr>\n",
       "  </thead>\n",
       "  <tbody>\n",
       "    <tr>\n",
       "      <th>(R1).k2</th>\n",
       "      <td>1e-6</td>\n",
       "      <td>1e6</td>\n",
       "      <td>0.000002</td>\n",
       "      <td>[]</td>\n",
       "    </tr>\n",
       "    <tr>\n",
       "      <th>(R2).k1</th>\n",
       "      <td>1e-6</td>\n",
       "      <td>1e6</td>\n",
       "      <td>43.882694</td>\n",
       "      <td>[]</td>\n",
       "    </tr>\n",
       "    <tr>\n",
       "      <th>Values[offset]</th>\n",
       "      <td>-0.2</td>\n",
       "      <td>0.4</td>\n",
       "      <td>-0.061506</td>\n",
       "      <td>[Experiment_1]</td>\n",
       "    </tr>\n",
       "    <tr>\n",
       "      <th>Values[offset]</th>\n",
       "      <td>-0.2</td>\n",
       "      <td>0.4</td>\n",
       "      <td>0.062814</td>\n",
       "      <td>[Experiment_3]</td>\n",
       "    </tr>\n",
       "    <tr>\n",
       "      <th>Values[offset]</th>\n",
       "      <td>-0.2</td>\n",
       "      <td>0.4</td>\n",
       "      <td>-0.016544</td>\n",
       "      <td>[Experiment]</td>\n",
       "    </tr>\n",
       "    <tr>\n",
       "      <th>Values[offset]</th>\n",
       "      <td>-0.2</td>\n",
       "      <td>0.4</td>\n",
       "      <td>0.001578</td>\n",
       "      <td>[Experiment_4]</td>\n",
       "    </tr>\n",
       "    <tr>\n",
       "      <th>Values[offset]</th>\n",
       "      <td>-0.2</td>\n",
       "      <td>0.4</td>\n",
       "      <td>0.096818</td>\n",
       "      <td>[Experiment_2]</td>\n",
       "    </tr>\n",
       "  </tbody>\n",
       "</table>\n",
       "</div>"
      ],
      "text/plain": [
       "               lower upper        sol        affected\n",
       "name                                                 \n",
       "(R1).k2         1e-6   1e6   0.000002              []\n",
       "(R2).k1         1e-6   1e6  43.882694              []\n",
       "Values[offset]  -0.2   0.4  -0.061506  [Experiment_1]\n",
       "Values[offset]  -0.2   0.4   0.062814  [Experiment_3]\n",
       "Values[offset]  -0.2   0.4  -0.016544    [Experiment]\n",
       "Values[offset]  -0.2   0.4   0.001578  [Experiment_4]\n",
       "Values[offset]  -0.2   0.4   0.096818  [Experiment_2]"
      ]
     },
     "execution_count": 8,
     "metadata": {},
     "output_type": "execute_result"
    }
   ],
   "source": [
    "run_parameter_estimation(method=PE.RANDOM_SEARCH)"
   ]
  }
 ],
 "metadata": {
  "kernelspec": {
   "display_name": "Python 3 (ipykernel)",
   "language": "python",
   "name": "python3"
  },
  "language_info": {
   "codemirror_mode": {
    "name": "ipython",
    "version": 3
   },
   "file_extension": ".py",
   "mimetype": "text/x-python",
   "name": "python",
   "nbconvert_exporter": "python",
   "pygments_lexer": "ipython3",
   "version": "3.10.4"
  }
 },
 "nbformat": 4,
 "nbformat_minor": 5
}
