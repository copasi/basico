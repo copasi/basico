{
 "cells": [
  {
   "cell_type": "markdown",
   "id": "797c36ff",
   "metadata": {},
   "source": [
    "## Working with Parameter Sets\n",
    "COPASI supports storing multiple parameter sets for a model. This tutorial describes how to work with them. We start by loading the brusselator example model: "
   ]
  },
  {
   "cell_type": "code",
   "execution_count": 1,
   "id": "22ddcb79",
   "metadata": {},
   "outputs": [],
   "source": [
    "from basico import *"
   ]
  },
  {
   "cell_type": "code",
   "execution_count": 2,
   "id": "5d599a1d",
   "metadata": {},
   "outputs": [],
   "source": [
    "brusselator = load_example('brus')"
   ]
  },
  {
   "cell_type": "markdown",
   "id": "fdb7eda8",
   "metadata": {},
   "source": [
    "Currently we dont have any parameter sets in this file: "
   ]
  },
  {
   "cell_type": "code",
   "execution_count": 3,
   "id": "814430f6",
   "metadata": {},
   "outputs": [
    {
     "data": {
      "text/plain": [
       "[]"
      ]
     },
     "execution_count": 3,
     "metadata": {},
     "output_type": "execute_result"
    }
   ],
   "source": [
    "get_parameter_sets()"
   ]
  },
  {
   "cell_type": "markdown",
   "id": "20d01bfb",
   "metadata": {},
   "source": [
    "so lets create a new parameter set from the current state:"
   ]
  },
  {
   "cell_type": "code",
   "execution_count": 4,
   "id": "b59f485c",
   "metadata": {},
   "outputs": [],
   "source": [
    "add_parameter_set('InitialState')"
   ]
  },
  {
   "cell_type": "markdown",
   "id": "852bcee2",
   "metadata": {},
   "source": [
    "### Looking at parameter sets\n",
    "\n",
    "now let us look at it using the `get_parameter_sets` method. If no name is specified, `get_parameter_sets` returns all parameter sets in the file as a list of dictionaries, in each one you will find the following keys: \n",
    "\n",
    "* `name`: the name of the parameter set\n",
    "* `description`: notes if any\n",
    "* `Initial Time`: a dictionary with the initial time of the model\n",
    "* `Initial Compartment Sizes`: a dictionary with the compartment sizes of all compartments\n",
    "* `Initial Species Values`: a dictionary with the initial concentration of all species\n",
    "* `Initial Global Quantities`: a dictionary with the initial values of all global parameters\n",
    "* `Kinetic Parameters`: a dictionary of all local reaction parameters\n",
    "\n",
    "`get_parameter_sets` takes 3 arguments: \n",
    "\n",
    "* `name`: the name of the parameter set to return (can be a substring, to return multiple)\n",
    "* `exact`: whether the name has to be precisely matched\n",
    "* `values_only`: if true, only the initial values will be returned, otherwise also the type of model parameter\n",
    "\n",
    "so you will see either: "
   ]
  },
  {
   "cell_type": "code",
   "execution_count": 5,
   "id": "da46af8a",
   "metadata": {},
   "outputs": [
    {
     "data": {
      "text/plain": [
       "[{'name': 'InitialState',\n",
       "  'description': '',\n",
       "  'Initial Time': {'The Brusselator': 0.0},\n",
       "  'Initial Compartment Sizes': {'compartment': 1.0},\n",
       "  'Initial Species Values': {'X': 2.9999959316797846,\n",
       "   'Y': 2.9999959316797846,\n",
       "   'A': 0.49999987545958524,\n",
       "   'B': 2.9999959316797846,\n",
       "   'D': 0.0,\n",
       "   'E': 0.0},\n",
       "  'Initial Global Quantities': {},\n",
       "  'Kinetic Parameters': {'R1': {'k1': 1.0},\n",
       "   'R2': {'k1': 1.0},\n",
       "   'R3': {'k1': 1.0},\n",
       "   'R4': {'k1': 1.0}}}]"
      ]
     },
     "execution_count": 5,
     "metadata": {},
     "output_type": "execute_result"
    }
   ],
   "source": [
    "get_parameter_sets(values_only=True)"
   ]
  },
  {
   "cell_type": "markdown",
   "id": "b4a6d027",
   "metadata": {},
   "source": [
    "or the much more verbose variant (I'll restrict it here to just one of the species to avoid clutter): "
   ]
  },
  {
   "cell_type": "code",
   "execution_count": 6,
   "id": "a9f3baf3",
   "metadata": {},
   "outputs": [
    {
     "data": {
      "text/plain": [
       "{'concentration': 2.9999959316797846,\n",
       " 'particle_number': 1.80664e+21,\n",
       " 'parameter_type': 'species',\n",
       " 'simulation_type': 'reactions'}"
      ]
     },
     "execution_count": 6,
     "metadata": {},
     "output_type": "execute_result"
    }
   ],
   "source": [
    "get_parameter_sets()[0]['Initial Species Values']['X']"
   ]
  },
  {
   "cell_type": "markdown",
   "id": "816a0ed3",
   "metadata": {},
   "source": [
    "### Creating / Modifying Parameter sets\n",
    "As we saw above, we can add a new parameter set using `add_parameter_set` with only a name parameter, you can also specify the parameter set, by providing the dictionary as it was returned above. It does not have to be complete, you can can also create a partial one, containing only those values you want to specify. \n",
    "\n",
    "**NOTE**: when specifying concentrations, you will also have to specify the initial compartment volume for those species. "
   ]
  },
  {
   "cell_type": "code",
   "execution_count": 7,
   "id": "9cd7006d",
   "metadata": {},
   "outputs": [],
   "source": [
    "add_parameter_set('Partial', {\n",
    "         'Initial Compartment Sizes': {'compartment': 1},\n",
    "         'Initial Species Values': {'X': 3, 'Y': 1}})"
   ]
  },
  {
   "cell_type": "code",
   "execution_count": 8,
   "id": "53117c5c",
   "metadata": {},
   "outputs": [
    {
     "data": {
      "text/plain": [
       "{'name': 'Partial',\n",
       " 'description': '',\n",
       " 'Initial Time': {},\n",
       " 'Initial Compartment Sizes': {'compartment': 1.0},\n",
       " 'Initial Species Values': {'X': 3.0, 'Y': 1.0},\n",
       " 'Initial Global Quantities': {},\n",
       " 'Kinetic Parameters': {}}"
      ]
     },
     "execution_count": 8,
     "metadata": {},
     "output_type": "execute_result"
    }
   ],
   "source": [
    "get_parameter_sets('Partial', values_only=True)[0]"
   ]
  },
  {
   "cell_type": "markdown",
   "id": "554c76dc",
   "metadata": {},
   "source": [
    "to change certain values in a parameter set, you can use the `set_parameter_set`, this will set all the values specified, and by default leave all entries not specified at their old values. You'd use the argument `remove_others=True`, to remove all entries not specified. For example, let me set the initial concentration of `Y` in the Partial parameter set to 3: "
   ]
  },
  {
   "cell_type": "code",
   "execution_count": 9,
   "id": "85afeb09",
   "metadata": {},
   "outputs": [
    {
     "data": {
      "text/plain": [
       "{'X': 3.0, 'Y': 3.0}"
      ]
     },
     "execution_count": 9,
     "metadata": {},
     "output_type": "execute_result"
    }
   ],
   "source": [
    "set_parameter_set('Partial', param_set_dict={'Initial Species Values': {'Y': 3}}, remove_others=False)\n",
    "get_parameter_sets('Partial', values_only=True)[0]['Initial Species Values']"
   ]
  },
  {
   "cell_type": "markdown",
   "id": "35b8e488",
   "metadata": {},
   "source": [
    "To change the current model state, to use the values specified in a certain parameter set, you'd use the function `apply_parameter_set`: "
   ]
  },
  {
   "cell_type": "code",
   "execution_count": 10,
   "id": "7545180f",
   "metadata": {},
   "outputs": [
    {
     "data": {
      "text/html": [
       "<div>\n",
       "<style scoped>\n",
       "    .dataframe tbody tr th:only-of-type {\n",
       "        vertical-align: middle;\n",
       "    }\n",
       "\n",
       "    .dataframe tbody tr th {\n",
       "        vertical-align: top;\n",
       "    }\n",
       "\n",
       "    .dataframe thead th {\n",
       "        text-align: right;\n",
       "    }\n",
       "</style>\n",
       "<table border=\"1\" class=\"dataframe\">\n",
       "  <thead>\n",
       "    <tr style=\"text-align: right;\">\n",
       "      <th></th>\n",
       "      <th>initial_concentration</th>\n",
       "    </tr>\n",
       "    <tr>\n",
       "      <th>name</th>\n",
       "      <th></th>\n",
       "    </tr>\n",
       "  </thead>\n",
       "  <tbody>\n",
       "    <tr>\n",
       "      <th>X</th>\n",
       "      <td>3.000000</td>\n",
       "    </tr>\n",
       "    <tr>\n",
       "      <th>Y</th>\n",
       "      <td>3.000000</td>\n",
       "    </tr>\n",
       "    <tr>\n",
       "      <th>A</th>\n",
       "      <td>0.500000</td>\n",
       "    </tr>\n",
       "    <tr>\n",
       "      <th>B</th>\n",
       "      <td>2.999996</td>\n",
       "    </tr>\n",
       "    <tr>\n",
       "      <th>D</th>\n",
       "      <td>0.000000</td>\n",
       "    </tr>\n",
       "    <tr>\n",
       "      <th>E</th>\n",
       "      <td>0.000000</td>\n",
       "    </tr>\n",
       "  </tbody>\n",
       "</table>\n",
       "</div>"
      ],
      "text/plain": [
       "      initial_concentration\n",
       "name                       \n",
       "X                  3.000000\n",
       "Y                  3.000000\n",
       "A                  0.500000\n",
       "B                  2.999996\n",
       "D                  0.000000\n",
       "E                  0.000000"
      ]
     },
     "execution_count": 10,
     "metadata": {},
     "output_type": "execute_result"
    }
   ],
   "source": [
    "apply_parameter_set('Partial')\n",
    "get_species()[['initial_concentration']]"
   ]
  },
  {
   "cell_type": "markdown",
   "id": "370aa0b7",
   "metadata": {},
   "source": [
    "If you wanted to update a parameter set, with all the values from the current model state, you can use `update_parameter_set`. Lets use that here, to update the `InitialState` parameter set from above, to contain the updated concentrations: "
   ]
  },
  {
   "cell_type": "code",
   "execution_count": 11,
   "id": "f87f2dd3",
   "metadata": {},
   "outputs": [
    {
     "data": {
      "text/plain": [
       "{'X': 3.0,\n",
       " 'Y': 3.0,\n",
       " 'A': 0.49999987545958524,\n",
       " 'B': 2.9999959316797846,\n",
       " 'D': 0.0,\n",
       " 'E': 0.0}"
      ]
     },
     "execution_count": 11,
     "metadata": {},
     "output_type": "execute_result"
    }
   ],
   "source": [
    "update_parameter_set('InitialState')\n",
    "get_parameter_sets('InitialState', values_only=True)[0]['Initial Species Values']"
   ]
  },
  {
   "cell_type": "markdown",
   "id": "f70535fc",
   "metadata": {},
   "source": [
    "### Removing parameter sets\n",
    "The `remove_parameter_sets` function can be used to remove parameter sets if no argument is specified, all paraemter sets will be removed, otherwise the once matching the given name. Here i just want to remove the partial one defined above: "
   ]
  },
  {
   "cell_type": "code",
   "execution_count": 12,
   "id": "27abf250",
   "metadata": {},
   "outputs": [],
   "source": [
    "remove_parameter_sets('Partial')"
   ]
  },
  {
   "cell_type": "code",
   "execution_count": 13,
   "id": "29fbfae3",
   "metadata": {},
   "outputs": [
    {
     "name": "stdout",
     "output_type": "stream",
     "text": [
      "InitialState\n"
     ]
    }
   ],
   "source": [
    "for p_set in get_parameter_sets(): \n",
    "    print(p_set['name'])"
   ]
  },
  {
   "cell_type": "code",
   "execution_count": 14,
   "id": "c37b0b36",
   "metadata": {},
   "outputs": [],
   "source": [
    "remove_datamodel(brusselator)"
   ]
  },
  {
   "cell_type": "markdown",
   "id": "98c07a3a",
   "metadata": {},
   "source": [
    "### Parameter sets and Parameter Estimation\n",
    "Parameter sets are mainly in use in parameter estimations, with multiple experiments. Since each experiment can have different initial conditions or even dependent values can differ between experiments, the parameter sets can capture those differences, when a parameter estimation is run with `create_parametersets=True`, lets try this here for a small test model that has parameter estimation set up: "
   ]
  },
  {
   "cell_type": "code",
   "execution_count": 15,
   "id": "4ed6e656",
   "metadata": {},
   "outputs": [],
   "source": [
    "lm = load_example('LM')"
   ]
  },
  {
   "cell_type": "markdown",
   "id": "8f941ba6",
   "metadata": {},
   "source": [
    "we don't have any parameter sets yet, but when we run the the parameter estimation we can have some created: "
   ]
  },
  {
   "cell_type": "code",
   "execution_count": 16,
   "id": "5149cdb3",
   "metadata": {},
   "outputs": [
    {
     "data": {
      "text/plain": [
       "[]"
      ]
     },
     "execution_count": 16,
     "metadata": {},
     "output_type": "execute_result"
    }
   ],
   "source": [
    "get_parameter_sets()"
   ]
  },
  {
   "cell_type": "code",
   "execution_count": 17,
   "id": "c7def161",
   "metadata": {},
   "outputs": [
    {
     "data": {
      "text/html": [
       "<div>\n",
       "<style scoped>\n",
       "    .dataframe tbody tr th:only-of-type {\n",
       "        vertical-align: middle;\n",
       "    }\n",
       "\n",
       "    .dataframe tbody tr th {\n",
       "        vertical-align: top;\n",
       "    }\n",
       "\n",
       "    .dataframe thead th {\n",
       "        text-align: right;\n",
       "    }\n",
       "</style>\n",
       "<table border=\"1\" class=\"dataframe\">\n",
       "  <thead>\n",
       "    <tr style=\"text-align: right;\">\n",
       "      <th></th>\n",
       "      <th>lower</th>\n",
       "      <th>upper</th>\n",
       "      <th>sol</th>\n",
       "      <th>affected</th>\n",
       "    </tr>\n",
       "    <tr>\n",
       "      <th>name</th>\n",
       "      <th></th>\n",
       "      <th></th>\n",
       "      <th></th>\n",
       "      <th></th>\n",
       "    </tr>\n",
       "  </thead>\n",
       "  <tbody>\n",
       "    <tr>\n",
       "      <th>(R1).k2</th>\n",
       "      <td>1e-6</td>\n",
       "      <td>1e6</td>\n",
       "      <td>0.000002</td>\n",
       "      <td>[]</td>\n",
       "    </tr>\n",
       "    <tr>\n",
       "      <th>(R2).k1</th>\n",
       "      <td>1e-6</td>\n",
       "      <td>1e6</td>\n",
       "      <td>44.661715</td>\n",
       "      <td>[]</td>\n",
       "    </tr>\n",
       "    <tr>\n",
       "      <th>Values[offset]</th>\n",
       "      <td>-0.2</td>\n",
       "      <td>0.4</td>\n",
       "      <td>0.043018</td>\n",
       "      <td>[Experiment_1]</td>\n",
       "    </tr>\n",
       "    <tr>\n",
       "      <th>Values[offset]</th>\n",
       "      <td>-0.2</td>\n",
       "      <td>0.4</td>\n",
       "      <td>0.054167</td>\n",
       "      <td>[Experiment_3]</td>\n",
       "    </tr>\n",
       "    <tr>\n",
       "      <th>Values[offset]</th>\n",
       "      <td>-0.2</td>\n",
       "      <td>0.4</td>\n",
       "      <td>-0.050941</td>\n",
       "      <td>[Experiment]</td>\n",
       "    </tr>\n",
       "    <tr>\n",
       "      <th>Values[offset]</th>\n",
       "      <td>-0.2</td>\n",
       "      <td>0.4</td>\n",
       "      <td>0.045922</td>\n",
       "      <td>[Experiment_4]</td>\n",
       "    </tr>\n",
       "    <tr>\n",
       "      <th>Values[offset]</th>\n",
       "      <td>-0.2</td>\n",
       "      <td>0.4</td>\n",
       "      <td>0.048025</td>\n",
       "      <td>[Experiment_2]</td>\n",
       "    </tr>\n",
       "  </tbody>\n",
       "</table>\n",
       "</div>"
      ],
      "text/plain": [
       "               lower upper        sol        affected\n",
       "name                                                 \n",
       "(R1).k2         1e-6   1e6   0.000002              []\n",
       "(R2).k1         1e-6   1e6  44.661715              []\n",
       "Values[offset]  -0.2   0.4   0.043018  [Experiment_1]\n",
       "Values[offset]  -0.2   0.4   0.054167  [Experiment_3]\n",
       "Values[offset]  -0.2   0.4  -0.050941    [Experiment]\n",
       "Values[offset]  -0.2   0.4   0.045922  [Experiment_4]\n",
       "Values[offset]  -0.2   0.4   0.048025  [Experiment_2]"
      ]
     },
     "execution_count": 17,
     "metadata": {},
     "output_type": "execute_result"
    }
   ],
   "source": [
    "run_parameter_estimation(create_parametersets=True)"
   ]
  },
  {
   "cell_type": "markdown",
   "id": "a52e4695",
   "metadata": {},
   "source": [
    "we can look at the fit statistic, to see which objective value was reached: "
   ]
  },
  {
   "cell_type": "code",
   "execution_count": 18,
   "id": "0dd2df95",
   "metadata": {},
   "outputs": [
    {
     "data": {
      "text/plain": [
       "12.84655534656214"
      ]
     },
     "execution_count": 18,
     "metadata": {},
     "output_type": "execute_result"
    }
   ],
   "source": [
    "get_fit_statistic()['obj']"
   ]
  },
  {
   "cell_type": "markdown",
   "id": "86126e7b",
   "metadata": {},
   "source": [
    "and we also see all the generated parameter sets, one for the original model state, and one for each individual experiment: "
   ]
  },
  {
   "cell_type": "code",
   "execution_count": 19,
   "id": "4db84f94",
   "metadata": {},
   "outputs": [
    {
     "name": "stdout",
     "output_type": "stream",
     "text": [
      "PE: 2023-02-22T13:52:28Z Exp: Original\n",
      "PE: 2023-02-22T13:52:28Z Exp: Experiment\n",
      "PE: 2023-02-22T13:52:28Z Exp: Experiment_1\n",
      "PE: 2023-02-22T13:52:28Z Exp: Experiment_2\n",
      "PE: 2023-02-22T13:52:28Z Exp: Experiment_3\n",
      "PE: 2023-02-22T13:52:28Z Exp: Experiment_4\n"
     ]
    }
   ],
   "source": [
    "for p_set in get_parameter_sets(): \n",
    "    print(p_set['name'])"
   ]
  },
  {
   "cell_type": "markdown",
   "id": "1245503e",
   "metadata": {},
   "source": [
    "we can run the parameter estimation again, maybe using a different algorithm, and this new run would give as further parameter sets: "
   ]
  },
  {
   "cell_type": "code",
   "execution_count": 20,
   "id": "4b3c6dc7",
   "metadata": {},
   "outputs": [
    {
     "name": "stdout",
     "output_type": "stream",
     "text": [
      "Objective value reached: 12.501488024131111\n"
     ]
    }
   ],
   "source": [
    "run_parameter_estimation(method=PE.HOOKE_JEEVES, create_parametersets=True)\n",
    "print(f\"Objective value reached: {get_fit_statistic()['obj']}\")"
   ]
  },
  {
   "cell_type": "code",
   "execution_count": 21,
   "id": "335812fe",
   "metadata": {},
   "outputs": [
    {
     "name": "stdout",
     "output_type": "stream",
     "text": [
      "PE: 2023-02-22T13:52:28Z Exp: Original\n",
      "PE: 2023-02-22T13:52:28Z Exp: Experiment\n",
      "PE: 2023-02-22T13:52:28Z Exp: Experiment_1\n",
      "PE: 2023-02-22T13:52:28Z Exp: Experiment_2\n",
      "PE: 2023-02-22T13:52:28Z Exp: Experiment_3\n",
      "PE: 2023-02-22T13:52:28Z Exp: Experiment_4\n",
      "PE: 2023-02-22T13:52:32Z Exp: Original\n",
      "PE: 2023-02-22T13:52:32Z Exp: Experiment\n",
      "PE: 2023-02-22T13:52:32Z Exp: Experiment_1\n",
      "PE: 2023-02-22T13:52:32Z Exp: Experiment_2\n",
      "PE: 2023-02-22T13:52:32Z Exp: Experiment_3\n",
      "PE: 2023-02-22T13:52:32Z Exp: Experiment_4\n"
     ]
    }
   ],
   "source": [
    "for p_set in get_parameter_sets(): \n",
    "    print(p_set['name'])"
   ]
  },
  {
   "cell_type": "markdown",
   "id": "1e10e694",
   "metadata": {},
   "source": [
    "since the objective value is better for the second run, let us assume we want to remove the parameter sets from the first run. We can do this like so:"
   ]
  },
  {
   "cell_type": "code",
   "execution_count": 22,
   "id": "4ef63fe7",
   "metadata": {},
   "outputs": [],
   "source": [
    "psets =  get_parameter_sets()\n",
    "first_time_stamp = psets[0]['name'][:psets[0]['name'].rfind('Exp:')]\n",
    "remove_parameter_sets(first_time_stamp, exact=False)"
   ]
  },
  {
   "cell_type": "code",
   "execution_count": 23,
   "id": "c01c066d",
   "metadata": {},
   "outputs": [
    {
     "name": "stdout",
     "output_type": "stream",
     "text": [
      "PE: 2023-02-22T13:52:32Z Exp: Original\n",
      "PE: 2023-02-22T13:52:32Z Exp: Experiment\n",
      "PE: 2023-02-22T13:52:32Z Exp: Experiment_1\n",
      "PE: 2023-02-22T13:52:32Z Exp: Experiment_2\n",
      "PE: 2023-02-22T13:52:32Z Exp: Experiment_3\n",
      "PE: 2023-02-22T13:52:32Z Exp: Experiment_4\n"
     ]
    }
   ],
   "source": [
    "for p_set in get_parameter_sets(): \n",
    "    print(p_set['name'])"
   ]
  }
 ],
 "metadata": {
  "kernelspec": {
   "display_name": "Python 3 (ipykernel)",
   "language": "python",
   "name": "python3"
  },
  "language_info": {
   "codemirror_mode": {
    "name": "ipython",
    "version": 3
   },
   "file_extension": ".py",
   "mimetype": "text/x-python",
   "name": "python",
   "nbconvert_exporter": "python",
   "pygments_lexer": "ipython3",
   "version": "3.10.4"
  }
 },
 "nbformat": 4,
 "nbformat_minor": 5
}
