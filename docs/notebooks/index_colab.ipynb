{
 "cells": [
  {
   "cell_type": "markdown",
   "id": "0c0187cc",
   "metadata": {},
   "source": [
    "\n",
    "# BasiCO Example Notebooks\n",
    "The notebooks in this folder are intended, to demonstrate common use cases of basico. If you have a use case, that is not covered, or find anything wrong with the ones, please file an [issue](https://github.com/copasi/basico/issues).\n",
    "\n",
    "\n",
    "## Installation\n",
    "To use basico, all that is really needed is to install the package, so lets do that first, this is the basis for all the next examples. This will also install all the required packages (such as the SWIG generated wrappes for COPASI, pandas, numpy, scipy and pyYAML):"
   ]
  },
  {
   "cell_type": "code",
   "execution_count": null,
   "id": "7fc92e70",
   "metadata": {
    "vscode": {
     "languageId": "plaintext"
    }
   },
   "outputs": [],
   "source": [
    "!pip install -q copasi-basico"
   ]
  },
  {
   "cell_type": "markdown",
   "id": "0adf6625",
   "metadata": {},
   "source": [
    "From here, it is best to follow one of the examples: \n",
    "\n",
    "## Model manipulation\n",
    "\n",
    "* [Creating_a_simple_model](https://colab.research.google.com/github/copasi/basico/blob/master/docs/notebooks/Creating_a_simple_model.ipynb) shows how to create a model from scratch. \n",
    "* [Working_with_Reports](https://colab.research.google.com/github/copasi/basico/blob/master/docs/notebooks/Working_with_Reports.ipynb) demonstrates how to create and edit reports, that will be used by `CopasiSE` or the graphical user interface.\n",
    "* [Working_with_Plots](https://colab.research.google.com/github/copasi/basico/blob/master/docs/notebooks/Working_with_Plots.ipynb) lets you edit plot definitions, that will be used by the COPASI graphical user interface.\n",
    "* [Working_with_Annotations](https://colab.research.google.com/github/copasi/basico/blob/master/docs/notebooks/Working_with_Annotations.ipynb) details how to use MIRIAM annotations in basico.\n",
    "\n",
    "## Time Course\n",
    "* [Simple_simulations_with_basico](https://colab.research.google.com/github/copasi/basico/blob/master/docs/notebooks/Simple_simulations_with_basico.ipynb) demonstrates carrying out simulations in basico\n",
    "* [Creating_a_simple_model](https://colab.research.google.com/github/copasi/basico/blob/master/docs/notebooks/Creating_a_simple_model.ipynb) also simulates the model manually created\n",
    "* [Custom Timecourse](https://colab.research.google.com/github/copasi/basico/blob/master/docs/notebooks/CustomTimecourse.ipynb) runs a time course simulation, only collecting the output of elements you really need.\n",
    "\n",
    "## Parameter Estimation\n",
    "\n",
    "* [Parameter_Estimation_Example](https://colab.research.google.com/github/copasi/basico/blob/master/docs/notebooks/Parameter_Estimation_Example.ipynb) carries out a parameter estimation already defined in a COPASI file\n",
    "* [Setting_up_Parameter_Estimation](https://colab.research.google.com/github/copasi/basico/blob/master/docs/notebooks/Setting_up_Parameter_Estimation.ipynb) shows how you would set up a parameter estimation task from scratch\n",
    "\n",
    "## Optimization\n",
    "\n",
    "* [Optimization](https://colab.research.google.com/github/copasi/basico/blob/master/docs/notebooks/Optimization.ipynb) shows how you would run optimization problems with basico\n",
    "\n",
    "## Scan\n",
    "\n",
    "* [Parameter_Scans](https://colab.research.google.com/github/copasi/basico/blob/master/docs/notebooks/Parameter_Scans.ipynb) demonstrates how to use the COPASI scan task\n",
    "* [Working_with_ipyparallel](https://colab.research.google.com/github/copasi/basico/blob/master/docs/notebooks/Working_with_ipyparallel.ipynb) goes through the use case of using the `ipyparallel` package to carry out scans manually in a jupyter cluster. \n",
    "* [multiprocessing](https://github.com/copasi/basico/blob/master/examples/parallel_scan.py) is an example script, where the same scan is run using a `multiprocessing` pool. \n",
    "\n",
    "## Other\n",
    "\n",
    "* [Accessing_Models_from_Databases](Accessing_Models_from_Databases.ipynb) shows how to load models directly from the [BioModels Database](https://www.ebi.ac.uk/biomodels/), or [JWS Online](http://jjj.biochem.sun.ac.za). \n",
    "\n",
    "## More documentation\n",
    "Further documentation is available also in the [online manual](https://basico.readthedocs.io)."
   ]
  }
 ],
 "metadata": {
  "kernelspec": {
   "display_name": "Python 3",
   "language": "python",
   "name": "python3"
  },
  "language_info": {
   "codemirror_mode": {
    "name": "ipython",
    "version": 3
   },
   "file_extension": ".py",
   "mimetype": "text/x-python",
   "name": "python",
   "nbconvert_exporter": "python",
   "pygments_lexer": "ipython3",
   "version": "3.9.5"
  }
 },
 "nbformat": 4,
 "nbformat_minor": 5
}
