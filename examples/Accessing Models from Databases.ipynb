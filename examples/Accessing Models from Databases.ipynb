{
 "cells": [
  {
   "cell_type": "markdown",
   "metadata": {
    "collapsed": true
   },
   "source": [
    "## Accessing Models from the BioModels Database"
   ]
  },
  {
   "cell_type": "code",
   "execution_count": 35,
   "metadata": {
    "collapsed": true
   },
   "outputs": [],
   "source": [
    "import sys\n",
    "if '..' not in sys.path:\n",
    "    sys.path.append('..')\n",
    "    \n",
    "import basico.biomodels as biomodels"
   ]
  },
  {
   "cell_type": "markdown",
   "metadata": {},
   "source": [
    "the BioModels REST API allows searching for models, just as one would do in the web interface on http://biomodels.net. So one can search by pathway, species or reactions or submitter / author by just entering them."
   ]
  },
  {
   "cell_type": "code",
   "execution_count": 36,
   "metadata": {},
   "outputs": [
    {
     "output_type": "stream",
     "name": "stdout",
     "text": [
      "Id: BIOMD0000000042\nName: Nielsen1998_Glycolysis\nFormat: SBML\n\nId: BIOMD0000000051\nName: Chassagnole2002_Carbon_Metabolism\nFormat: SBML\n\nId: BIOMD0000000054\nName: Ataullahkhanov1996_Adenylate\nFormat: SBML\n\nId: BIOMD0000000061\nName: Hynne2001_Glycolysis\nFormat: SBML\n\nId: BIOMD0000000064\nName: Teusink2000_Glycolysis\nFormat: SBML\n\nId: BIOMD0000000071\nName: Bakker2001_Glycolysis\nFormat: SBML\n\nId: BIOMD0000000172\nName: Pritchard2002_glycolysis\nFormat: SBML\n\nId: BIOMD0000000176\nName: Conant2007_WGD_glycolysis_2A3AB\nFormat: SBML\n\nId: BIOMD0000000177\nName: Conant2007_glycolysis_2C\nFormat: SBML\n\nId: BIOMD0000000206\nName: Wolf2000_Glycolytic_Oscillations\nFormat: SBML\n\n"
     ]
    }
   ],
   "source": [
    "glycolysis_models = biomodels.search_for_model('glycolysis')\n",
    "for model in glycolysis_models: \n",
    "    print ('Id: %s' % model['id'])\n",
    "    print ('Name: %s' % model['name'])\n",
    "    print ('Format: %s' % model['format'])\n",
    "    print ('')"
   ]
  },
  {
   "cell_type": "markdown",
   "metadata": {},
   "source": [
    "to get more information about a particular model, the `get_model_info` function provides basic information. As all the runctions in this module they take either an integer or string biomodels id as parameter"
   ]
  },
  {
   "cell_type": "code",
   "execution_count": 37,
   "metadata": {
    "collapsed": true
   },
   "outputs": [],
   "source": [
    "info = biomodels.get_model_info(206)"
   ]
  },
  {
   "cell_type": "code",
   "execution_count": 38,
   "metadata": {},
   "outputs": [
    {
     "output_type": "stream",
     "name": "stdout",
     "text": [
      "Wolf2000_Glycolytic_Oscillations\n<notes xmlns=\"http://www.sbml.org/sbml/level2/version3\">\n      <body xmlns=\"http://www.w3.org/1999/xhtml\">\n        <p>Model reproduces the dynamics of ATP and NADH as depicted in Fig 4 of the paper.  Model successfully tested on Jarnac and MathSBML.</p>\n        <br />\n        <p>To the extent possible under law, all copyright and related or neighbouring rights to this encoded model have been dedicated to the public domain worldwide. Please refer to      <a href=\"http://creativecommons.org/publicdomain/zero/1.0/\" title=\"Creative Commons CC0\">CC0 Public Domain Dedication</a>\n          for more information.      </p>\n      <p>In summary, you are entitled to use this encoded model in absolutely any manner you deem suitable, verbatim, or with modification, alone or embedded it in a larger context, redistribute it, commercially or not, in a restricted way or not.</p>\n      <br />\n      <p>To cite BioModels Database, please use:      <a href=\"http://www.ncbi.nlm.nih.gov/pubmed/20587024\" target=\"_blank\">Li C, Donizelli M, Rodriguez N, Dharuri H, Endler L, Chelliah V, Li L, He E, Henry A, Stefan MI, Snoep JL, Hucka M, Le Novère N, Laibe C (2010) BioModels Database: An enhanced, curated and annotated resource for published quantitative kinetic models. BMC Syst Biol., 4:92.</a>\n  </p>\n</body>\n</notes>\n"
     ]
    }
   ],
   "source": [
    "print (info['name'])\n",
    "print (info['description'])"
   ]
  },
  {
   "cell_type": "markdown",
   "metadata": {},
   "source": [
    "the model information object also contains the list of file names associated with the entry. To just get that list the convenience function `get_files_for_model` exists. The main document is contained in a sublist called `main`. So the main entry can be retrieved using"
   ]
  },
  {
   "cell_type": "code",
   "execution_count": 39,
   "metadata": {},
   "outputs": [],
   "source": [
    "first_entry = info['files']['main'][0]"
   ]
  },
  {
   "cell_type": "code",
   "execution_count": 40,
   "metadata": {},
   "outputs": [
    {
     "output_type": "stream",
     "name": "stdout",
     "text": [
      "Main FileName is: 'BIOMD0000000206_url.xml' and has size 27693 kb\n"
     ]
    }
   ],
   "source": [
    "print (\"Main FileName is: '{0}' and has size {1} kb\".format(first_entry['name'], first_entry['fileSize']))"
   ]
  },
  {
   "cell_type": "markdown",
   "metadata": {},
   "source": [
    "to actually get hold of the model itself, you can use the `get_content_for_model` function, that takes a model id, as well as an optional filename. If the filename is not given, the first main content will be chosen automatically. So to download the model of biomodel #206, once could simply call: "
   ]
  },
  {
   "cell_type": "code",
   "execution_count": 41,
   "metadata": {
    "collapsed": true
   },
   "outputs": [],
   "source": [
    "sbml = biomodels.get_content_for_model(206)"
   ]
  },
  {
   "cell_type": "code",
   "execution_count": 42,
   "metadata": {},
   "outputs": [
    {
     "output_type": "execute_result",
     "data": {
      "text/plain": [
       "esource=\"http://identifiers.org/obo.chebi/CHEBI:15846\"/>\\n\\t<rdf:li rdf:resource=\"http://identifiers.org/kegg.compound/C00003\"/>\\n\\t</rdf:Bag>\\n\\t</bqbiol:is>\\n\\t</rdf:Description>\\n\\t\\n      </rdf:RDF>\\n    </annotation>\\n            </species>\\n      <species compartment=\"compartment\" id=\"s4\" initialConcentration=\"0.7\" metaid=\"metaid_0000027\" name=\"3PG\">\\n        <annotation>\\n      <rdf:RDF xmlns:rdf=\"http://www.w3.org/1999/02/22-rdf-syntax-ns#\" xmlns:bqmodel=\"http://biomodels.net/model-qualifiers/\" xmlns:bqbiol=\"http://biomodels.net/biology-qualifiers/\">\\n            <rdf:Description rdf:about=\"#metaid_0000027\">\\n\\t<bqbiol:is>\\n\\t<rdf:Bag>\\n\\t<rdf:li rdf:resource=\"http://identifiers.org/obo.chebi/CHEBI:17794\"/>\\n\\t<rdf:li rdf:resource=\"http://identifiers.org/kegg.compound/C00197\"/>\\n\\t</rdf:Bag>\\n\\t</bqbiol:is>\\n\\t</rdf:Description>\\n\\t\\n      </rdf:RDF>\\n    </annotation>\\n            </species>\\n      <species compartment=\"compartment\" id=\"s5\" initialConcentration=\"8\" metaid=\"metaid_0000028\" name=\"Pyruvate\">\\n        <annotation>\\n      <rdf:RDF xmlns:rdf=\"http://www.w3.org/1999/02/22-rdf-syntax-ns#\" xmlns:dc=\"http://purl.org/dc/elements/1.1/\" xmlns:dcterms=\"http://purl.org/dc/terms/\" xmlns:vCard=\"http://www.w3.org/2001/vcard-rdf/3.0#\" xmlns:bqbiol=\"http://biomodels.net/biology-qualifiers/\" xmlns:bqmodel=\"http://biomodels.net/model-qualifiers/\">\\n            <rdf:Description rdf:about=\"#metaid_0000028\">\\n              <bqbiol:is>\\n\\t<rdf:Bag>\\n\\t<rdf:li rdf:resource=\"http://identifiers.org/kegg.compound/C00022\"/>\\n\\t<rdf:li rdf:resource=\"http://identifiers.org/chebi/CHEBI:32816\"/>\\n\\t</rdf:Bag>\\n\\t</bqbiol:is>\\n\\t\\n\\t<bqbiol:is>\\n\\t<rdf:Bag>\\n\\t<rdf:li rdf:resource=\"http://identifiers.org/obo.chebi/CHEBI:15361\"/>\\n\\t</rdf:Bag>\\n\\t</bqbiol:is>\\n\\t</rdf:Description>\\n\\t\\n      </rdf:RDF>\\n    </annotation>\\n            </species>\\n      <species compartment=\"compartment\" id=\"s6\" initialConcentration=\"0.08\" metaid=\"metaid_0000029\" name=\"Acetaldehyde\">\\n        <annotation>\\n      <rdf:RDF xmlns:rdf=\"http://www.w3.org/1999/02/22-rdf-syntax-ns#\" xmlns:bqmodel=\"http://biomodels.net/model-qualifiers/\" xmlns:bqbiol=\"http://biomodels.net/biology-qualifiers/\">\\n            <rdf:Description rdf:about=\"#metaid_0000029\">\\n\\t<bqbiol:is>\\n\\t<rdf:Bag>\\n\\t<rdf:li rdf:resource=\"http://identifiers.org/obo.chebi/CHEBI:15343\"/>\\n\\t<rdf:li rdf:resource=\"http://identifiers.org/kegg.compound/C00084\"/>\\n\\t</rdf:Bag>\\n\\t</bqbiol:is>\\n\\t</rdf:Description>\\n\\t\\n      </rdf:RDF>\\n    </annotation>\\n            </species>\\n      <species compartment=\"compartment\" id=\"s6o\" initialConcentration=\"0.02\" metaid=\"metaid_0000031\" name=\"extracellular acetaldehyde\">\\n        <annotation>\\n      <rdf:RDF xmlns:rdf=\"http://www.w3.org/1999/02/22-rdf-syntax-ns#\" xmlns:bqmodel=\"http://biomodels.net/model-qualifiers/\" xmlns:bqbiol=\"http://biomodels.net/biology-qualifiers/\">\\n            <rdf:Description rdf:about=\"#metaid_0000031\">\\n\\t<bqbiol:is>\\n\\t<rdf:Bag>\\n\\t<rdf:li rdf:resource=\"http://identifiers.org/obo.chebi/CHEBI:15343\"/>\\n\\t<rdf:li rdf:resource=\"http://identifiers.org/kegg.compound/C00084\"/>\\n\\t</rdf:Bag>\\n\\t</bqbiol:is>\\n\\t</rdf:Description>\\n\\t\\n      </rdf:RDF>\\n    </annotation>\\n            </species>\\n    </listOfSpecies>\\n    <listOfParameters>\\n      <parameter id=\"k0\" metaid=\"metaid_0000003\" name=\"k0\" units=\"mM_min_1\" value=\"50\"/>\\n      <parameter id=\"k1\" metaid=\"metaid_0000004\" name=\"k1\" units=\"mM_1_min_1\" value=\"550\"/>\\n      <parameter id=\"k2\" metaid=\"metaid_0000005\" name=\"k2\" units=\"min_1\" value=\"9.8\"/>\\n      <parameter id=\"k31\" metaid=\"metaid_0000006\" name=\"k31\" units=\"mM_1_min_1\" value=\"323.8\"/>\\n      <parameter id=\"k33\" metaid=\"metaid_0000007\" name=\"k33\" units=\"mM_1_min_1\" value=\"5.78231E4\"/>\\n      <parameter id=\"k32\" metaid=\"metaid_0000008\" name=\"k32\" units=\"mM_1_min_1\" value=\"7.64111E4\"/>\\n      <parameter id=\"k34\" metaid=\"metaid_0000009\" name=\"k34\" units=\"mM_1_min_1\" value=\"23.7\"/>\\n      <parameter id=\"k4\" metaid=\"metaid_0000010\" name=\"k4\" units=\"mM_1_min_1\" value=\"80\"/>\\n      <parameter id=\"k5\" metaid=\"metaid_0000011\" name=\"k5\" units=\"min_1\" value=\"9.7\"/>\\n      <parameter id=\"k6\" metaid=\"metaid_0000012\" name=\"k6\" units=\"mM_1_min_1\" value=\"2000\"/>\\n      <parameter id=\"k7\" metaid=\"metaid_0000013\" name=\"k7\" units=\"min_1\" value=\"28\"/>\\n      <parameter id=\"k8\" metaid=\"metaid_0000014\" name=\"k8\" units=\"mM_1_min_1\" value=\"85.7\"/>\\n      <parameter id=\"k9\" metaid=\"metaid_0000015\" name=\"k9\" units=\"min_1\" value=\"80\"/>\\n      <parameter id=\"k10\" metaid=\"metaid_0000016\" name=\"k10\" units=\"min_1\" value=\"375\"/>\\n      <parameter id=\"atot\" metaid=\"metaid_0000017\" name=\"atot\" units=\"mM\" value=\"4\"/>\\n      <parameter id=\"ntot\" metaid=\"metaid_0000018\" name=\"ntot\" units=\"mM\" value=\"1\"/>\\n      <parameter id=\"n\" metaid=\"metaid_0000019\" name=\"n\" units=\"dimensionless\" value=\"4\"/>\\n      <parameter id=\"ki\" metaid=\"metaid_0000020\" name=\"ki\" units=\"mM\" value=\"1\"/>\\n    </listOfParameters>\\n    <listOfReactions>\\n      <reaction id=\"v1\" metaid=\"metaid_0000033\" name=\"v1\">\\n        <annotation>\\n      <rdf:RDF xmlns:rdf=\"http://www.w3.org/1999/02/22-rdf-syntax-ns#\" xmlns:bqmodel=\"http://biomodels.net/model-qualifiers/\" xmlns:bqbiol=\"http://biomodels.net/biology-qualifiers/\">\\n            <rdf:Description rdf:about=\"#metaid_0000033\">\\n              <bqbiol:hasPart>\\n\\t<rdf:Bag>\\n\\t<rdf:li rdf:resource=\"http://identifiers.org/kegg.reaction/R00756\"/>\\n\\t<rdf:li rdf:resource=\"http://identifiers.org/kegg.reaction/R00299\"/>\\n\\t</rdf:Bag>\\n\\t</bqbiol:hasPart>\\n\\t\\n\\t<bqbiol:hasPart>\\n\\t<rdf:Bag>\\n\\t<rdf:li rdf:resource=\"http://identifiers.org/ec-code/2.7.1.11\"/>\\n\\t<rdf:li rdf:resource=\"http://identifiers.org/ec-code/5.3.1.9\"/>\\n\\t</rdf:Bag>\\n\\t</bqbiol:hasPart>\\n\\t</rdf:Description>\\n\\t\\n      </rdf:RDF>\\n    </annotation>\\n              <listOfReactants>\\n          <speciesReference metaid=\"_114158\" species=\"s1\"/>\\n          <speciesReference metaid=\"_114170\" species=\"at\" stoichiometry=\"2\"/>\\n        </listOfReactants>\\n        <listOfProducts>\\n          <speciesReference metaid=\"_114182\" species=\"s2\"/>\\n        </listOfProducts>\\n        <kineticLaw metaid=\"_114194\">\\n          <math xmlns=\"http://www.w3.org/1998/Math/MathML\">          \\n            <apply>\\n              <divide/>\\n              <apply>\\n                <times/>\\n                <ci> compartment </ci>\\n                <ci> k1 </ci>\\n                <ci> s1 </ci>\\n                <ci> at </ci>\\n              </apply>\\n              <apply>\\n                <plus/>\\n                <cn type=\"integer\"> 1 </cn>\\n                <apply>\\n                  <power/>\\n                  <apply>\\n                    <divide/>\\n                    <ci> at </ci>\\n                    <ci> ki </ci>\\n                  </apply>\\n                  <ci> n </ci>\\n                </apply>\\n              </apply>\\n            </apply>\\n          </math>\\n                </kineticLaw>\\n      </reaction>\\n      <reaction id=\"v2\" metaid=\"metaid_0000034\" name=\"v2\">\\n        <annotation>\\n      <rdf:RDF xmlns:rdf=\"http://www.w3.org/1999/02/22-rdf-syntax-ns#\" xmlns:bqmodel=\"http://biomodels.net/model-qualifiers/\" xmlns:bqbiol=\"http://biomodels.net/biology-qualifiers/\">\\n            <rdf:Description rdf:about=\"#metaid_0000034\">\\n\\t<bqbiol:is>\\n\\t<rdf:Bag>\\n\\t<rdf:li rdf:resource=\"http://identifiers.org/ec-code/4.1.2.13\"/>\\n\\t<rdf:li rdf:resource=\"http://identifiers.org/kegg.reaction/R01070\"/>\\n\\t</rdf:Bag>\\n\\t</bqbiol:is>\\n\\t</rdf:Description>\\n\\t\\n      </rdf:RDF>\\n    </annotation>\\n              <listOfReactants>\\n          <speciesReference metaid=\"_114206\" species=\"s2\"/>\\n        </listOfReactants>\\n        <listOfProducts>\\n          <speciesReference metaid=\"_114218\" species=\"s3\" stoichiometry=\"2\"/>\\n        </listOfProducts>\\n        <kineticLaw metaid=\"_114230\">\\n          <math xmlns=\"http://www.w3.org/1998/Math/MathML\">          \\n            <apply>\\n              <times/>\\n              <ci> compartment </ci>\\n              <ci> k2 </ci>\\n              <ci> s2 </ci>\\n            </apply>\\n          </math>\\n                </kineticLaw>\\n      </reaction>\\n      <reaction id=\"v3\" metaid=\"metaid_0000035\" name=\"v3\">\\n        <annotation>\\n      <rdf:RDF xmlns:rdf=\"http://www.w3.org/1999/02/22-rdf-syntax-ns#\" xmlns:bqmodel=\"http://biomodels.net/model-qualifiers/\" xmlns:bqbiol=\"http://biomodels.net/biology-qualifiers/\">\\n            <rdf:Description rdf:about=\"#metaid_0000035\">\\n\\t<bqbiol:hasPart>\\n\\t<rdf:Bag>\\n\\t<rdf:li rdf:resource=\"http://identifiers.org/ec-code/2.7.2.3\"/>\\n\\t<rdf:li rdf:resource=\"http://identifiers.org/ec-code/1.2.1.12\"/>\\n\\t</rdf:Bag>\\n\\t</bqbiol:hasPart>\\n\\t</rdf:Description>\\n\\t\\n      </rdf:RDF>\\n    </annotation>\\n              <listOfReactants>\\n          <speciesReference metaid=\"_114242\" species=\"s3\"/>\\n          <speciesReference metaid=\"_114254\" species=\"na\"/>\\n        </listOfReactants>\\n        <listOfProducts>\\n          <speciesReference metaid=\"_114266\" species=\"s4\"/>\\n          <speciesReference metaid=\"_114278\" species=\"at\"/>\\n        </listOfProducts>\\n        <kineticLaw metaid=\"_114290\">\\n          <math xmlns=\"http://www.w3.org/1998/Math/MathML\">          \\n            <apply>\\n              <times/>\\n              <ci> compartment </ci>\\n              <apply>\\n                <divide/>\\n                <apply>\\n                  <minus/>\\n                  <apply>\\n                    <times/>\\n                    <ci> k31 </ci>\\n                    <ci> k32 </ci>\\n                    <ci> s3 </ci>\\n                    <ci> na </ci>\\n                    <apply>\\n                      <minus/>\\n                      <ci> atot </ci>\\n                      <ci> at </ci>\\n                    </apply>\\n                  </apply>\\n                  <apply>\\n                    <times/>\\n                    <ci> k33 </ci>\\n                    <ci> k34 </ci>\\n                    <ci> s4 </ci>\\n                    <ci> at </ci>\\n                    <apply>\\n                      <minus/>\\n                      <ci> ntot </ci>\\n                      <ci> na </ci>\\n                    </apply>\\n                  </apply>\\n                </apply>\\n                <apply>\\n                  <plus/>\\n                  <apply>\\n                    <times/>\\n                    <ci> k33 </ci>\\n                    <apply>\\n                      <minus/>\\n                      <ci> ntot </ci>\\n                      <ci> na </ci>\\n                    </apply>\\n                  </apply>\\n                  <apply>\\n                    <times/>\\n                    <ci> k32 </ci>\\n                    <apply>\\n                      <minus/>\\n                      <ci> atot </ci>\\n                      <ci> at </ci>\\n                    </apply>\\n                  </apply>\\n                </apply>\\n              </apply>\\n            </apply>\\n          </math>\\n                </kineticLaw>\\n      </reaction>\\n      <reaction id=\"v4\" metaid=\"metaid_0000036\" name=\"v4\">\\n        <annotation>\\n      <rdf:RDF xmlns:rdf=\"http://www.w3.org/1999/02/22-rdf-syntax-ns#\" xmlns:bqmodel=\"http://biomodels.net/model-qualifiers/\" xmlns:bqbiol=\"http://biomodels.net/biology-qualifiers/\">\\n            <rdf:Description rdf:about=\"#metaid_0000036\">\\n              <bqbiol:hasPart>\\n\\t<rdf:Bag>\\n\\t<rdf:li rdf:resource=\"http://identifiers.org/kegg.reaction/R00658\"/>\\n\\t<rdf:li rdf:resource=\"http://identifiers.org/kegg.reaction/R00200\"/>\\n\\t</rdf:Bag>\\n\\t</bqbiol:hasPart>\\n\\t\\n\\t<bqbiol:hasPart>\\n\\t<rdf:Bag>\\n\\t<rdf:li rdf:resource=\"http://identifiers.org/ec-code/2.7.1.40\"/>\\n\\t</rdf:Bag>\\n\\t</bqbiol:hasPart>\\n\\t</rdf:Description>\\n\\t\\n      </rdf:RDF>\\n    </annotation>\\n              <listOfReactants>\\n          <speciesReference metaid=\"_114302\" species=\"s4\"/>\\n        </listOfReactants>\\n        <listOfProducts>\\n          <speciesReference metaid=\"_114314\" species=\"s5\"/>\\n          <speciesReference metaid=\"_114326\" species=\"at\"/>\\n        </listOfProducts>\\n        <kineticLaw metaid=\"_114339\">\\n          <math xmlns=\"http://www.w3.org/1998/Math/MathML\">          \\n            <apply>\\n              <times/>\\n              <ci> compartment </ci>\\n              <ci> k4 </ci>\\n              <ci> s4 </ci>\\n              <apply>\\n                <minus/>\\n                <ci> atot </ci>\\n                <ci> at </ci>\\n              </apply>\\n            </apply>\\n          </math>\\n                </kineticLaw>\\n      </reaction>\\n      <reaction id=\"v5\" metaid=\"metaid_0000037\" name=\"v5\">\\n        <annotation>\\n      <rdf:RDF xmlns:rdf=\"http://www.w3.org/1999/02/22-rdf-syntax-ns#\" xmlns:bqmodel=\"http://biomodels.net/model-qualifiers/\" xmlns:bqbiol=\"http://biomodels.net/biology-qualifiers/\">\\n            <rdf:Description rdf:about=\"#metaid_0000037\">\\n\\t<bqbiol:isVersionOf>\\n\\t<rdf:Bag>\\n\\t<rdf:li rdf:resource=\"http://identifiers.org/ec-code/4.1.1.1\"/>\\n\\t<rdf:li rdf:resource=\"http://identifiers.org/kegg.reaction/R00224\"/>\\n\\t</rdf:Bag>\\n\\t</bqbiol:isVersionOf>\\n\\t</rdf:Description>\\n\\t\\n      </rdf:RDF>\\n    </annotation>\\n              <listOfReactants>\\n          <speciesReference metaid=\"_114352\" species=\"s5\"/>\\n        </listOfReactants>\\n        <listOfProducts>\\n          <speciesReference metaid=\"_114364\" species=\"s6\"/>\\n        </listOfProducts>\\n        <kineticLaw metaid=\"_114376\">\\n          <math xmlns=\"http://www.w3.org/1998/Math/MathML\">          \\n            <apply>\\n              <times/>\\n              <ci> compartment </ci>\\n              <ci> k5 </ci>\\n              <ci> s5 </ci>\\n            </apply>\\n          </math>\\n                </kineticLaw>\\n      </reaction>\\n      <reaction id=\"v7\" metaid=\"metaid_0000038\" name=\"v7\">\\n        <annotation>\\n      <rdf:RDF xmlns:rdf=\"http://www.w3.org/1999/02/22-rdf-syntax-ns#\" xmlns:bqmodel=\"http://biomodels.net/model-qualifiers/\" xmlns:bqbiol=\"http://biomodels.net/biology-qualifiers/\">\\n            <rdf:Description rdf:about=\"#metaid_0000038\">\\n\\t<bqbiol:isVersionOf>\\n\\t<rdf:Bag>\\n\\t<rdf:li rdf:resource=\"http://identifiers.org/obo.go/GO:0006754\"/>\\n\\t</rdf:Bag>\\n\\t</bqbiol:isVersionOf>\\n\\t</rdf:Description>\\n\\t\\n      </rdf:RDF>\\n    </annotation>\\n              <listOfReactants>\\n          <speciesReference metaid=\"_114388\" species=\"at\"/>\\n        </listOfReactants>\\n        <kineticLaw metaid=\"_114400\">\\n          <math xmlns=\"http://www.w3.org/1998/Math/MathML\">          \\n            <apply>\\n              <times/>\\n              <ci> compartment </ci>\\n              <ci> k7 </ci>\\n              <ci> at </ci>\\n            </apply>\\n          </math>\\n                </kineticLaw>\\n      </reaction>\\n      <reaction id=\"v8\" metaid=\"metaid_0000039\" name=\"v8\">\\n        <annotation>\\n      <rdf:RDF xmlns:rdf=\"http://www.w3.org/1999/02/22-rdf-syntax-ns#\" xmlns:bqmodel=\"http://biomodels.net/model-qualifiers/\" xmlns:bqbiol=\"http://biomodels.net/biology-qualifiers/\">\\n            <rdf:Description rdf:about=\"#metaid_0000039\">\\n\\t<bqbiol:hasPart>\\n\\t<rdf:Bag>\\n\\t<rdf:li rdf:resource=\"http://identifiers.org/kegg.reaction/R05679\"/>\\n\\t</rdf:Bag>\\n\\t</bqbiol:hasPart>\\n\\t</rdf:Description>\\n\\t\\n      </rdf:RDF>\\n    </annotation>\\n              <listOfReactants>\\n          <speciesReference metaid=\"_114412\" species=\"s3\"/>\\n        </listOfReactants>\\n        <listOfProducts>\\n          <speciesReference metaid=\"_114424\" species=\"na\"/>\\n        </listOfProducts>\\n        <kineticLaw metaid=\"_114436\">\\n          <math xmlns=\"http://www.w3.org/1998/Math/MathML\">          \\n            <apply>\\n              <times/>\\n              <ci> compartment </ci>\\n              <ci> k8 </ci>\\n              <ci> s3 </ci>\\n              <apply>\\n                <minus/>\\n                <ci> ntot </ci>\\n                <ci> na </ci>\\n              </apply>\\n            </apply>\\n          </math>\\n                </kineticLaw>\\n      </reaction>\\n      <reaction id=\"v9\" metaid=\"metaid_0000040\" name=\"v9\">\\n        <annotation>\\n      <rdf:RDF xmlns:rdf=\"http://www.w3.org/1999/02/22-rdf-syntax-ns#\" xmlns:bqmodel=\"http://biomodels.net/model-qualifiers/\" xmlns:bqbiol=\"http://biomodels.net/biology-qualifiers/\">\\n            <rdf:Description rdf:about=\"#metaid_0000040\">\\n\\t<bqbiol:isVersionOf>\\n\\t<rdf:Bag>\\n\\t<rdf:li rdf:resource=\"http://identifiers.org/obo.go/GO:0046187\"/>\\n\\t</rdf:Bag>\\n\\t</bqbiol:isVersionOf>\\n\\t</rdf:Description>\\n\\t\\n      </rdf:RDF>\\n    </annotation>\\n              <listOfReactants>\\n          <speciesReference metaid=\"_114448\" species=\"s6o\"/>\\n        </listOfReactants>\\n        <kineticLaw metaid=\"_114460\">\\n          <math xmlns=\"http://www.w3.org/1998/Math/MathML\">          \\n            <apply>\\n              <times/>\\n              <ci> compartment </ci>\\n              <ci> k9 </ci>\\n              <ci> s6o </ci>\\n            </apply>\\n          </math>\\n                </kineticLaw>\\n      </reaction>\\n      <reaction id=\"v10\" metaid=\"metaid_0000041\" name=\"v10\">\\n        <listOfReactants>\\n          <speciesReference metaid=\"_114472\" species=\"s6\"/>\\n        </listOfReactants>\\n        <listOfProducts>\\n          <speciesReference metaid=\"_114485\" species=\"s6o\" stoichiometry=\"0.1\"/>\\n        </listOfProducts>\\n        <kineticLaw metaid=\"_114498\">\\n          <math xmlns=\"http://www.w3.org/1998/Math/MathML\">          \\n            <apply>\\n              <times/>\\n              <ci> compartment </ci>\\n              <ci> k10 </ci>\\n              <apply>\\n                <minus/>\\n                <ci> s6 </ci>\\n                <ci> s6o </ci>\\n              </apply>\\n            </apply>\\n          </math>\\n                </kineticLaw>\\n      </reaction>\\n      <reaction id=\"v6\" metaid=\"metaid_0000042\" name=\"v6\">\\n        <annotation>\\n      <rdf:RDF xmlns:rdf=\"http://www.w3.org/1999/02/22-rdf-syntax-ns#\" xmlns:bqmodel=\"http://biomodels.net/model-qualifiers/\" xmlns:bqbiol=\"http://biomodels.net/biology-qualifiers/\">\\n            <rdf:Description rdf:about=\"#metaid_0000042\">\\n\\t<bqbiol:isVersionOf>\\n\\t<rdf:Bag>\\n\\t<rdf:li rdf:resource=\"http://identifiers.org/ec-code/1.1.1.71\"/>\\n\\t<rdf:li rdf:resource=\"http://identifiers.org/kegg.reaction/R00754\"/>\\n\\t</rdf:Bag>\\n\\t</bqbiol:isVersionOf>\\n\\t</rdf:Description>\\n\\t\\n      </rdf:RDF>\\n    </annotation>\\n              <listOfReactants>\\n          <speciesReference metaid=\"_114511\" species=\"s6\"/>\\n        </listOfReactants>\\n        <listOfProducts>\\n          <speciesReference metaid=\"_114524\" species=\"na\"/>\\n        </listOfProducts>\\n        <kineticLaw metaid=\"_114536\">\\n          <math xmlns=\"http://www.w3.org/1998/Math/MathML\">          \\n            <apply>\\n              <times/>\\n              <ci> compartment </ci>\\n              <ci> k6 </ci>\\n              <ci> s6 </ci>\\n              <apply>\\n                <minus/>\\n                <ci> ntot </ci>\\n                <ci> na </ci>\\n              </apply>\\n            </apply>\\n          </math>\\n                </kineticLaw>\\n      </reaction>\\n      <reaction id=\"v0\" metaid=\"metaid_0000043\" name=\"v0\">\\n        <annotation>\\n      <rdf:RDF xmlns:rdf=\"http://www.w3.org/1999/02/22-rdf-syntax-ns#\" xmlns:bqmodel=\"http://biomodels.net/model-qualifiers/\" xmlns:bqbiol=\"http://biomodels.net/biology-qualifiers/\">\\n            <rdf:Description rdf:about=\"#metaid_0000043\">\\n\\t<bqbiol:isVersionOf>\\n\\t<rdf:Bag>\\n\\t<rdf:li rdf:resource=\"http://identifiers.org/obo.go/GO:0046323\"/>\\n\\t</rdf:Bag>\\n\\t</bqbiol:isVersionOf>\\n\\t</rdf:Description>\\n\\t\\n      </rdf:RDF>\\n    </annotation>\\n              <listOfProducts>\\n          <speciesReference metaid=\"_114549\" species=\"s1\"/>\\n        </listOfProducts>\\n        <kineticLaw metaid=\"_114561\">\\n          <math xmlns=\"http://www.w3.org/1998/Math/MathML\">          \\n            <apply>\\n              <times/>\\n              <ci> compartment </ci>\\n              <ci> k0 </ci>\\n            </apply>\\n          </math>\\n                </kineticLaw>\\n      </reaction>\\n    </listOfReactions>\\n  </model>\\n</sbml>'"
      ]
     },
     "metadata": {},
     "execution_count": 42
    }
   ],
   "source": [
    "sbml"
   ]
  },
  {
   "cell_type": "markdown",
   "metadata": {},
   "source": [
    "## JWS Online\n",
    "we also provide access to models from JWS online."
   ]
  },
  {
   "cell_type": "code",
   "execution_count": 43,
   "metadata": {
    "collapsed": true
   },
   "outputs": [],
   "source": [
    "import basico.jws_online as jws"
   ]
  },
  {
   "cell_type": "markdown",
   "metadata": {},
   "source": [
    "with `get_all_models` you would get a list of all the models in JWS online. To search for models, you have 2 options. One is to search for models by species. For example to search for all models involving 'atp'"
   ]
  },
  {
   "cell_type": "code",
   "execution_count": 44,
   "metadata": {},
   "outputs": [
    {
     "output_type": "stream",
     "name": "stdout",
     "text": [
      "achcar1\nachcar10\nachcar11\nachcar12\nachcar13\nachcar14\nachcar2\nachcar3\nachcar4\nachcar5\nachcar6\nachcar7\nachcar8\nachcar9\nalbert1\narnold10\narnold10-2\narnold11\narnold6\narnold7\narnold8\narnold9\nassmus\nbali\nbier2\nbradshaw\nbray2\nbruggeman1\nbulik1\nbulik2\nbulik3\nchance1\nchassagnole1\nchassagnole3\nconant1\nconant2\ncurto1\ndano1\ndano2\ndano3\ndupreez1\ndupreez2\ndupreez3\ndupreez4\ndupreez5\ndupreez6\ndupreez7\nfribourg1\nfribourg2\nfridlyand1\ngalazzo1\ngustavsson1\ngustavsson2\ngustavsson3\ngustavsson4\ngustavsson5\nhald\nheinrich\nhoefnagel1\nhoefnagel2\nhoefnagel_mixedacid\nholzhutter\nhynne\njamshidi\njiang1\nkerkhovena\nkerkhovenc\nkolmeisky1\nkongas1\nkouril2\nkouril3\nkouril4\nkouril6\nkouril7\nkouril8\nkouril9\nlambeth\nlevering1\nlevering2\nmaher1\nmarinhernandez1\nmarinhernandez2\nmarinhernandez3\nmayya1\nmosca1\nmulquiney\nmulquiney1\nmulquiney2\nnazaret1\nneves1\nnielsen\nnishio1\nolah\north1\npenkler1\npenkler2\npenkler2aa\npoolman\npritchard1\nproctor1\nrohwer1\nrovers1\nsaavedra\nsengupta1\nsmallbone0\nsmallbone1\nsmallbone10\nsmallbone11\nsmallbone12\nsmallbone13\nsmallbone14\nsmallbone15\nsmallbone16\nsmallbone17\nsmallbone18\nsmallbone19\nsmallbone2\nsmallbone3\nsmallbone4\nsmallbone5\nsmallbone6\nsmallbone7\nsmallbone8\nsmallbone9\ntang1\nteusink2\nuys\nvalero\nvaneunen1\nvanheerden1\nvanheerden2\nvanniekerk1\nwhillier4\nwolf\nwolf1\n"
     ]
    }
   ],
   "source": [
    "atp_models = jws.get_models_for_species('atp')\n",
    "for model in atp_models: \n",
    "    print model['slug']"
   ]
  },
  {
   "cell_type": "markdown",
   "metadata": {},
   "source": [
    "or you cuold get the models for a specific reaction for example, all models involving 'pfk' would be:"
   ]
  },
  {
   "cell_type": "code",
   "execution_count": 45,
   "metadata": {},
   "outputs": [
    {
     "output_type": "stream",
     "name": "stdout",
     "text": [
      "achcar1\nachcar10\nachcar11\nachcar12\nachcar13\nachcar14\nachcar2\nachcar3\nachcar4\nachcar5\nachcar6\nachcar7\nachcar8\nachcar9\nalbert1\nchassagnole2\nconant1\nconant2\ndupreez1\ndupreez2\ndupreez3\ndupreez4\ndupreez5\ndupreez6\ndupreez7\ngustavsson1\ngustavsson2\ngustavsson3\ngustavsson4\ngustavsson5\nhald\nkerkhovena\nkerkhovenc\nlevering1\nlevering2\nmachado1\nmarinhernandez1\nmarinhernandez2\nmarinhernandez3\nmosca1\nmulquiney\nmulquiney1\nmulquiney2\north1\npenkler1\npenkler2\npenkler2aa\npritchard1\nralser1\nsmallbone0\nsmallbone1\nsmallbone10\nsmallbone11\nsmallbone12\nsmallbone13\nsmallbone14\nsmallbone15\nsmallbone16\nsmallbone17\nsmallbone18\nsmallbone2\nsmallbone3\nsmallbone4\nsmallbone5\nsmallbone6\nsmallbone7\nsmallbone8\nsmallbone9\nvanniekerk1\n"
     ]
    }
   ],
   "source": [
    "pfk_models = jws.get_models_for_reaction('pfk')\n",
    "for model in pfk_models:\n",
    "    print model['slug']"
   ]
  },
  {
   "cell_type": "markdown",
   "metadata": {},
   "source": [
    "for each of these ids, you can get the manuscript, to find out what the model is all about, or the sbml model itself"
   ]
  },
  {
   "cell_type": "code",
   "execution_count": 46,
   "metadata": {
    "collapsed": true
   },
   "outputs": [],
   "source": [
    "manuscript = jws.get_manuscript('wolf')"
   ]
  },
  {
   "cell_type": "code",
   "execution_count": 47,
   "metadata": {},
   "outputs": [
    {
     "output_type": "stream",
     "name": "stdout",
     "text": [
      "Transduction of intracellular and intercellular dynamics in yeast glycolytic oscillations.\n"
     ]
    }
   ],
   "source": [
    "print (manuscript['title'])"
   ]
  },
  {
   "cell_type": "code",
   "execution_count": 48,
   "metadata": {},
   "outputs": [
    {
     "output_type": "stream",
     "name": "stdout",
     "text": [
      "Under certain well-defined conditions, a population of yeast cells exhibits glycolytic oscillations that synchronize through intercellular acetaldehyde. This implies that the dynamic phenomenon of the oscillation propagates within and between cells. We here develop a method to establish by which route dynamics propagate through a biological reaction network. Application of the method to yeast demonstrates how the oscillations and the synchronization signal can be transduced. That transduction is not so much through the backbone of glycolysis, as via the Gibbs energy and redox coenzyme couples (ATP/ADP, and NADH/NAD), and via both intra- and intercellular acetaldehyde.\n"
     ]
    }
   ],
   "source": [
    "print (manuscript['abstract'])"
   ]
  },
  {
   "cell_type": "code",
   "execution_count": 49,
   "metadata": {
    "collapsed": true
   },
   "outputs": [],
   "source": [
    "sbml = jws.get_sbml_model('wolf')"
   ]
  },
  {
   "cell_type": "code",
   "execution_count": 50,
   "metadata": {},
   "outputs": [
    {
     "output_type": "execute_result",
     "data": {
      "text/plain": [
       "02/22-rdf-syntax-ns#\\\\\" xmlns:dc=\\\\\"http://purl.org/dc/elements/1.1/\\\\\" xmlns:dcterms=\\\\\"http://purl.org/dc/terms/\\\\\" xmlns:vCard=\\\\\"http://www.w3.org/2001/vcard-rdf/3.0#\\\\\" xmlns:bqbiol=\\\\\"http://biomodels.net/biology-qualifiers/\\\\\" xmlns:bqmodel=\\\\\"http://biomodels.net/model-qualifiers/\\\\\">\\\\n            <rdf:Description rdf:about=\\\\\"#metaid_3\\\\\">\\\\n              <bqbiol:is>\\\\n                <rdf:Bag>\\\\n                  <rdf:li rdf:resource=\\\\\"http://identifiers.org/obo.chebi/CHEBI%3A22390\\\\\"/>\\\\n                  <rdf:li rdf:resource=\\\\\"http://identifiers.org/pubchem.substance/3565\\\\\"/>\\\\n                  <rdf:li rdf:resource=\\\\\"http://identifiers.org/kegg.compound/C00267\\\\\"/>\\\\n                  <rdf:li rdf:resource=\\\\\"http://identifiers.org/obo.chebi/CHEBI%3A17925\\\\\"/>\\\\n                  <rdf:li rdf:resource=\\\\\"http://identifiers.org/3dmet/B01203\\\\\"/>\\\\n                  <rdf:li rdf:resource=\\\\\"http://identifiers.org/cas/492-62-6\\\\\"/>\\\\n                </rdf:Bag>\\\\n              </bqbiol:is>\\\\n            </rdf:Description>\\\\n          </rdf:RDF>\\\\n        </annotation>\\\\n      </species>\\\\n      <species metaid=\\\\\"metaid_4\\\\\" id=\\\\\"s2\\\\\" name=\\\\\"fructose-1,6-bisphosphate\\\\\" compartment=\\\\\"default_compartment\\\\\" initialConcentration=\\\\\"5\\\\\" hasOnlySubstanceUnits=\\\\\"false\\\\\" boundaryCondition=\\\\\"false\\\\\" constant=\\\\\"false\\\\\">\\\\n        <annotation>\\\\n          <rdf:RDF xmlns:rdf=\\\\\"http://www.w3.org/1999/02/22-rdf-syntax-ns#\\\\\" xmlns:dc=\\\\\"http://purl.org/dc/elements/1.1/\\\\\" xmlns:dcterms=\\\\\"http://purl.org/dc/terms/\\\\\" xmlns:vCard=\\\\\"http://www.w3.org/2001/vcard-rdf/3.0#\\\\\" xmlns:bqbiol=\\\\\"http://biomodels.net/biology-qualifiers/\\\\\" xmlns:bqmodel=\\\\\"http://biomodels.net/model-qualifiers/\\\\\">\\\\n            <rdf:Description rdf:about=\\\\\"#metaid_4\\\\\">\\\\n              <bqbiol:is>\\\\n                <rdf:Bag>\\\\n                  <rdf:li rdf:resource=\\\\\"http://identifiers.org/pubchem.substance/3647\\\\\"/>\\\\n                  <rdf:li rdf:resource=\\\\\"http://identifiers.org/kegg.compound/C00354\\\\\"/>\\\\n                  <rdf:li rdf:resource=\\\\\"http://identifiers.org/obo.chebi/CHEBI%3A16905\\\\\"/>\\\\n                  <rdf:li rdf:resource=\\\\\"http://identifiers.org/3dmet/B04673\\\\\"/>\\\\n                  <rdf:li rdf:resource=\\\\\"http://identifiers.org/cas/488-69-7\\\\\"/>\\\\n                </rdf:Bag>\\\\n              </bqbiol:is>\\\\n            </rdf:Description>\\\\n          </rdf:RDF>\\\\n        </annotation>\\\\n      </species>\\\\n      <species metaid=\\\\\"metaid_5\\\\\" id=\\\\\"s3\\\\\" name=\\\\\"triose phosphates\\\\\" compartment=\\\\\"default_compartment\\\\\" initialConcentration=\\\\\"0.6\\\\\" hasOnlySubstanceUnits=\\\\\"false\\\\\" boundaryCondition=\\\\\"false\\\\\" constant=\\\\\"false\\\\\"/>\\\\n      <species metaid=\\\\\"metaid_6\\\\\" id=\\\\\"s4\\\\\" name=\\\\\"triphosphoglycerate\\\\\" compartment=\\\\\"default_compartment\\\\\" initialConcentration=\\\\\"0.7\\\\\" hasOnlySubstanceUnits=\\\\\"false\\\\\" boundaryCondition=\\\\\"false\\\\\" constant=\\\\\"false\\\\\">\\\\n        <annotation>\\\\n          <rdf:RDF xmlns:rdf=\\\\\"http://www.w3.org/1999/02/22-rdf-syntax-ns#\\\\\" xmlns:dc=\\\\\"http://purl.org/dc/elements/1.1/\\\\\" xmlns:dcterms=\\\\\"http://purl.org/dc/terms/\\\\\" xmlns:vCard=\\\\\"http://www.w3.org/2001/vcard-rdf/3.0#\\\\\" xmlns:bqbiol=\\\\\"http://biomodels.net/biology-qualifiers/\\\\\" xmlns:bqmodel=\\\\\"http://biomodels.net/model-qualifiers/\\\\\">\\\\n            <rdf:Description rdf:about=\\\\\"#metaid_6\\\\\">\\\\n              <bqbiol:is>\\\\n                <rdf:Bag>\\\\n                  <rdf:li rdf:resource=\\\\\"http://identifiers.org/pubchem.substance/3497\\\\\"/>\\\\n                  <rdf:li rdf:resource=\\\\\"http://identifiers.org/kegg.compound/C00197\\\\\"/>\\\\n                  <rdf:li rdf:resource=\\\\\"http://identifiers.org/obo.chebi/CHEBI%3A17794\\\\\"/>\\\\n                  <rdf:li rdf:resource=\\\\\"http://identifiers.org/3dmet/B01185\\\\\"/>\\\\n                </rdf:Bag>\\\\n              </bqbiol:is>\\\\n            </rdf:Description>\\\\n          </rdf:RDF>\\\\n        </annotation>\\\\n      </species>\\\\n      <species metaid=\\\\\"metaid_7\\\\\" id=\\\\\"s5\\\\\" name=\\\\\"pyruvate\\\\\" compartment=\\\\\"default_compartment\\\\\" initialConcentration=\\\\\"8\\\\\" hasOnlySubstanceUnits=\\\\\"false\\\\\" boundaryCondition=\\\\\"false\\\\\" constant=\\\\\"false\\\\\">\\\\n        <annotation>\\\\n          <rdf:RDF xmlns:rdf=\\\\\"http://www.w3.org/1999/02/22-rdf-syntax-ns#\\\\\" xmlns:dc=\\\\\"http://purl.org/dc/elements/1.1/\\\\\" xmlns:dcterms=\\\\\"http://purl.org/dc/terms/\\\\\" xmlns:vCard=\\\\\"http://www.w3.org/2001/vcard-rdf/3.0#\\\\\" xmlns:bqbiol=\\\\\"http://biomodels.net/biology-qualifiers/\\\\\" xmlns:bqmodel=\\\\\"http://biomodels.net/model-qualifiers/\\\\\">\\\\n            <rdf:Description rdf:about=\\\\\"#metaid_7\\\\\">\\\\n              <bqbiol:is>\\\\n                <rdf:Bag>\\\\n                  <rdf:li rdf:resource=\\\\\"http://identifiers.org/pubchem.substance/3324\\\\\"/>\\\\n                  <rdf:li rdf:resource=\\\\\"http://identifiers.org/kegg.compound/C00022\\\\\"/>\\\\n                  <rdf:li rdf:resource=\\\\\"http://identifiers.org/obo.chebi/CHEBI%3A32816\\\\\"/>\\\\n                  <rdf:li rdf:resource=\\\\\"http://identifiers.org/3dmet/B00006\\\\\"/>\\\\n                  <rdf:li rdf:resource=\\\\\"http://identifiers.org/cas/127-17-3\\\\\"/>\\\\n                </rdf:Bag>\\\\n              </bqbiol:is>\\\\n            </rdf:Description>\\\\n          </rdf:RDF>\\\\n        </annotation>\\\\n      </species>\\\\n      <species metaid=\\\\\"metaid_8\\\\\" id=\\\\\"s6\\\\\" name=\\\\\"acetaldehyde\\\\\" compartment=\\\\\"default_compartment\\\\\" initialConcentration=\\\\\"0.08\\\\\" hasOnlySubstanceUnits=\\\\\"false\\\\\" boundaryCondition=\\\\\"false\\\\\" constant=\\\\\"false\\\\\">\\\\n        <annotation>\\\\n          <rdf:RDF xmlns:rdf=\\\\\"http://www.w3.org/1999/02/22-rdf-syntax-ns#\\\\\" xmlns:dc=\\\\\"http://purl.org/dc/elements/1.1/\\\\\" xmlns:dcterms=\\\\\"http://purl.org/dc/terms/\\\\\" xmlns:vCard=\\\\\"http://www.w3.org/2001/vcard-rdf/3.0#\\\\\" xmlns:bqbiol=\\\\\"http://biomodels.net/biology-qualifiers/\\\\\" xmlns:bqmodel=\\\\\"http://biomodels.net/model-qualifiers/\\\\\">\\\\n            <rdf:Description rdf:about=\\\\\"#metaid_8\\\\\">\\\\n              <bqbiol:is>\\\\n                <rdf:Bag>\\\\n                  <rdf:li rdf:resource=\\\\\"http://identifiers.org/pubchem.substance/3384\\\\\"/>\\\\n                  <rdf:li rdf:resource=\\\\\"http://identifiers.org/kegg.compound/C00084\\\\\"/>\\\\n                  <rdf:li rdf:resource=\\\\\"http://identifiers.org/obo.chebi/CHEBI%3A15343\\\\\"/>\\\\n                  <rdf:li rdf:resource=\\\\\"http://identifiers.org/3dmet/B01155\\\\\"/>\\\\n                  <rdf:li rdf:resource=\\\\\"http://identifiers.org/cas/75-07-0\\\\\"/>\\\\n                </rdf:Bag>\\\\n              </bqbiol:is>\\\\n            </rdf:Description>\\\\n          </rdf:RDF>\\\\n        </annotation>\\\\n      </species>\\\\n      <species metaid=\\\\\"metaid_9\\\\\" id=\\\\\"s6o\\\\\" name=\\\\\"external acetaldehyde\\\\\" compartment=\\\\\"default_compartment\\\\\" initialConcentration=\\\\\"0.02\\\\\" hasOnlySubstanceUnits=\\\\\"false\\\\\" boundaryCondition=\\\\\"false\\\\\" constant=\\\\\"false\\\\\">\\\\n        <annotation>\\\\n          <rdf:RDF xmlns:rdf=\\\\\"http://www.w3.org/1999/02/22-rdf-syntax-ns#\\\\\" xmlns:dc=\\\\\"http://purl.org/dc/elements/1.1/\\\\\" xmlns:dcterms=\\\\\"http://purl.org/dc/terms/\\\\\" xmlns:vCard=\\\\\"http://www.w3.org/2001/vcard-rdf/3.0#\\\\\" xmlns:bqbiol=\\\\\"http://biomodels.net/biology-qualifiers/\\\\\" xmlns:bqmodel=\\\\\"http://biomodels.net/model-qualifiers/\\\\\">\\\\n            <rdf:Description rdf:about=\\\\\"#metaid_9\\\\\">\\\\n              <bqbiol:is>\\\\n                <rdf:Bag>\\\\n                  <rdf:li rdf:resource=\\\\\"http://identifiers.org/pubchem.substance/3384\\\\\"/>\\\\n                  <rdf:li rdf:resource=\\\\\"http://identifiers.org/kegg.compound/C00084\\\\\"/>\\\\n                  <rdf:li rdf:resource=\\\\\"http://identifiers.org/obo.chebi/CHEBI%3A15343\\\\\"/>\\\\n                  <rdf:li rdf:resource=\\\\\"http://identifiers.org/3dmet/B01155\\\\\"/>\\\\n                  <rdf:li rdf:resource=\\\\\"http://identifiers.org/cas/75-07-0\\\\\"/>\\\\n                </rdf:Bag>\\\\n              </bqbiol:is>\\\\n            </rdf:Description>\\\\n          </rdf:RDF>\\\\n        </annotation>\\\\n      </species>\\\\n    </listOfSpecies>\\\\n    <listOfParameters>\\\\n      <parameter metaid=\\\\\"metaid_10\\\\\" id=\\\\\"atot\\\\\" value=\\\\\"4\\\\\" constant=\\\\\"false\\\\\"/>\\\\n      <parameter metaid=\\\\\"metaid_11\\\\\" id=\\\\\"k0\\\\\" value=\\\\\"50\\\\\" constant=\\\\\"false\\\\\"/>\\\\n      <parameter metaid=\\\\\"metaid_12\\\\\" id=\\\\\"k1\\\\\" value=\\\\\"550\\\\\" constant=\\\\\"false\\\\\"/>\\\\n      <parameter metaid=\\\\\"metaid_13\\\\\" id=\\\\\"k10\\\\\" value=\\\\\"375\\\\\" constant=\\\\\"false\\\\\"/>\\\\n      <parameter metaid=\\\\\"metaid_14\\\\\" id=\\\\\"k2\\\\\" value=\\\\\"9.8\\\\\" constant=\\\\\"false\\\\\"/>\\\\n      <parameter metaid=\\\\\"metaid_15\\\\\" id=\\\\\"k31\\\\\" value=\\\\\"323.8\\\\\" constant=\\\\\"false\\\\\"/>\\\\n      <parameter metaid=\\\\\"metaid_16\\\\\" id=\\\\\"k32\\\\\" value=\\\\\"76411.1\\\\\" constant=\\\\\"false\\\\\"/>\\\\n      <parameter metaid=\\\\\"metaid_17\\\\\" id=\\\\\"k33\\\\\" value=\\\\\"57823.1\\\\\" constant=\\\\\"false\\\\\"/>\\\\n      <parameter metaid=\\\\\"metaid_18\\\\\" id=\\\\\"k34\\\\\" value=\\\\\"23.7\\\\\" constant=\\\\\"false\\\\\"/>\\\\n      <parameter metaid=\\\\\"metaid_19\\\\\" id=\\\\\"k4\\\\\" value=\\\\\"80\\\\\" constant=\\\\\"false\\\\\"/>\\\\n      <parameter metaid=\\\\\"metaid_20\\\\\" id=\\\\\"k5\\\\\" value=\\\\\"9.7\\\\\" constant=\\\\\"false\\\\\"/>\\\\n      <parameter metaid=\\\\\"metaid_21\\\\\" id=\\\\\"k6\\\\\" value=\\\\\"2000\\\\\" constant=\\\\\"false\\\\\"/>\\\\n      <parameter metaid=\\\\\"metaid_22\\\\\" id=\\\\\"k7\\\\\" value=\\\\\"28\\\\\" constant=\\\\\"false\\\\\"/>\\\\n      <parameter metaid=\\\\\"metaid_23\\\\\" id=\\\\\"k8\\\\\" value=\\\\\"85.7\\\\\" constant=\\\\\"false\\\\\"/>\\\\n      <parameter metaid=\\\\\"metaid_24\\\\\" id=\\\\\"k9\\\\\" value=\\\\\"80\\\\\" constant=\\\\\"false\\\\\"/>\\\\n      <parameter metaid=\\\\\"metaid_25\\\\\" id=\\\\\"ki\\\\\" value=\\\\\"1\\\\\" constant=\\\\\"false\\\\\"/>\\\\n      <parameter metaid=\\\\\"metaid_26\\\\\" id=\\\\\"n\\\\\" value=\\\\\"4\\\\\" constant=\\\\\"false\\\\\"/>\\\\n      <parameter metaid=\\\\\"metaid_27\\\\\" id=\\\\\"ntot\\\\\" value=\\\\\"1\\\\\" constant=\\\\\"false\\\\\"/>\\\\n    </listOfParameters>\\\\n    <listOfReactions>\\\\n      <reaction metaid=\\\\\"metaid_29\\\\\" id=\\\\\"v_1\\\\\" name=\\\\\"glucose transporter\\\\\" reversible=\\\\\"true\\\\\" fast=\\\\\"false\\\\\">\\\\n        <listOfProducts>\\\\n          <speciesReference metaid=\\\\\"metaid_28\\\\\" species=\\\\\"s1\\\\\" stoichiometry=\\\\\"1\\\\\" constant=\\\\\"true\\\\\"/>\\\\n        </listOfProducts>\\\\n        <kineticLaw>\\\\n          <math xmlns=\\\\\"http://www.w3.org/1998/Math/MathML\\\\\">\\\\n            <ci> k0 </ci>\\\\n          </math>\\\\n        </kineticLaw>\\\\n      </reaction>\\\\n      <reaction metaid=\\\\\"metaid_31\\\\\" id=\\\\\"v_10\\\\\" reversible=\\\\\"true\\\\\" fast=\\\\\"false\\\\\">\\\\n        <listOfReactants>\\\\n          <speciesReference metaid=\\\\\"metaid_30\\\\\" species=\\\\\"s6o\\\\\" stoichiometry=\\\\\"1\\\\\" constant=\\\\\"true\\\\\"/>\\\\n        </listOfReactants>\\\\n        <kineticLaw>\\\\n          <math xmlns=\\\\\"http://www.w3.org/1998/Math/MathML\\\\\">\\\\n            <apply>\\\\n              <times/>\\\\n              <ci> k9 </ci>\\\\n              <ci> s6o </ci>\\\\n            </apply>\\\\n          </math>\\\\n        </kineticLaw>\\\\n      </reaction>\\\\n      <reaction metaid=\\\\\"metaid_33\\\\\" id=\\\\\"v_11\\\\\" reversible=\\\\\"true\\\\\" fast=\\\\\"false\\\\\">\\\\n        <listOfReactants>\\\\n          <speciesReference metaid=\\\\\"metaid_32\\\\\" species=\\\\\"at\\\\\" stoichiometry=\\\\\"1\\\\\" constant=\\\\\"true\\\\\"/>\\\\n        </listOfReactants>\\\\n        <kineticLaw>\\\\n          <math xmlns=\\\\\"http://www.w3.org/1998/Math/MathML\\\\\">\\\\n            <apply>\\\\n              <times/>\\\\n              <ci> k7 </ci>\\\\n              <ci> at </ci>\\\\n            </apply>\\\\n          </math>\\\\n        </kineticLaw>\\\\n      </reaction>\\\\n      <reaction metaid=\\\\\"metaid_37\\\\\" id=\\\\\"v_2\\\\\" reversible=\\\\\"true\\\\\" fast=\\\\\"false\\\\\">\\\\n        <listOfReactants>\\\\n          <speciesReference metaid=\\\\\"metaid_34\\\\\" species=\\\\\"s1\\\\\" stoichiometry=\\\\\"1\\\\\" constant=\\\\\"true\\\\\"/>\\\\n          <speciesReference metaid=\\\\\"metaid_35\\\\\" species=\\\\\"at\\\\\" stoichiometry=\\\\\"2\\\\\" constant=\\\\\"true\\\\\"/>\\\\n        </listOfReactants>\\\\n        <listOfProducts>\\\\n          <speciesReference metaid=\\\\\"metaid_36\\\\\" species=\\\\\"s2\\\\\" stoichiometry=\\\\\"1\\\\\" constant=\\\\\"true\\\\\"/>\\\\n        </listOfProducts>\\\\n        <kineticLaw>\\\\n          <math xmlns=\\\\\"http://www.w3.org/1998/Math/MathML\\\\\">\\\\n            <apply>\\\\n              <divide/>\\\\n              <apply>\\\\n                <times/>\\\\n                <ci> k1 </ci>\\\\n                <ci> s1 </ci>\\\\n                <ci> at </ci>\\\\n              </apply>\\\\n              <apply>\\\\n                <plus/>\\\\n                <cn type=\\\\\"integer\\\\\"> 1 </cn>\\\\n                <apply>\\\\n                  <power/>\\\\n                  <apply>\\\\n                    <divide/>\\\\n                    <ci> at </ci>\\\\n                    <ci> ki </ci>\\\\n                  </apply>\\\\n                  <ci> n </ci>\\\\n                </apply>\\\\n              </apply>\\\\n            </apply>\\\\n          </math>\\\\n        </kineticLaw>\\\\n      </reaction>\\\\n      <reaction metaid=\\\\\"metaid_40\\\\\" id=\\\\\"v_3\\\\\" reversible=\\\\\"true\\\\\" fast=\\\\\"false\\\\\">\\\\n        <listOfReactants>\\\\n          <speciesReference metaid=\\\\\"metaid_38\\\\\" species=\\\\\"s2\\\\\" stoichiometry=\\\\\"1\\\\\" constant=\\\\\"true\\\\\"/>\\\\n        </listOfReactants>\\\\n        <listOfProducts>\\\\n          <speciesReference metaid=\\\\\"metaid_39\\\\\" species=\\\\\"s3\\\\\" stoichiometry=\\\\\"2\\\\\" constant=\\\\\"true\\\\\"/>\\\\n        </listOfProducts>\\\\n        <kineticLaw>\\\\n          <math xmlns=\\\\\"http://www.w3.org/1998/Math/MathML\\\\\">\\\\n            <apply>\\\\n              <times/>\\\\n              <ci> k2 </ci>\\\\n              <ci> s2 </ci>\\\\n            </apply>\\\\n          </math>\\\\n        </kineticLaw>\\\\n      </reaction>\\\\n      <reaction metaid=\\\\\"metaid_43\\\\\" id=\\\\\"v_4\\\\\" reversible=\\\\\"true\\\\\" fast=\\\\\"false\\\\\">\\\\n        <listOfReactants>\\\\n          <speciesReference metaid=\\\\\"metaid_41\\\\\" species=\\\\\"s3\\\\\" stoichiometry=\\\\\"1\\\\\" constant=\\\\\"true\\\\\"/>\\\\n        </listOfReactants>\\\\n        <listOfProducts>\\\\n          <speciesReference metaid=\\\\\"metaid_42\\\\\" species=\\\\\"na\\\\\" stoichiometry=\\\\\"1\\\\\" constant=\\\\\"true\\\\\"/>\\\\n        </listOfProducts>\\\\n        <kineticLaw>\\\\n          <math xmlns=\\\\\"http://www.w3.org/1998/Math/MathML\\\\\">\\\\n            <apply>\\\\n              <times/>\\\\n              <ci> k8 </ci>\\\\n              <ci> s3 </ci>\\\\n              <apply>\\\\n                <minus/>\\\\n                <ci> ntot </ci>\\\\n                <ci> na </ci>\\\\n              </apply>\\\\n            </apply>\\\\n          </math>\\\\n        </kineticLaw>\\\\n      </reaction>\\\\n      <reaction metaid=\\\\\"metaid_48\\\\\" id=\\\\\"v_5\\\\\" reversible=\\\\\"true\\\\\" fast=\\\\\"false\\\\\">\\\\n        <listOfReactants>\\\\n          <speciesReference metaid=\\\\\"metaid_44\\\\\" species=\\\\\"s3\\\\\" stoichiometry=\\\\\"1\\\\\" constant=\\\\\"true\\\\\"/>\\\\n          <speciesReference metaid=\\\\\"metaid_45\\\\\" species=\\\\\"na\\\\\" stoichiometry=\\\\\"1\\\\\" constant=\\\\\"true\\\\\"/>\\\\n        </listOfReactants>\\\\n        <listOfProducts>\\\\n          <speciesReference metaid=\\\\\"metaid_46\\\\\" species=\\\\\"s4\\\\\" stoichiometry=\\\\\"1\\\\\" constant=\\\\\"true\\\\\"/>\\\\n          <speciesReference metaid=\\\\\"metaid_47\\\\\" species=\\\\\"at\\\\\" stoichiometry=\\\\\"1\\\\\" constant=\\\\\"true\\\\\"/>\\\\n        </listOfProducts>\\\\n        <kineticLaw>\\\\n          <math xmlns=\\\\\"http://www.w3.org/1998/Math/MathML\\\\\">\\\\n            <apply>\\\\n              <divide/>\\\\n              <apply>\\\\n                <minus/>\\\\n                <apply>\\\\n                  <times/>\\\\n                  <ci> k31 </ci>\\\\n                  <ci> k32 </ci>\\\\n                  <ci> s3 </ci>\\\\n                  <ci> na </ci>\\\\n                  <apply>\\\\n                    <minus/>\\\\n                    <ci> atot </ci>\\\\n                    <ci> at </ci>\\\\n                  </apply>\\\\n                </apply>\\\\n                <apply>\\\\n                  <times/>\\\\n                  <ci> k33 </ci>\\\\n                  <ci> k34 </ci>\\\\n                  <ci> s4 </ci>\\\\n                  <ci> at </ci>\\\\n                  <apply>\\\\n                    <minus/>\\\\n                    <ci> ntot </ci>\\\\n                    <ci> na </ci>\\\\n                  </apply>\\\\n                </apply>\\\\n              </apply>\\\\n              <apply>\\\\n                <plus/>\\\\n                <apply>\\\\n                  <times/>\\\\n                  <ci> k33 </ci>\\\\n                  <apply>\\\\n                    <minus/>\\\\n                    <ci> ntot </ci>\\\\n                    <ci> na </ci>\\\\n                  </apply>\\\\n                </apply>\\\\n                <apply>\\\\n                  <times/>\\\\n                  <ci> k32 </ci>\\\\n                  <apply>\\\\n                    <minus/>\\\\n                    <ci> atot </ci>\\\\n                    <ci> at </ci>\\\\n                  </apply>\\\\n                </apply>\\\\n              </apply>\\\\n            </apply>\\\\n          </math>\\\\n        </kineticLaw>\\\\n      </reaction>\\\\n      <reaction metaid=\\\\\"metaid_52\\\\\" id=\\\\\"v_6\\\\\" reversible=\\\\\"true\\\\\" fast=\\\\\"false\\\\\">\\\\n        <listOfReactants>\\\\n          <speciesReference metaid=\\\\\"metaid_49\\\\\" species=\\\\\"s4\\\\\" stoichiometry=\\\\\"1\\\\\" constant=\\\\\"true\\\\\"/>\\\\n        </listOfReactants>\\\\n        <listOfProducts>\\\\n          <speciesReference metaid=\\\\\"metaid_50\\\\\" species=\\\\\"s5\\\\\" stoichiometry=\\\\\"1\\\\\" constant=\\\\\"true\\\\\"/>\\\\n          <speciesReference metaid=\\\\\"metaid_51\\\\\" species=\\\\\"at\\\\\" stoichiometry=\\\\\"1\\\\\" constant=\\\\\"true\\\\\"/>\\\\n        </listOfProducts>\\\\n        <kineticLaw>\\\\n          <math xmlns=\\\\\"http://www.w3.org/1998/Math/MathML\\\\\">\\\\n            <apply>\\\\n              <times/>\\\\n              <ci> k4 </ci>\\\\n              <ci> s4 </ci>\\\\n              <apply>\\\\n                <minus/>\\\\n                <ci> atot </ci>\\\\n                <ci> at </ci>\\\\n              </apply>\\\\n            </apply>\\\\n          </math>\\\\n        </kineticLaw>\\\\n      </reaction>\\\\n      <reaction metaid=\\\\\"metaid_55\\\\\" id=\\\\\"v_7\\\\\" reversible=\\\\\"true\\\\\" fast=\\\\\"false\\\\\">\\\\n        <listOfReactants>\\\\n          <speciesReference metaid=\\\\\"metaid_53\\\\\" species=\\\\\"s5\\\\\" stoichiometry=\\\\\"1\\\\\" constant=\\\\\"true\\\\\"/>\\\\n        </listOfReactants>\\\\n        <listOfProducts>\\\\n          <speciesReference metaid=\\\\\"metaid_54\\\\\" species=\\\\\"s6\\\\\" stoichiometry=\\\\\"1\\\\\" constant=\\\\\"true\\\\\"/>\\\\n        </listOfProducts>\\\\n        <kineticLaw>\\\\n          <math xmlns=\\\\\"http://www.w3.org/1998/Math/MathML\\\\\">\\\\n            <apply>\\\\n              <times/>\\\\n              <ci> k5 </ci>\\\\n              <ci> s5 </ci>\\\\n            </apply>\\\\n          </math>\\\\n        </kineticLaw>\\\\n      </reaction>\\\\n      <reaction metaid=\\\\\"metaid_58\\\\\" id=\\\\\"v_8\\\\\" reversible=\\\\\"true\\\\\" fast=\\\\\"false\\\\\">\\\\n        <listOfReactants>\\\\n          <speciesReference metaid=\\\\\"metaid_56\\\\\" species=\\\\\"s6\\\\\" stoichiometry=\\\\\"1\\\\\" constant=\\\\\"true\\\\\"/>\\\\n        </listOfReactants>\\\\n        <listOfProducts>\\\\n          <speciesReference metaid=\\\\\"metaid_57\\\\\" species=\\\\\"na\\\\\" stoichiometry=\\\\\"1\\\\\" constant=\\\\\"true\\\\\"/>\\\\n        </listOfProducts>\\\\n        <kineticLaw>\\\\n          <math xmlns=\\\\\"http://www.w3.org/1998/Math/MathML\\\\\">\\\\n            <apply>\\\\n              <times/>\\\\n              <ci> k6 </ci>\\\\n              <ci> s6 </ci>\\\\n              <apply>\\\\n                <minus/>\\\\n                <ci> ntot </ci>\\\\n                <ci> na </ci>\\\\n              </apply>\\\\n            </apply>\\\\n          </math>\\\\n        </kineticLaw>\\\\n      </reaction>\\\\n      <reaction metaid=\\\\\"metaid_61\\\\\" id=\\\\\"v_9\\\\\" reversible=\\\\\"true\\\\\" fast=\\\\\"false\\\\\">\\\\n        <listOfReactants>\\\\n          <speciesReference metaid=\\\\\"metaid_59\\\\\" species=\\\\\"s6\\\\\" stoichiometry=\\\\\"1\\\\\" constant=\\\\\"true\\\\\"/>\\\\n        </listOfReactants>\\\\n        <listOfProducts>\\\\n          <speciesReference metaid=\\\\\"metaid_60\\\\\" species=\\\\\"s6o\\\\\" stoichiometry=\\\\\"0.1\\\\\" constant=\\\\\"true\\\\\"/>\\\\n        </listOfProducts>\\\\n        <kineticLaw>\\\\n          <math xmlns=\\\\\"http://www.w3.org/1998/Math/MathML\\\\\">\\\\n            <apply>\\\\n              <times/>\\\\n              <ci> k10 </ci>\\\\n              <apply>\\\\n                <minus/>\\\\n                <ci> s6 </ci>\\\\n                <ci> s6o </ci>\\\\n              </apply>\\\\n            </apply>\\\\n          </math>\\\\n        </kineticLaw>\\\\n      </reaction>\\\\n    </listOfReactions>\\\\n  </model>\\\\n</sbml>\"}'"
      ]
     },
     "metadata": {},
     "execution_count": 50
    }
   ],
   "source": [
    "sbml"
   ]
  },
  {
   "cell_type": "code",
   "execution_count": null,
   "metadata": {
    "collapsed": true
   },
   "outputs": [],
   "source": []
  }
 ],
 "metadata": {
  "kernelspec": {
   "display_name": "Python 2",
   "language": "python",
   "name": "python2"
  },
  "language_info": {
   "codemirror_mode": {
    "name": "ipython",
    "version": 2
   },
   "file_extension": ".py",
   "mimetype": "text/x-python",
   "name": "python",
   "nbconvert_exporter": "python",
   "pygments_lexer": "ipython2",
   "version": "2.7.18-final"
  }
 },
 "nbformat": 4,
 "nbformat_minor": 2
}