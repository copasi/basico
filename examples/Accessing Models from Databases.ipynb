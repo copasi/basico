{
 "cells": [
  {
   "cell_type": "markdown",
   "metadata": {
    "collapsed": true
   },
   "source": [
    "## Accessing Models from the BioModels Database"
   ]
  },
  {
   "cell_type": "code",
   "execution_count": 1,
   "metadata": {
    "collapsed": true
   },
   "outputs": [],
   "source": [
    "import basico.biomodels as biomodels"
   ]
  },
  {
   "cell_type": "markdown",
   "metadata": {},
   "source": [
    "the BioModels REST API allows searching for models, just as one would do in the web interface on http://biomodels.net. So one can search by pathway, species or reactions or submitter / author by just entering them."
   ]
  },
  {
   "cell_type": "code",
   "execution_count": 2,
   "metadata": {},
   "outputs": [
    {
     "name": "stdout",
     "output_type": "stream",
     "text": [
      "Id: BIOMD0000000042\n",
      "Name: Nielsen1998_Glycolysis\n",
      "Format: SBML\n",
      "\n",
      "Id: BIOMD0000000051\n",
      "Name: Chassagnole2002_Carbon_Metabolism\n",
      "Format: SBML\n",
      "\n",
      "Id: BIOMD0000000054\n",
      "Name: Ataullahkhanov1996_Adenylate\n",
      "Format: SBML\n",
      "\n",
      "Id: BIOMD0000000061\n",
      "Name: Hynne2001_Glycolysis\n",
      "Format: SBML\n",
      "\n",
      "Id: BIOMD0000000064\n",
      "Name: Teusink2000_Glycolysis\n",
      "Format: SBML\n",
      "\n",
      "Id: BIOMD0000000071\n",
      "Name: Bakker2001_Glycolysis\n",
      "Format: SBML\n",
      "\n",
      "Id: BIOMD0000000172\n",
      "Name: Pritchard2002_glycolysis\n",
      "Format: SBML\n",
      "\n",
      "Id: BIOMD0000000176\n",
      "Name: Conant2007_WGD_glycolysis_2A3AB\n",
      "Format: SBML\n",
      "\n",
      "Id: BIOMD0000000177\n",
      "Name: Conant2007_glycolysis_2C\n",
      "Format: SBML\n",
      "\n",
      "Id: BIOMD0000000206\n",
      "Name: Wolf2000_Glycolytic_Oscillations\n",
      "Format: SBML\n",
      "\n"
     ]
    }
   ],
   "source": [
    "glycolysis_models = biomodels.search_for_model('glycolysis')\n",
    "for model in glycolysis_models: \n",
    "    print ('Id: %s' % model['id'])\n",
    "    print ('Name: %s' % model['name'])\n",
    "    print ('Format: %s' % model['format'])\n",
    "    print ('')"
   ]
  },
  {
   "cell_type": "markdown",
   "metadata": {},
   "source": [
    "to get more information about a particular model, the `get_model_info` function provides basic information. As all the runctions in this module they take either an integer or string biomodels id as parameter"
   ]
  },
  {
   "cell_type": "code",
   "execution_count": 3,
   "metadata": {
    "collapsed": true
   },
   "outputs": [],
   "source": [
    "info = biomodels.get_model_info(206)"
   ]
  },
  {
   "cell_type": "code",
   "execution_count": 4,
   "metadata": {},
   "outputs": [
    {
     "name": "stdout",
     "output_type": "stream",
     "text": [
      "Wolf2000_Glycolytic_Oscillations\n",
      "<notes xmlns=\"http://www.sbml.org/sbml/level2/version3\">\r\n",
      "      <body xmlns=\"http://www.w3.org/1999/xhtml\">\r\n",
      "        <p>Model reproduces the dynamics of ATP and NADH as depicted in Fig 4 of the paper.  Model successfully tested on Jarnac and MathSBML.</p>\r\n",
      "        <br />\r\n",
      "        <p>To the extent possible under law, all copyright and related or neighbouring rights to this encoded model have been dedicated to the public domain worldwide. Please refer to      <a href=\"http://creativecommons.org/publicdomain/zero/1.0/\" title=\"Creative Commons CC0\">CC0 Public Domain Dedication</a>\r\n",
      "          for more information.      </p>\r\n",
      "      <p>In summary, you are entitled to use this encoded model in absolutely any manner you deem suitable, verbatim, or with modification, alone or embedded it in a larger context, redistribute it, commercially or not, in a restricted way or not.</p>\r\n",
      "      <br />\r\n",
      "      <p>To cite BioModels Database, please use:      <a href=\"http://www.ncbi.nlm.nih.gov/pubmed/20587024\" target=\"_blank\">Li C, Donizelli M, Rodriguez N, Dharuri H, Endler L, Chelliah V, Li L, He E, Henry A, Stefan MI, Snoep JL, Hucka M, Le Novère N, Laibe C (2010) BioModels Database: An enhanced, curated and annotated resource for published quantitative kinetic models. BMC Syst Biol., 4:92.</a>\r\n",
      "  </p>\r\n",
      "</body>\r\n",
      "</notes>\n"
     ]
    }
   ],
   "source": [
    "print (info['name'])\n",
    "print (info['description'])"
   ]
  },
  {
   "cell_type": "markdown",
   "metadata": {},
   "source": [
    "the model information object also contains the list of file names associated with the entry. To just get that list the convenience function `get_files_for_model` exists. The main document is contained in a sublist called `main`. So the main entry can be retrieved using"
   ]
  },
  {
   "cell_type": "code",
   "execution_count": 5,
   "metadata": {},
   "outputs": [],
   "source": [
    "first_entry = info['files']['main'][0]"
   ]
  },
  {
   "cell_type": "code",
   "execution_count": 6,
   "metadata": {},
   "outputs": [
    {
     "name": "stdout",
     "output_type": "stream",
     "text": [
      "Main FileName is: 'BIOMD0000000206_url.xml' and has size 27693 kb\n"
     ]
    }
   ],
   "source": [
    "print (\"Main FileName is: '{0}' and has size {1} kb\".format(first_entry['name'], first_entry['fileSize']))"
   ]
  },
  {
   "cell_type": "markdown",
   "metadata": {},
   "source": [
    "to actually get hold of the model itself, you can use the `get_content_for_model` function, that takes a model id, as well as an optional filename. If the filename is not given, the first main content will be chosen automatically. So to download the model of biomodel #206, once could simply call: "
   ]
  },
  {
   "cell_type": "code",
   "execution_count": 7,
   "metadata": {
    "collapsed": true
   },
   "outputs": [],
   "source": [
    "sbml = biomodels.get_content_for_model(206)"
   ]
  },
  {
   "cell_type": "code",
   "execution_count": 8,
   "metadata": {},
   "outputs": [
    {
     "data": {
      "text/plain": [
       "'<?xml version=\\'1.0\\' encoding=\\'UTF-8\\' standalone=\\'no\\'?>\\n<sbml xmlns=\"http://www.sbml.org/sbml/level2/version3\" level=\"2\" metaid=\"metaid_0000001\" version=\"3\">\\n  <model id=\"Wolf2000_Glycolytic_Oscillations\" metaid=\"metaid_0000002\" name=\"Wolf2000_Glycolytic_Oscillations\">\\n    <notes>\\n      <body xmlns=\"http://www.w3.org/1999/xhtml\">\\n        <p>Model reproduces the dynamics of ATP and NADH as depicted in Fig 4 of the paper.  Model successfully tested on Jarnac and MathSBML.</p>\\n        <br/>\\n        <p>To the extent possible under law, all copyright and related or neighbouring rights to this encoded model have been dedicated to the public domain worldwide. Please refer to      <a href=\"http://creativecommons.org/publicdomain/zero/1.0/\" title=\"Creative Commons CC0\">CC0 Public Domain Dedication</a>\\n          for more information.      </p>\\n      <p>In summary, you are entitled to use this encoded model in absolutely any manner you deem suitable, verbatim, or with modification, alone or embedded it in a larger context, redistribute it, commercially or not, in a restricted way or not.</p>\\n      <br/>\\n      <p>To cite BioModels Database, please use:      <a href=\"http://www.ncbi.nlm.nih.gov/pubmed/20587024\" target=\"_blank\">Li C, Donizelli M, Rodriguez N, Dharuri H, Endler L, Chelliah V, Li L, He E, Henry A, Stefan MI, Snoep JL, Hucka M, Le Nov\\xc3\\xa8re N, Laibe C (2010) BioModels Database: An enhanced, curated and annotated resource for published quantitative kinetic models. BMC Syst Biol., 4:92.</a>\\n  </p>\\n</body>\\n</notes>\\n    <annotation>\\n  <rdf:RDF xmlns:rdf=\"http://www.w3.org/1999/02/22-rdf-syntax-ns#\" xmlns:bqmodel=\"http://biomodels.net/model-qualifiers/\" xmlns:vCard=\"http://www.w3.org/2001/vcard-rdf/3.0#\" xmlns:dc=\"http://purl.org/dc/elements/1.1/\" xmlns:dcterms=\"http://purl.org/dc/terms/\" xmlns:bqbiol=\"http://biomodels.net/biology-qualifiers/\">\\n        <rdf:Description rdf:about=\"#metaid_0000002\">\\n\\t<dc:creator>\\n\\t<rdf:Bag>\\n\\t<rdf:li rdf:parseType=\"Resource\">\\n\\t<vCard:N rdf:parseType=\"Resource\">\\n\\t<vCard:Family>Dharuri</vCard:Family>\\n\\t<vCard:Given>Harish</vCard:Given>\\n\\t</vCard:N>\\n\\t<vCard:EMAIL>hdharuri@cds.caltech.edu</vCard:EMAIL>\\n\\t<vCard:ORG rdf:parseType=\"Resource\">\\n\\t<vCard:Orgname>California Institute of Technology</vCard:Orgname>\\n\\t</vCard:ORG>\\n\\t</rdf:li>\\n\\t</rdf:Bag>\\n\\t</dc:creator>\\n\\t<dcterms:created rdf:parseType=\"Resource\">\\n\\t<dcterms:W3CDTF>2008-10-06T20:39:38Z</dcterms:W3CDTF>\\n\\t</dcterms:created>\\n\\t<dcterms:modified rdf:parseType=\"Resource\">\\n\\t<dcterms:W3CDTF>2012-07-05T14:48:43Z</dcterms:W3CDTF>\\n\\t</dcterms:modified>\\n\\t<bqmodel:is>\\n\\t<rdf:Bag>\\n\\t<rdf:li rdf:resource=\"http://identifiers.org/biomodels.db/MODEL3352181362\"/>\\n\\t</rdf:Bag>\\n\\t</bqmodel:is>\\n\\t<bqmodel:is>\\n\\t<rdf:Bag>\\n\\t<rdf:li rdf:resource=\"http://identifiers.org/biomodels.db/BIOMD0000000206\"/>\\n\\t</rdf:Bag>\\n\\t</bqmodel:is>\\n\\t<bqmodel:isDescribedBy>\\n\\t<rdf:Bag>\\n\\t<rdf:li rdf:resource=\"http://identifiers.org/pubmed/10692304\"/>\\n\\t</rdf:Bag>\\n\\t</bqmodel:isDescribedBy>\\n\\t<bqbiol:hasTaxon>\\n\\t<rdf:Bag>\\n\\t<rdf:li rdf:resource=\"http://identifiers.org/taxonomy/4932\"/>\\n\\t</rdf:Bag>\\n\\t</bqbiol:hasTaxon>\\n\\t<bqbiol:isVersionOf>\\n\\t<rdf:Bag>\\n\\t<rdf:li rdf:resource=\"http://identifiers.org/obo.go/GO:0006096\"/>\\n\\t</rdf:Bag>\\n\\t</bqbiol:isVersionOf>\\n\\t<bqbiol:is>\\n\\t<rdf:Bag>\\n\\t<rdf:li rdf:resource=\"http://identifiers.org/kegg.pathway/sce00010\"/>\\n\\t</rdf:Bag>\\n\\t</bqbiol:is>\\n\\t</rdf:Description>\\n\\t\\n  </rdf:RDF>\\n</annotation>\\n      <listOfUnitDefinitions>\\n      <unitDefinition id=\"substance\" metaid=\"metaid_0000044\" name=\"milli mole\">\\n        <listOfUnits>\\n          <unit kind=\"mole\" metaid=\"_114025\" scale=\"-3\"/>\\n        </listOfUnits>\\n      </unitDefinition>\\n      <unitDefinition id=\"time\" metaid=\"metaid_0000045\" name=\"min\">\\n        <listOfUnits>\\n          <unit kind=\"second\" metaid=\"_114037\" multiplier=\"60\"/>\\n        </listOfUnits>\\n      </unitDefinition>\\n      <unitDefinition id=\"mM\" metaid=\"metaid_0000046\" name=\"mM\">\\n        <listOfUnits>\\n          <unit kind=\"mole\" metaid=\"_114049\" scale=\"-3\"/>\\n          <unit exponent=\"-1\" kind=\"litre\" metaid=\"_114061\"/>\\n        </listOfUnits>\\n      </unitDefinition>\\n      <unitDefinition id=\"mM_min_1\" metaid=\"metaid_0000047\" name=\"mM_min_1\">\\n        <listOfUnits>\\n          <unit kind=\"mole\" metaid=\"_114073\" scale=\"-3\"/>\\n          <unit exponent=\"-1\" kind=\"litre\" metaid=\"_114085\"/>\\n          <unit exponent=\"-1\" kind=\"second\" metaid=\"_114097\" multiplier=\"60\"/>\\n        </listOfUnits>\\n      </unitDefinition>\\n      <unitDefinition id=\"min_1\" metaid=\"metaid_0000048\" name=\"min_1\">\\n        <listOfUnits>\\n          <unit exponent=\"-1\" kind=\"second\" metaid=\"_114109\" multiplier=\"60\"/>\\n        </listOfUnits>\\n      </unitDefinition>\\n      <unitDefinition id=\"mM_1_min_1\" metaid=\"metaid_0000049\" name=\"mM_1_min_1\">\\n        <listOfUnits>\\n          <unit exponent=\"-1\" kind=\"mole\" metaid=\"_114121\" scale=\"-3\"/>\\n          <unit kind=\"litre\" metaid=\"_114133\"/>\\n          <unit exponent=\"-1\" kind=\"second\" metaid=\"_114145\" multiplier=\"60\"/>\\n        </listOfUnits>\\n      </unitDefinition>\\n    </listOfUnitDefinitions>\\n    <listOfCompartments>\\n      <compartment id=\"compartment\" metaid=\"metaid_0000021\" name=\"compartment\" size=\"1\"/>\\n    </listOfCompartments>\\n    <listOfSpecies>\\n      <species compartment=\"compartment\" id=\"s1\" initialConcentration=\"1\" metaid=\"metaid_0000022\" name=\"Glucose\">\\n        <annotation>\\n      <rdf:RDF xmlns:rdf=\"http://www.w3.org/1999/02/22-rdf-syntax-ns#\" xmlns:bqmodel=\"http://biomodels.net/model-qualifiers/\" xmlns:bqbiol=\"http://biomodels.net/biology-qualifiers/\">\\n            <rdf:Description rdf:about=\"#metaid_0000022\">\\n\\t<bqbiol:is>\\n\\t<rdf:Bag>\\n\\t<rdf:li rdf:resource=\"http://identifiers.org/obo.chebi/CHEBI:17234\"/>\\n\\t<rdf:li rdf:resource=\"http://identifiers.org/kegg.compound/C00293\"/>\\n\\t</rdf:Bag>\\n\\t</bqbiol:is>\\n\\t</rdf:Description>\\n\\t\\n      </rdf:RDF>\\n    </annotation>\\n            </species>\\n      <species compartment=\"compartment\" id=\"at\" initialConcentration=\"2\" metaid=\"metaid_0000023\" name=\"ATP\">\\n        <annotation>\\n      <rdf:RDF xmlns:rdf=\"http://www.w3.org/1999/02/22-rdf-syntax-ns#\" xmlns:bqmodel=\"http://biomodels.net/model-qualifiers/\" xmlns:bqbiol=\"http://biomodels.net/biology-qualifiers/\">\\n            <rdf:Description rdf:about=\"#metaid_0000023\">\\n\\t<bqbiol:is>\\n\\t<rdf:Bag>\\n\\t<rdf:li rdf:resource=\"http://identifiers.org/obo.chebi/CHEBI:15422\"/>\\n\\t<rdf:li rdf:resource=\"http://identifiers.org/kegg.compound/C00002\"/>\\n\\t</rdf:Bag>\\n\\t</bqbiol:is>\\n\\t</rdf:Description>\\n\\t\\n      </rdf:RDF>\\n    </annotation>\\n            </species>\\n      <species compartment=\"compartment\" id=\"s2\" initialConcentration=\"5\" metaid=\"metaid_0000024\" name=\"F16P\">\\n        <annotation>\\n      <rdf:RDF xmlns:rdf=\"http://www.w3.org/1999/02/22-rdf-syntax-ns#\" xmlns:bqmodel=\"http://biomodels.net/model-qualifiers/\" xmlns:bqbiol=\"http://biomodels.net/biology-qualifiers/\">\\n            <rdf:Description rdf:about=\"#metaid_0000024\">\\n\\t<bqbiol:is>\\n\\t<rdf:Bag>\\n\\t<rdf:li rdf:resource=\"http://identifiers.org/obo.chebi/CHEBI:16905\"/>\\n\\t<rdf:li rdf:resource=\"http://identifiers.org/kegg.compound/C05378\"/>\\n\\t</rdf:Bag>\\n\\t</bqbiol:is>\\n\\t</rdf:Description>\\n\\t\\n      </rdf:RDF>\\n    </annotation>\\n            </species>\\n      <species compartment=\"compartment\" id=\"s3\" initialConcentration=\"0.6\" metaid=\"metaid_0000025\" name=\"Triose_Gly3Phos_DHAP\">\\n        <annotation>\\n      <rdf:RDF xmlns:rdf=\"http://www.w3.org/1999/02/22-rdf-syntax-ns#\" xmlns:bqmodel=\"http://biomodels.net/model-qualifiers/\" xmlns:bqbiol=\"http://biomodels.net/biology-qualifiers/\">\\n            <rdf:Description rdf:about=\"#metaid_0000025\">\\n\\t<bqbiol:hasPart>\\n\\t<rdf:Bag>\\n\\t<rdf:li rdf:resource=\"http://identifiers.org/obo.chebi/CHEBI:16108\"/>\\n\\t<rdf:li rdf:resource=\"http://identifiers.org/obo.chebi/CHEBI:29052\"/>\\n\\t<rdf:li rdf:resource=\"http://identifiers.org/kegg.compound/C00111\"/>\\n\\t<rdf:li rdf:resource=\"http://identifiers.org/kegg.compound/C00118\"/>\\n\\t</rdf:Bag>\\n\\t</bqbiol:hasPart>\\n\\t</rdf:Description>\\n\\t\\n      </rdf:RDF>\\n    </annotation>\\n            </species>\\n      <species compartment=\"compartment\" id=\"na\" initialConcentration=\"0.6\" metaid=\"metaid_0000026\" name=\"NAD\">\\n        <annotation>\\n      <rdf:RDF xmlns:rdf=\"http://www.w3.org/1999/02/22-rdf-syntax-ns#\" xmlns:bqmodel=\"http://biomodels.net/model-qualifiers/\" xmlns:bqbiol=\"http://biomodels.net/biology-qualifiers/\">\\n            <rdf:Description rdf:about=\"#metaid_0000026\">\\n\\t<bqbiol:is>\\n\\t<rdf:Bag>\\n\\t<rdf:li rdf:resource=\"http://identifiers.org/obo.chebi/CHEBI:15846\"/>\\n\\t<rdf:li rdf:resource=\"http://identifiers.org/kegg.compound/C00003\"/>\\n\\t</rdf:Bag>\\n\\t</bqbiol:is>\\n\\t</rdf:Description>\\n\\t\\n      </rdf:RDF>\\n    </annotation>\\n            </species>\\n      <species compartment=\"compartment\" id=\"s4\" initialConcentration=\"0.7\" metaid=\"metaid_0000027\" name=\"3PG\">\\n        <annotation>\\n      <rdf:RDF xmlns:rdf=\"http://www.w3.org/1999/02/22-rdf-syntax-ns#\" xmlns:bqmodel=\"http://biomodels.net/model-qualifiers/\" xmlns:bqbiol=\"http://biomodels.net/biology-qualifiers/\">\\n            <rdf:Description rdf:about=\"#metaid_0000027\">\\n\\t<bqbiol:is>\\n\\t<rdf:Bag>\\n\\t<rdf:li rdf:resource=\"http://identifiers.org/obo.chebi/CHEBI:17794\"/>\\n\\t<rdf:li rdf:resource=\"http://identifiers.org/kegg.compound/C00197\"/>\\n\\t</rdf:Bag>\\n\\t</bqbiol:is>\\n\\t</rdf:Description>\\n\\t\\n      </rdf:RDF>\\n    </annotation>\\n            </species>\\n      <species compartment=\"compartment\" id=\"s5\" initialConcentration=\"8\" metaid=\"metaid_0000028\" name=\"Pyruvate\">\\n        <annotation>\\n      <rdf:RDF xmlns:rdf=\"http://www.w3.org/1999/02/22-rdf-syntax-ns#\" xmlns:dc=\"http://purl.org/dc/elements/1.1/\" xmlns:dcterms=\"http://purl.org/dc/terms/\" xmlns:vCard=\"http://www.w3.org/2001/vcard-rdf/3.0#\" xmlns:bqbiol=\"http://biomodels.net/biology-qualifiers/\" xmlns:bqmodel=\"http://biomodels.net/model-qualifiers/\">\\n            <rdf:Description rdf:about=\"#metaid_0000028\">\\n              <bqbiol:is>\\n\\t<rdf:Bag>\\n\\t<rdf:li rdf:resource=\"http://identifiers.org/kegg.compound/C00022\"/>\\n\\t<rdf:li rdf:resource=\"http://identifiers.org/chebi/CHEBI:32816\"/>\\n\\t</rdf:Bag>\\n\\t</bqbiol:is>\\n\\t\\n\\t<bqbiol:is>\\n\\t<rdf:Bag>\\n\\t<rdf:li rdf:resource=\"http://identifiers.org/obo.chebi/CHEBI:15361\"/>\\n\\t</rdf:Bag>\\n\\t</bqbiol:is>\\n\\t</rdf:Description>\\n\\t\\n      </rdf:RDF>\\n    </annotation>\\n            </species>\\n      <species compartment=\"compartment\" id=\"s6\" initialConcentration=\"0.08\" metaid=\"metaid_0000029\" name=\"Acetaldehyde\">\\n        <annotation>\\n      <rdf:RDF xmlns:rdf=\"http://www.w3.org/1999/02/22-rdf-syntax-ns#\" xmlns:bqmodel=\"http://biomodels.net/model-qualifiers/\" xmlns:bqbiol=\"http://biomodels.net/biology-qualifiers/\">\\n            <rdf:Description rdf:about=\"#metaid_0000029\">\\n\\t<bqbiol:is>\\n\\t<rdf:Bag>\\n\\t<rdf:li rdf:resource=\"http://identifiers.org/obo.chebi/CHEBI:15343\"/>\\n\\t<rdf:li rdf:resource=\"http://identifiers.org/kegg.compound/C00084\"/>\\n\\t</rdf:Bag>\\n\\t</bqbiol:is>\\n\\t</rdf:Description>\\n\\t\\n      </rdf:RDF>\\n    </annotation>\\n            </species>\\n      <species compartment=\"compartment\" id=\"s6o\" initialConcentration=\"0.02\" metaid=\"metaid_0000031\" name=\"extracellular acetaldehyde\">\\n        <annotation>\\n      <rdf:RDF xmlns:rdf=\"http://www.w3.org/1999/02/22-rdf-syntax-ns#\" xmlns:bqmodel=\"http://biomodels.net/model-qualifiers/\" xmlns:bqbiol=\"http://biomodels.net/biology-qualifiers/\">\\n            <rdf:Description rdf:about=\"#metaid_0000031\">\\n\\t<bqbiol:is>\\n\\t<rdf:Bag>\\n\\t<rdf:li rdf:resource=\"http://identifiers.org/obo.chebi/CHEBI:15343\"/>\\n\\t<rdf:li rdf:resource=\"http://identifiers.org/kegg.compound/C00084\"/>\\n\\t</rdf:Bag>\\n\\t</bqbiol:is>\\n\\t</rdf:Description>\\n\\t\\n      </rdf:RDF>\\n    </annotation>\\n            </species>\\n    </listOfSpecies>\\n    <listOfParameters>\\n      <parameter id=\"k0\" metaid=\"metaid_0000003\" name=\"k0\" units=\"mM_min_1\" value=\"50\"/>\\n      <parameter id=\"k1\" metaid=\"metaid_0000004\" name=\"k1\" units=\"mM_1_min_1\" value=\"550\"/>\\n      <parameter id=\"k2\" metaid=\"metaid_0000005\" name=\"k2\" units=\"min_1\" value=\"9.8\"/>\\n      <parameter id=\"k31\" metaid=\"metaid_0000006\" name=\"k31\" units=\"mM_1_min_1\" value=\"323.8\"/>\\n      <parameter id=\"k33\" metaid=\"metaid_0000007\" name=\"k33\" units=\"mM_1_min_1\" value=\"5.78231E4\"/>\\n      <parameter id=\"k32\" metaid=\"metaid_0000008\" name=\"k32\" units=\"mM_1_min_1\" value=\"7.64111E4\"/>\\n      <parameter id=\"k34\" metaid=\"metaid_0000009\" name=\"k34\" units=\"mM_1_min_1\" value=\"23.7\"/>\\n      <parameter id=\"k4\" metaid=\"metaid_0000010\" name=\"k4\" units=\"mM_1_min_1\" value=\"80\"/>\\n      <parameter id=\"k5\" metaid=\"metaid_0000011\" name=\"k5\" units=\"min_1\" value=\"9.7\"/>\\n      <parameter id=\"k6\" metaid=\"metaid_0000012\" name=\"k6\" units=\"mM_1_min_1\" value=\"2000\"/>\\n      <parameter id=\"k7\" metaid=\"metaid_0000013\" name=\"k7\" units=\"min_1\" value=\"28\"/>\\n      <parameter id=\"k8\" metaid=\"metaid_0000014\" name=\"k8\" units=\"mM_1_min_1\" value=\"85.7\"/>\\n      <parameter id=\"k9\" metaid=\"metaid_0000015\" name=\"k9\" units=\"min_1\" value=\"80\"/>\\n      <parameter id=\"k10\" metaid=\"metaid_0000016\" name=\"k10\" units=\"min_1\" value=\"375\"/>\\n      <parameter id=\"atot\" metaid=\"metaid_0000017\" name=\"atot\" units=\"mM\" value=\"4\"/>\\n      <parameter id=\"ntot\" metaid=\"metaid_0000018\" name=\"ntot\" units=\"mM\" value=\"1\"/>\\n      <parameter id=\"n\" metaid=\"metaid_0000019\" name=\"n\" units=\"dimensionless\" value=\"4\"/>\\n      <parameter id=\"ki\" metaid=\"metaid_0000020\" name=\"ki\" units=\"mM\" value=\"1\"/>\\n    </listOfParameters>\\n    <listOfReactions>\\n      <reaction id=\"v1\" metaid=\"metaid_0000033\" name=\"v1\">\\n        <annotation>\\n      <rdf:RDF xmlns:rdf=\"http://www.w3.org/1999/02/22-rdf-syntax-ns#\" xmlns:bqmodel=\"http://biomodels.net/model-qualifiers/\" xmlns:bqbiol=\"http://biomodels.net/biology-qualifiers/\">\\n            <rdf:Description rdf:about=\"#metaid_0000033\">\\n              <bqbiol:hasPart>\\n\\t<rdf:Bag>\\n\\t<rdf:li rdf:resource=\"http://identifiers.org/kegg.reaction/R00756\"/>\\n\\t<rdf:li rdf:resource=\"http://identifiers.org/kegg.reaction/R00299\"/>\\n\\t</rdf:Bag>\\n\\t</bqbiol:hasPart>\\n\\t\\n\\t<bqbiol:hasPart>\\n\\t<rdf:Bag>\\n\\t<rdf:li rdf:resource=\"http://identifiers.org/ec-code/2.7.1.11\"/>\\n\\t<rdf:li rdf:resource=\"http://identifiers.org/ec-code/5.3.1.9\"/>\\n\\t</rdf:Bag>\\n\\t</bqbiol:hasPart>\\n\\t</rdf:Description>\\n\\t\\n      </rdf:RDF>\\n    </annotation>\\n              <listOfReactants>\\n          <speciesReference metaid=\"_114158\" species=\"s1\"/>\\n          <speciesReference metaid=\"_114170\" species=\"at\" stoichiometry=\"2\"/>\\n        </listOfReactants>\\n        <listOfProducts>\\n          <speciesReference metaid=\"_114182\" species=\"s2\"/>\\n        </listOfProducts>\\n        <kineticLaw metaid=\"_114194\">\\n          <math xmlns=\"http://www.w3.org/1998/Math/MathML\">          \\n            <apply>\\n              <divide/>\\n              <apply>\\n                <times/>\\n                <ci> compartment </ci>\\n                <ci> k1 </ci>\\n                <ci> s1 </ci>\\n                <ci> at </ci>\\n              </apply>\\n              <apply>\\n                <plus/>\\n                <cn type=\"integer\"> 1 </cn>\\n                <apply>\\n                  <power/>\\n                  <apply>\\n                    <divide/>\\n                    <ci> at </ci>\\n                    <ci> ki </ci>\\n                  </apply>\\n                  <ci> n </ci>\\n                </apply>\\n              </apply>\\n            </apply>\\n          </math>\\n                </kineticLaw>\\n      </reaction>\\n      <reaction id=\"v2\" metaid=\"metaid_0000034\" name=\"v2\">\\n        <annotation>\\n      <rdf:RDF xmlns:rdf=\"http://www.w3.org/1999/02/22-rdf-syntax-ns#\" xmlns:bqmodel=\"http://biomodels.net/model-qualifiers/\" xmlns:bqbiol=\"http://biomodels.net/biology-qualifiers/\">\\n            <rdf:Description rdf:about=\"#metaid_0000034\">\\n\\t<bqbiol:is>\\n\\t<rdf:Bag>\\n\\t<rdf:li rdf:resource=\"http://identifiers.org/ec-code/4.1.2.13\"/>\\n\\t<rdf:li rdf:resource=\"http://identifiers.org/kegg.reaction/R01070\"/>\\n\\t</rdf:Bag>\\n\\t</bqbiol:is>\\n\\t</rdf:Description>\\n\\t\\n      </rdf:RDF>\\n    </annotation>\\n              <listOfReactants>\\n          <speciesReference metaid=\"_114206\" species=\"s2\"/>\\n        </listOfReactants>\\n        <listOfProducts>\\n          <speciesReference metaid=\"_114218\" species=\"s3\" stoichiometry=\"2\"/>\\n        </listOfProducts>\\n        <kineticLaw metaid=\"_114230\">\\n          <math xmlns=\"http://www.w3.org/1998/Math/MathML\">          \\n            <apply>\\n              <times/>\\n              <ci> compartment </ci>\\n              <ci> k2 </ci>\\n              <ci> s2 </ci>\\n            </apply>\\n          </math>\\n                </kineticLaw>\\n      </reaction>\\n      <reaction id=\"v3\" metaid=\"metaid_0000035\" name=\"v3\">\\n        <annotation>\\n      <rdf:RDF xmlns:rdf=\"http://www.w3.org/1999/02/22-rdf-syntax-ns#\" xmlns:bqmodel=\"http://biomodels.net/model-qualifiers/\" xmlns:bqbiol=\"http://biomodels.net/biology-qualifiers/\">\\n            <rdf:Description rdf:about=\"#metaid_0000035\">\\n\\t<bqbiol:hasPart>\\n\\t<rdf:Bag>\\n\\t<rdf:li rdf:resource=\"http://identifiers.org/ec-code/2.7.2.3\"/>\\n\\t<rdf:li rdf:resource=\"http://identifiers.org/ec-code/1.2.1.12\"/>\\n\\t</rdf:Bag>\\n\\t</bqbiol:hasPart>\\n\\t</rdf:Description>\\n\\t\\n      </rdf:RDF>\\n    </annotation>\\n              <listOfReactants>\\n          <speciesReference metaid=\"_114242\" species=\"s3\"/>\\n          <speciesReference metaid=\"_114254\" species=\"na\"/>\\n        </listOfReactants>\\n        <listOfProducts>\\n          <speciesReference metaid=\"_114266\" species=\"s4\"/>\\n          <speciesReference metaid=\"_114278\" species=\"at\"/>\\n        </listOfProducts>\\n        <kineticLaw metaid=\"_114290\">\\n          <math xmlns=\"http://www.w3.org/1998/Math/MathML\">          \\n            <apply>\\n              <times/>\\n              <ci> compartment </ci>\\n              <apply>\\n                <divide/>\\n                <apply>\\n                  <minus/>\\n                  <apply>\\n                    <times/>\\n                    <ci> k31 </ci>\\n                    <ci> k32 </ci>\\n                    <ci> s3 </ci>\\n                    <ci> na </ci>\\n                    <apply>\\n                      <minus/>\\n                      <ci> atot </ci>\\n                      <ci> at </ci>\\n                    </apply>\\n                  </apply>\\n                  <apply>\\n                    <times/>\\n                    <ci> k33 </ci>\\n                    <ci> k34 </ci>\\n                    <ci> s4 </ci>\\n                    <ci> at </ci>\\n                    <apply>\\n                      <minus/>\\n                      <ci> ntot </ci>\\n                      <ci> na </ci>\\n                    </apply>\\n                  </apply>\\n                </apply>\\n                <apply>\\n                  <plus/>\\n                  <apply>\\n                    <times/>\\n                    <ci> k33 </ci>\\n                    <apply>\\n                      <minus/>\\n                      <ci> ntot </ci>\\n                      <ci> na </ci>\\n                    </apply>\\n                  </apply>\\n                  <apply>\\n                    <times/>\\n                    <ci> k32 </ci>\\n                    <apply>\\n                      <minus/>\\n                      <ci> atot </ci>\\n                      <ci> at </ci>\\n                    </apply>\\n                  </apply>\\n                </apply>\\n              </apply>\\n            </apply>\\n          </math>\\n                </kineticLaw>\\n      </reaction>\\n      <reaction id=\"v4\" metaid=\"metaid_0000036\" name=\"v4\">\\n        <annotation>\\n      <rdf:RDF xmlns:rdf=\"http://www.w3.org/1999/02/22-rdf-syntax-ns#\" xmlns:bqmodel=\"http://biomodels.net/model-qualifiers/\" xmlns:bqbiol=\"http://biomodels.net/biology-qualifiers/\">\\n            <rdf:Description rdf:about=\"#metaid_0000036\">\\n              <bqbiol:hasPart>\\n\\t<rdf:Bag>\\n\\t<rdf:li rdf:resource=\"http://identifiers.org/kegg.reaction/R00658\"/>\\n\\t<rdf:li rdf:resource=\"http://identifiers.org/kegg.reaction/R00200\"/>\\n\\t</rdf:Bag>\\n\\t</bqbiol:hasPart>\\n\\t\\n\\t<bqbiol:hasPart>\\n\\t<rdf:Bag>\\n\\t<rdf:li rdf:resource=\"http://identifiers.org/ec-code/2.7.1.40\"/>\\n\\t</rdf:Bag>\\n\\t</bqbiol:hasPart>\\n\\t</rdf:Description>\\n\\t\\n      </rdf:RDF>\\n    </annotation>\\n              <listOfReactants>\\n          <speciesReference metaid=\"_114302\" species=\"s4\"/>\\n        </listOfReactants>\\n        <listOfProducts>\\n          <speciesReference metaid=\"_114314\" species=\"s5\"/>\\n          <speciesReference metaid=\"_114326\" species=\"at\"/>\\n        </listOfProducts>\\n        <kineticLaw metaid=\"_114339\">\\n          <math xmlns=\"http://www.w3.org/1998/Math/MathML\">          \\n            <apply>\\n              <times/>\\n              <ci> compartment </ci>\\n              <ci> k4 </ci>\\n              <ci> s4 </ci>\\n              <apply>\\n                <minus/>\\n                <ci> atot </ci>\\n                <ci> at </ci>\\n              </apply>\\n            </apply>\\n          </math>\\n                </kineticLaw>\\n      </reaction>\\n      <reaction id=\"v5\" metaid=\"metaid_0000037\" name=\"v5\">\\n        <annotation>\\n      <rdf:RDF xmlns:rdf=\"http://www.w3.org/1999/02/22-rdf-syntax-ns#\" xmlns:bqmodel=\"http://biomodels.net/model-qualifiers/\" xmlns:bqbiol=\"http://biomodels.net/biology-qualifiers/\">\\n            <rdf:Description rdf:about=\"#metaid_0000037\">\\n\\t<bqbiol:isVersionOf>\\n\\t<rdf:Bag>\\n\\t<rdf:li rdf:resource=\"http://identifiers.org/ec-code/4.1.1.1\"/>\\n\\t<rdf:li rdf:resource=\"http://identifiers.org/kegg.reaction/R00224\"/>\\n\\t</rdf:Bag>\\n\\t</bqbiol:isVersionOf>\\n\\t</rdf:Description>\\n\\t\\n      </rdf:RDF>\\n    </annotation>\\n              <listOfReactants>\\n          <speciesReference metaid=\"_114352\" species=\"s5\"/>\\n        </listOfReactants>\\n        <listOfProducts>\\n          <speciesReference metaid=\"_114364\" species=\"s6\"/>\\n        </listOfProducts>\\n        <kineticLaw metaid=\"_114376\">\\n          <math xmlns=\"http://www.w3.org/1998/Math/MathML\">          \\n            <apply>\\n              <times/>\\n              <ci> compartment </ci>\\n              <ci> k5 </ci>\\n              <ci> s5 </ci>\\n            </apply>\\n          </math>\\n                </kineticLaw>\\n      </reaction>\\n      <reaction id=\"v7\" metaid=\"metaid_0000038\" name=\"v7\">\\n        <annotation>\\n      <rdf:RDF xmlns:rdf=\"http://www.w3.org/1999/02/22-rdf-syntax-ns#\" xmlns:bqmodel=\"http://biomodels.net/model-qualifiers/\" xmlns:bqbiol=\"http://biomodels.net/biology-qualifiers/\">\\n            <rdf:Description rdf:about=\"#metaid_0000038\">\\n\\t<bqbiol:isVersionOf>\\n\\t<rdf:Bag>\\n\\t<rdf:li rdf:resource=\"http://identifiers.org/obo.go/GO:0006754\"/>\\n\\t</rdf:Bag>\\n\\t</bqbiol:isVersionOf>\\n\\t</rdf:Description>\\n\\t\\n      </rdf:RDF>\\n    </annotation>\\n              <listOfReactants>\\n          <speciesReference metaid=\"_114388\" species=\"at\"/>\\n        </listOfReactants>\\n        <kineticLaw metaid=\"_114400\">\\n          <math xmlns=\"http://www.w3.org/1998/Math/MathML\">          \\n            <apply>\\n              <times/>\\n              <ci> compartment </ci>\\n              <ci> k7 </ci>\\n              <ci> at </ci>\\n            </apply>\\n          </math>\\n                </kineticLaw>\\n      </reaction>\\n      <reaction id=\"v8\" metaid=\"metaid_0000039\" name=\"v8\">\\n        <annotation>\\n      <rdf:RDF xmlns:rdf=\"http://www.w3.org/1999/02/22-rdf-syntax-ns#\" xmlns:bqmodel=\"http://biomodels.net/model-qualifiers/\" xmlns:bqbiol=\"http://biomodels.net/biology-qualifiers/\">\\n            <rdf:Description rdf:about=\"#metaid_0000039\">\\n\\t<bqbiol:hasPart>\\n\\t<rdf:Bag>\\n\\t<rdf:li rdf:resource=\"http://identifiers.org/kegg.reaction/R05679\"/>\\n\\t</rdf:Bag>\\n\\t</bqbiol:hasPart>\\n\\t</rdf:Description>\\n\\t\\n      </rdf:RDF>\\n    </annotation>\\n              <listOfReactants>\\n          <speciesReference metaid=\"_114412\" species=\"s3\"/>\\n        </listOfReactants>\\n        <listOfProducts>\\n          <speciesReference metaid=\"_114424\" species=\"na\"/>\\n        </listOfProducts>\\n        <kineticLaw metaid=\"_114436\">\\n          <math xmlns=\"http://www.w3.org/1998/Math/MathML\">          \\n            <apply>\\n              <times/>\\n              <ci> compartment </ci>\\n              <ci> k8 </ci>\\n              <ci> s3 </ci>\\n              <apply>\\n                <minus/>\\n                <ci> ntot </ci>\\n                <ci> na </ci>\\n              </apply>\\n            </apply>\\n          </math>\\n                </kineticLaw>\\n      </reaction>\\n      <reaction id=\"v9\" metaid=\"metaid_0000040\" name=\"v9\">\\n        <annotation>\\n      <rdf:RDF xmlns:rdf=\"http://www.w3.org/1999/02/22-rdf-syntax-ns#\" xmlns:bqmodel=\"http://biomodels.net/model-qualifiers/\" xmlns:bqbiol=\"http://biomodels.net/biology-qualifiers/\">\\n            <rdf:Description rdf:about=\"#metaid_0000040\">\\n\\t<bqbiol:isVersionOf>\\n\\t<rdf:Bag>\\n\\t<rdf:li rdf:resource=\"http://identifiers.org/obo.go/GO:0046187\"/>\\n\\t</rdf:Bag>\\n\\t</bqbiol:isVersionOf>\\n\\t</rdf:Description>\\n\\t\\n      </rdf:RDF>\\n    </annotation>\\n              <listOfReactants>\\n          <speciesReference metaid=\"_114448\" species=\"s6o\"/>\\n        </listOfReactants>\\n        <kineticLaw metaid=\"_114460\">\\n          <math xmlns=\"http://www.w3.org/1998/Math/MathML\">          \\n            <apply>\\n              <times/>\\n              <ci> compartment </ci>\\n              <ci> k9 </ci>\\n              <ci> s6o </ci>\\n            </apply>\\n          </math>\\n                </kineticLaw>\\n      </reaction>\\n      <reaction id=\"v10\" metaid=\"metaid_0000041\" name=\"v10\">\\n        <listOfReactants>\\n          <speciesReference metaid=\"_114472\" species=\"s6\"/>\\n        </listOfReactants>\\n        <listOfProducts>\\n          <speciesReference metaid=\"_114485\" species=\"s6o\" stoichiometry=\"0.1\"/>\\n        </listOfProducts>\\n        <kineticLaw metaid=\"_114498\">\\n          <math xmlns=\"http://www.w3.org/1998/Math/MathML\">          \\n            <apply>\\n              <times/>\\n              <ci> compartment </ci>\\n              <ci> k10 </ci>\\n              <apply>\\n                <minus/>\\n                <ci> s6 </ci>\\n                <ci> s6o </ci>\\n              </apply>\\n            </apply>\\n          </math>\\n                </kineticLaw>\\n      </reaction>\\n      <reaction id=\"v6\" metaid=\"metaid_0000042\" name=\"v6\">\\n        <annotation>\\n      <rdf:RDF xmlns:rdf=\"http://www.w3.org/1999/02/22-rdf-syntax-ns#\" xmlns:bqmodel=\"http://biomodels.net/model-qualifiers/\" xmlns:bqbiol=\"http://biomodels.net/biology-qualifiers/\">\\n            <rdf:Description rdf:about=\"#metaid_0000042\">\\n\\t<bqbiol:isVersionOf>\\n\\t<rdf:Bag>\\n\\t<rdf:li rdf:resource=\"http://identifiers.org/ec-code/1.1.1.71\"/>\\n\\t<rdf:li rdf:resource=\"http://identifiers.org/kegg.reaction/R00754\"/>\\n\\t</rdf:Bag>\\n\\t</bqbiol:isVersionOf>\\n\\t</rdf:Description>\\n\\t\\n      </rdf:RDF>\\n    </annotation>\\n              <listOfReactants>\\n          <speciesReference metaid=\"_114511\" species=\"s6\"/>\\n        </listOfReactants>\\n        <listOfProducts>\\n          <speciesReference metaid=\"_114524\" species=\"na\"/>\\n        </listOfProducts>\\n        <kineticLaw metaid=\"_114536\">\\n          <math xmlns=\"http://www.w3.org/1998/Math/MathML\">          \\n            <apply>\\n              <times/>\\n              <ci> compartment </ci>\\n              <ci> k6 </ci>\\n              <ci> s6 </ci>\\n              <apply>\\n                <minus/>\\n                <ci> ntot </ci>\\n                <ci> na </ci>\\n              </apply>\\n            </apply>\\n          </math>\\n                </kineticLaw>\\n      </reaction>\\n      <reaction id=\"v0\" metaid=\"metaid_0000043\" name=\"v0\">\\n        <annotation>\\n      <rdf:RDF xmlns:rdf=\"http://www.w3.org/1999/02/22-rdf-syntax-ns#\" xmlns:bqmodel=\"http://biomodels.net/model-qualifiers/\" xmlns:bqbiol=\"http://biomodels.net/biology-qualifiers/\">\\n            <rdf:Description rdf:about=\"#metaid_0000043\">\\n\\t<bqbiol:isVersionOf>\\n\\t<rdf:Bag>\\n\\t<rdf:li rdf:resource=\"http://identifiers.org/obo.go/GO:0046323\"/>\\n\\t</rdf:Bag>\\n\\t</bqbiol:isVersionOf>\\n\\t</rdf:Description>\\n\\t\\n      </rdf:RDF>\\n    </annotation>\\n              <listOfProducts>\\n          <speciesReference metaid=\"_114549\" species=\"s1\"/>\\n        </listOfProducts>\\n        <kineticLaw metaid=\"_114561\">\\n          <math xmlns=\"http://www.w3.org/1998/Math/MathML\">          \\n            <apply>\\n              <times/>\\n              <ci> compartment </ci>\\n              <ci> k0 </ci>\\n            </apply>\\n          </math>\\n                </kineticLaw>\\n      </reaction>\\n    </listOfReactions>\\n  </model>\\n</sbml>'"
      ]
     },
     "execution_count": 8,
     "metadata": {},
     "output_type": "execute_result"
    }
   ],
   "source": [
    "sbml"
   ]
  },
  {
   "cell_type": "markdown",
   "metadata": {},
   "source": [
    "## JWS Online\n",
    "we also provide access to models from JWS online."
   ]
  },
  {
   "cell_type": "code",
   "execution_count": 10,
   "metadata": {
    "collapsed": true
   },
   "outputs": [],
   "source": [
    "import basico.jws_online as jws"
   ]
  },
  {
   "cell_type": "markdown",
   "metadata": {},
   "source": [
    "with `get_all_models` you would get a list of all the models in JWS online. To search for models, you have 2 options. One is to search for models by species. For example to search for all models involving 'atp'"
   ]
  },
  {
   "cell_type": "code",
   "execution_count": 15,
   "metadata": {},
   "outputs": [
    {
     "name": "stdout",
     "output_type": "stream",
     "text": [
      "achcar1\n",
      "achcar10\n",
      "achcar11\n",
      "achcar12\n",
      "achcar13\n",
      "achcar14\n",
      "achcar2\n",
      "achcar3\n",
      "achcar4\n",
      "achcar5\n",
      "achcar6\n",
      "achcar7\n",
      "achcar8\n",
      "achcar9\n",
      "albert1\n",
      "arnold10\n",
      "arnold10-2\n",
      "arnold11\n",
      "arnold6-user\n",
      "arnold7-user\n",
      "arnold8-user\n",
      "arnold9-user\n",
      "assmus\n",
      "bali\n",
      "bier2\n",
      "bradshaw\n",
      "bray2-user\n",
      "bruggeman1\n",
      "bulik1\n",
      "bulik2\n",
      "bulik3\n",
      "chance1-user\n",
      "chassagnole1\n",
      "chassagnole3\n",
      "conant1\n",
      "conant2-user\n",
      "curto1\n",
      "dano1\n",
      "dano2\n",
      "dano3\n",
      "dupreez1\n",
      "dupreez2\n",
      "dupreez3\n",
      "dupreez4\n",
      "dupreez5\n",
      "dupreez6\n",
      "dupreez7\n",
      "fridlyand1-user\n",
      "galazzo1\n",
      "gustavsson1\n",
      "gustavsson2\n",
      "gustavsson3\n",
      "gustavsson4\n",
      "gustavsson5\n",
      "heinrich\n",
      "hoefnagel1\n",
      "hoefnagel2\n",
      "hoefnagel_mixedacid\n",
      "holzhutter\n",
      "hynne\n",
      "jamshidi\n",
      "jiang1-user\n",
      "kerkhovena\n",
      "kerkhovenc\n",
      "kolmeisky1-user\n",
      "kongas1-user\n",
      "kouril2\n",
      "kouril3\n",
      "kouril4\n",
      "kouril6\n",
      "kouril7\n",
      "kouril8\n",
      "kouril9\n",
      "lambeth\n",
      "levering1\n",
      "levering2\n",
      "maher1\n",
      "mulquiney\n",
      "nielsen\n",
      "olah\n",
      "orth1\n",
      "penkler1\n",
      "penkler2\n",
      "penkler2aa\n",
      "poolman\n",
      "rohwer1\n",
      "saavedra\n",
      "smallbone0\n",
      "smallbone1\n",
      "smallbone10\n",
      "smallbone11\n",
      "smallbone12\n",
      "smallbone13\n",
      "smallbone14\n",
      "smallbone15\n",
      "smallbone16\n",
      "smallbone17\n",
      "smallbone18\n",
      "smallbone2\n",
      "smallbone3\n",
      "smallbone4\n",
      "smallbone5\n",
      "smallbone6\n",
      "smallbone7\n",
      "smallbone8\n",
      "smallbone9\n",
      "teusink2\n",
      "uys\n",
      "valero\n",
      "vaneunen1\n",
      "vanheerden1\n",
      "vanheerden2\n",
      "vanniekerk1\n",
      "whillier4\n",
      "wolf\n"
     ]
    }
   ],
   "source": [
    "atp_models = jws.get_models_for_species('atp')\n",
    "for model in atp_models: \n",
    "    print model['slug']"
   ]
  },
  {
   "cell_type": "markdown",
   "metadata": {},
   "source": [
    "or you cuold get the models for a specific reaction for example, all models involving 'pfk' would be:"
   ]
  },
  {
   "cell_type": "code",
   "execution_count": 14,
   "metadata": {},
   "outputs": [
    {
     "name": "stdout",
     "output_type": "stream",
     "text": [
      "achcar1\n",
      "achcar10\n",
      "achcar11\n",
      "achcar12\n",
      "achcar13\n",
      "achcar14\n",
      "achcar2\n",
      "achcar3\n",
      "achcar4\n",
      "achcar5\n",
      "achcar6\n",
      "achcar7\n",
      "achcar8\n",
      "achcar9\n",
      "albert1\n",
      "chassagnole2\n",
      "conant1\n",
      "conant2-user\n",
      "dupreez1\n",
      "dupreez2\n",
      "dupreez3\n",
      "dupreez4\n",
      "dupreez5\n",
      "dupreez6\n",
      "dupreez7\n",
      "gustavsson1\n",
      "gustavsson2\n",
      "gustavsson3\n",
      "gustavsson4\n",
      "gustavsson5\n",
      "kerkhovena\n",
      "kerkhovenc\n",
      "levering1\n",
      "levering2\n",
      "mulquiney\n",
      "orth1\n",
      "penkler1\n",
      "penkler2\n",
      "penkler2aa\n",
      "smallbone0\n",
      "smallbone1\n",
      "smallbone10\n",
      "smallbone11\n",
      "smallbone12\n",
      "smallbone13\n",
      "smallbone14\n",
      "smallbone15\n",
      "smallbone16\n",
      "smallbone17\n",
      "smallbone18\n",
      "smallbone2\n",
      "smallbone3\n",
      "smallbone4\n",
      "smallbone5\n",
      "smallbone6\n",
      "smallbone7\n",
      "smallbone8\n",
      "smallbone9\n",
      "vanniekerk1\n"
     ]
    }
   ],
   "source": [
    "pfk_models = jws.get_models_for_reaction('pfk')\n",
    "for model in pfk_models:\n",
    "    print model['slug']"
   ]
  },
  {
   "cell_type": "markdown",
   "metadata": {},
   "source": [
    "for each of these ids, you can get the manuscript, to find out what the model is all about, or the sbml model itself"
   ]
  },
  {
   "cell_type": "code",
   "execution_count": 16,
   "metadata": {
    "collapsed": true
   },
   "outputs": [],
   "source": [
    "manuscript = jws.get_manuscript('wolf')"
   ]
  },
  {
   "cell_type": "code",
   "execution_count": 18,
   "metadata": {},
   "outputs": [
    {
     "name": "stdout",
     "output_type": "stream",
     "text": [
      "Transduction of intracellular and intercellular dynamics in yeast glycolytic oscillations.\n"
     ]
    }
   ],
   "source": [
    "print (manuscript['title'])"
   ]
  },
  {
   "cell_type": "code",
   "execution_count": 19,
   "metadata": {},
   "outputs": [
    {
     "name": "stdout",
     "output_type": "stream",
     "text": [
      "Under certain well-defined conditions, a population of yeast cells exhibits glycolytic oscillations that synchronize through intercellular acetaldehyde. This implies that the dynamic phenomenon of the oscillation propagates within and between cells. We here develop a method to establish by which route dynamics propagate through a biological reaction network. Application of the method to yeast demonstrates how the oscillations and the synchronization signal can be transduced. That transduction is not so much through the backbone of glycolysis, as via the Gibbs energy and redox coenzyme couples (ATP/ADP, and NADH/NAD), and via both intra- and intercellular acetaldehyde.\n"
     ]
    }
   ],
   "source": [
    "print (manuscript['abstract'])"
   ]
  },
  {
   "cell_type": "code",
   "execution_count": 20,
   "metadata": {
    "collapsed": true
   },
   "outputs": [],
   "source": [
    "sbml = jws.get_sbml_model('wolf')"
   ]
  },
  {
   "cell_type": "code",
   "execution_count": 21,
   "metadata": {},
   "outputs": [
    {
     "data": {
      "text/plain": [
       "'<?xml version=\"1.0\" encoding=\"UTF-8\"?>\\n<sbml xmlns=\"http://www.sbml.org/sbml/level3/version1/core\" level=\"3\" version=\"1\">\\n  <model id=\"wolf\" name=\"wolf\">\\n    <listOfCompartments>\\n      <compartment metaid=\"metaid_0\" sboTerm=\"SBO:0000410\" id=\"default_compartment\" spatialDimensions=\"3\" size=\"1\" constant=\"true\"/>\\n    </listOfCompartments>\\n    <listOfSpecies>\\n      <species metaid=\"metaid_1\" id=\"at\" name=\"ATP\" compartment=\"default_compartment\" initialConcentration=\"2\" hasOnlySubstanceUnits=\"false\" boundaryCondition=\"false\" constant=\"false\">\\n        <annotation>\\n          <rdf:RDF xmlns:rdf=\"http://www.w3.org/1999/02/22-rdf-syntax-ns#\" xmlns:dc=\"http://purl.org/dc/elements/1.1/\" xmlns:dcterms=\"http://purl.org/dc/terms/\" xmlns:vCard=\"http://www.w3.org/2001/vcard-rdf/3.0#\" xmlns:bqbiol=\"http://biomodels.net/biology-qualifiers/\" xmlns:bqmodel=\"http://biomodels.net/model-qualifiers/\">\\n            <rdf:Description rdf:about=\"#metaid_1\">\\n              <bqbiol:is>\\n                <rdf:Bag>\\n                  <rdf:li rdf:resource=\"http://identifiers.org/pubchem.substance/3304\"/>\\n                  <rdf:li rdf:resource=\"http://identifiers.org/kegg.compound/C00002\"/>\\n                  <rdf:li rdf:resource=\"http://identifiers.org/obo.chebi/CHEBI%3A15422\"/>\\n                  <rdf:li rdf:resource=\"http://identifiers.org/3dmet/B01125\"/>\\n                  <rdf:li rdf:resource=\"http://identifiers.org/cas/56-65-5\"/>\\n                </rdf:Bag>\\n              </bqbiol:is>\\n            </rdf:Description>\\n          </rdf:RDF>\\n        </annotation>\\n      </species>\\n      <species metaid=\"metaid_2\" id=\"na\" name=\"NAD\" compartment=\"default_compartment\" initialConcentration=\"0.6\" hasOnlySubstanceUnits=\"false\" boundaryCondition=\"false\" constant=\"false\">\\n        <annotation>\\n          <rdf:RDF xmlns:rdf=\"http://www.w3.org/1999/02/22-rdf-syntax-ns#\" xmlns:dc=\"http://purl.org/dc/elements/1.1/\" xmlns:dcterms=\"http://purl.org/dc/terms/\" xmlns:vCard=\"http://www.w3.org/2001/vcard-rdf/3.0#\" xmlns:bqbiol=\"http://biomodels.net/biology-qualifiers/\" xmlns:bqmodel=\"http://biomodels.net/model-qualifiers/\">\\n            <rdf:Description rdf:about=\"#metaid_2\">\\n              <bqbiol:is>\\n                <rdf:Bag>\\n                  <rdf:li rdf:resource=\"http://identifiers.org/pubchem.substance/3305\"/>\\n                  <rdf:li rdf:resource=\"http://identifiers.org/kegg.compound/C00003\"/>\\n                  <rdf:li rdf:resource=\"http://identifiers.org/obo.chebi/CHEBI%3A15846\"/>\\n                  <rdf:li rdf:resource=\"http://identifiers.org/3dmet/B01126\"/>\\n                </rdf:Bag>\\n              </bqbiol:is>\\n            </rdf:Description>\\n          </rdf:RDF>\\n        </annotation>\\n      </species>\\n      <species metaid=\"metaid_3\" id=\"s1\" name=\"glucose\" compartment=\"default_compartment\" initialConcentration=\"1\" hasOnlySubstanceUnits=\"false\" boundaryCondition=\"false\" constant=\"false\">\\n        <annotation>\\n          <rdf:RDF xmlns:rdf=\"http://www.w3.org/1999/02/22-rdf-syntax-ns#\" xmlns:dc=\"http://purl.org/dc/elements/1.1/\" xmlns:dcterms=\"http://purl.org/dc/terms/\" xmlns:vCard=\"http://www.w3.org/2001/vcard-rdf/3.0#\" xmlns:bqbiol=\"http://biomodels.net/biology-qualifiers/\" xmlns:bqmodel=\"http://biomodels.net/model-qualifiers/\">\\n            <rdf:Description rdf:about=\"#metaid_3\">\\n              <bqbiol:is>\\n                <rdf:Bag>\\n                  <rdf:li rdf:resource=\"http://identifiers.org/obo.chebi/CHEBI%3A22390\"/>\\n                  <rdf:li rdf:resource=\"http://identifiers.org/pubchem.substance/3565\"/>\\n                  <rdf:li rdf:resource=\"http://identifiers.org/kegg.compound/C00267\"/>\\n                  <rdf:li rdf:resource=\"http://identifiers.org/obo.chebi/CHEBI%3A17925\"/>\\n                  <rdf:li rdf:resource=\"http://identifiers.org/3dmet/B01203\"/>\\n                  <rdf:li rdf:resource=\"http://identifiers.org/cas/492-62-6\"/>\\n                </rdf:Bag>\\n              </bqbiol:is>\\n            </rdf:Description>\\n          </rdf:RDF>\\n        </annotation>\\n      </species>\\n      <species metaid=\"metaid_4\" id=\"s2\" name=\"fructose-1,6-bisphosphate\" compartment=\"default_compartment\" initialConcentration=\"5\" hasOnlySubstanceUnits=\"false\" boundaryCondition=\"false\" constant=\"false\">\\n        <annotation>\\n          <rdf:RDF xmlns:rdf=\"http://www.w3.org/1999/02/22-rdf-syntax-ns#\" xmlns:dc=\"http://purl.org/dc/elements/1.1/\" xmlns:dcterms=\"http://purl.org/dc/terms/\" xmlns:vCard=\"http://www.w3.org/2001/vcard-rdf/3.0#\" xmlns:bqbiol=\"http://biomodels.net/biology-qualifiers/\" xmlns:bqmodel=\"http://biomodels.net/model-qualifiers/\">\\n            <rdf:Description rdf:about=\"#metaid_4\">\\n              <bqbiol:is>\\n                <rdf:Bag>\\n                  <rdf:li rdf:resource=\"http://identifiers.org/pubchem.substance/3647\"/>\\n                  <rdf:li rdf:resource=\"http://identifiers.org/kegg.compound/C00354\"/>\\n                  <rdf:li rdf:resource=\"http://identifiers.org/obo.chebi/CHEBI%3A16905\"/>\\n                  <rdf:li rdf:resource=\"http://identifiers.org/3dmet/B04673\"/>\\n                  <rdf:li rdf:resource=\"http://identifiers.org/cas/488-69-7\"/>\\n                </rdf:Bag>\\n              </bqbiol:is>\\n            </rdf:Description>\\n          </rdf:RDF>\\n        </annotation>\\n      </species>\\n      <species metaid=\"metaid_5\" id=\"s3\" name=\"triose phosphates\" compartment=\"default_compartment\" initialConcentration=\"0.6\" hasOnlySubstanceUnits=\"false\" boundaryCondition=\"false\" constant=\"false\"/>\\n      <species metaid=\"metaid_6\" id=\"s4\" name=\"triphosphoglycerate\" compartment=\"default_compartment\" initialConcentration=\"0.7\" hasOnlySubstanceUnits=\"false\" boundaryCondition=\"false\" constant=\"false\">\\n        <annotation>\\n          <rdf:RDF xmlns:rdf=\"http://www.w3.org/1999/02/22-rdf-syntax-ns#\" xmlns:dc=\"http://purl.org/dc/elements/1.1/\" xmlns:dcterms=\"http://purl.org/dc/terms/\" xmlns:vCard=\"http://www.w3.org/2001/vcard-rdf/3.0#\" xmlns:bqbiol=\"http://biomodels.net/biology-qualifiers/\" xmlns:bqmodel=\"http://biomodels.net/model-qualifiers/\">\\n            <rdf:Description rdf:about=\"#metaid_6\">\\n              <bqbiol:is>\\n                <rdf:Bag>\\n                  <rdf:li rdf:resource=\"http://identifiers.org/pubchem.substance/3497\"/>\\n                  <rdf:li rdf:resource=\"http://identifiers.org/kegg.compound/C00197\"/>\\n                  <rdf:li rdf:resource=\"http://identifiers.org/obo.chebi/CHEBI%3A17794\"/>\\n                  <rdf:li rdf:resource=\"http://identifiers.org/3dmet/B01185\"/>\\n                </rdf:Bag>\\n              </bqbiol:is>\\n            </rdf:Description>\\n          </rdf:RDF>\\n        </annotation>\\n      </species>\\n      <species metaid=\"metaid_7\" id=\"s5\" name=\"pyruvate\" compartment=\"default_compartment\" initialConcentration=\"8\" hasOnlySubstanceUnits=\"false\" boundaryCondition=\"false\" constant=\"false\">\\n        <annotation>\\n          <rdf:RDF xmlns:rdf=\"http://www.w3.org/1999/02/22-rdf-syntax-ns#\" xmlns:dc=\"http://purl.org/dc/elements/1.1/\" xmlns:dcterms=\"http://purl.org/dc/terms/\" xmlns:vCard=\"http://www.w3.org/2001/vcard-rdf/3.0#\" xmlns:bqbiol=\"http://biomodels.net/biology-qualifiers/\" xmlns:bqmodel=\"http://biomodels.net/model-qualifiers/\">\\n            <rdf:Description rdf:about=\"#metaid_7\">\\n              <bqbiol:is>\\n                <rdf:Bag>\\n                  <rdf:li rdf:resource=\"http://identifiers.org/pubchem.substance/3324\"/>\\n                  <rdf:li rdf:resource=\"http://identifiers.org/kegg.compound/C00022\"/>\\n                  <rdf:li rdf:resource=\"http://identifiers.org/obo.chebi/CHEBI%3A32816\"/>\\n                  <rdf:li rdf:resource=\"http://identifiers.org/3dmet/B00006\"/>\\n                  <rdf:li rdf:resource=\"http://identifiers.org/cas/127-17-3\"/>\\n                </rdf:Bag>\\n              </bqbiol:is>\\n            </rdf:Description>\\n          </rdf:RDF>\\n        </annotation>\\n      </species>\\n      <species metaid=\"metaid_8\" id=\"s6\" name=\"acetaldehyde\" compartment=\"default_compartment\" initialConcentration=\"0.08\" hasOnlySubstanceUnits=\"false\" boundaryCondition=\"false\" constant=\"false\">\\n        <annotation>\\n          <rdf:RDF xmlns:rdf=\"http://www.w3.org/1999/02/22-rdf-syntax-ns#\" xmlns:dc=\"http://purl.org/dc/elements/1.1/\" xmlns:dcterms=\"http://purl.org/dc/terms/\" xmlns:vCard=\"http://www.w3.org/2001/vcard-rdf/3.0#\" xmlns:bqbiol=\"http://biomodels.net/biology-qualifiers/\" xmlns:bqmodel=\"http://biomodels.net/model-qualifiers/\">\\n            <rdf:Description rdf:about=\"#metaid_8\">\\n              <bqbiol:is>\\n                <rdf:Bag>\\n                  <rdf:li rdf:resource=\"http://identifiers.org/pubchem.substance/3384\"/>\\n                  <rdf:li rdf:resource=\"http://identifiers.org/kegg.compound/C00084\"/>\\n                  <rdf:li rdf:resource=\"http://identifiers.org/obo.chebi/CHEBI%3A15343\"/>\\n                  <rdf:li rdf:resource=\"http://identifiers.org/3dmet/B01155\"/>\\n                  <rdf:li rdf:resource=\"http://identifiers.org/cas/75-07-0\"/>\\n                </rdf:Bag>\\n              </bqbiol:is>\\n            </rdf:Description>\\n          </rdf:RDF>\\n        </annotation>\\n      </species>\\n      <species metaid=\"metaid_9\" id=\"s6o\" name=\"external acetaldehyde\" compartment=\"default_compartment\" initialConcentration=\"0.02\" hasOnlySubstanceUnits=\"false\" boundaryCondition=\"false\" constant=\"false\">\\n        <annotation>\\n          <rdf:RDF xmlns:rdf=\"http://www.w3.org/1999/02/22-rdf-syntax-ns#\" xmlns:dc=\"http://purl.org/dc/elements/1.1/\" xmlns:dcterms=\"http://purl.org/dc/terms/\" xmlns:vCard=\"http://www.w3.org/2001/vcard-rdf/3.0#\" xmlns:bqbiol=\"http://biomodels.net/biology-qualifiers/\" xmlns:bqmodel=\"http://biomodels.net/model-qualifiers/\">\\n            <rdf:Description rdf:about=\"#metaid_9\">\\n              <bqbiol:is>\\n                <rdf:Bag>\\n                  <rdf:li rdf:resource=\"http://identifiers.org/pubchem.substance/3384\"/>\\n                  <rdf:li rdf:resource=\"http://identifiers.org/kegg.compound/C00084\"/>\\n                  <rdf:li rdf:resource=\"http://identifiers.org/obo.chebi/CHEBI%3A15343\"/>\\n                  <rdf:li rdf:resource=\"http://identifiers.org/3dmet/B01155\"/>\\n                  <rdf:li rdf:resource=\"http://identifiers.org/cas/75-07-0\"/>\\n                </rdf:Bag>\\n              </bqbiol:is>\\n            </rdf:Description>\\n          </rdf:RDF>\\n        </annotation>\\n      </species>\\n    </listOfSpecies>\\n    <listOfParameters>\\n      <parameter metaid=\"metaid_10\" id=\"atot\" value=\"4\" constant=\"false\"/>\\n      <parameter metaid=\"metaid_11\" id=\"k0\" value=\"50\" constant=\"false\"/>\\n      <parameter metaid=\"metaid_12\" id=\"k1\" value=\"550\" constant=\"false\"/>\\n      <parameter metaid=\"metaid_13\" id=\"k10\" value=\"375\" constant=\"false\"/>\\n      <parameter metaid=\"metaid_14\" id=\"k2\" value=\"9.8\" constant=\"false\"/>\\n      <parameter metaid=\"metaid_15\" id=\"k31\" value=\"323.8\" constant=\"false\"/>\\n      <parameter metaid=\"metaid_16\" id=\"k32\" value=\"76411.1\" constant=\"false\"/>\\n      <parameter metaid=\"metaid_17\" id=\"k33\" value=\"57823.1\" constant=\"false\"/>\\n      <parameter metaid=\"metaid_18\" id=\"k34\" value=\"23.7\" constant=\"false\"/>\\n      <parameter metaid=\"metaid_19\" id=\"k4\" value=\"80\" constant=\"false\"/>\\n      <parameter metaid=\"metaid_20\" id=\"k5\" value=\"9.7\" constant=\"false\"/>\\n      <parameter metaid=\"metaid_21\" id=\"k6\" value=\"2000\" constant=\"false\"/>\\n      <parameter metaid=\"metaid_22\" id=\"k7\" value=\"28\" constant=\"false\"/>\\n      <parameter metaid=\"metaid_23\" id=\"k8\" value=\"85.7\" constant=\"false\"/>\\n      <parameter metaid=\"metaid_24\" id=\"k9\" value=\"80\" constant=\"false\"/>\\n      <parameter metaid=\"metaid_25\" id=\"ki\" value=\"1\" constant=\"false\"/>\\n      <parameter metaid=\"metaid_26\" id=\"n\" value=\"4\" constant=\"false\"/>\\n      <parameter metaid=\"metaid_27\" id=\"ntot\" value=\"1\" constant=\"false\"/>\\n    </listOfParameters>\\n    <listOfReactions>\\n      <reaction metaid=\"metaid_29\" id=\"v_1\" name=\"glucose transporter\" reversible=\"true\" fast=\"false\">\\n        <listOfProducts>\\n          <speciesReference metaid=\"metaid_28\" species=\"s1\" stoichiometry=\"1\" constant=\"true\"/>\\n        </listOfProducts>\\n        <kineticLaw>\\n          <math xmlns=\"http://www.w3.org/1998/Math/MathML\">\\n            <ci> k0 </ci>\\n          </math>\\n        </kineticLaw>\\n      </reaction>\\n      <reaction metaid=\"metaid_31\" id=\"v_10\" reversible=\"true\" fast=\"false\">\\n        <listOfReactants>\\n          <speciesReference metaid=\"metaid_30\" species=\"s6o\" stoichiometry=\"1\" constant=\"true\"/>\\n        </listOfReactants>\\n        <kineticLaw>\\n          <math xmlns=\"http://www.w3.org/1998/Math/MathML\">\\n            <apply>\\n              <times/>\\n              <ci> k9 </ci>\\n              <ci> s6o </ci>\\n            </apply>\\n          </math>\\n        </kineticLaw>\\n      </reaction>\\n      <reaction metaid=\"metaid_33\" id=\"v_11\" reversible=\"true\" fast=\"false\">\\n        <listOfReactants>\\n          <speciesReference metaid=\"metaid_32\" species=\"at\" stoichiometry=\"1\" constant=\"true\"/>\\n        </listOfReactants>\\n        <kineticLaw>\\n          <math xmlns=\"http://www.w3.org/1998/Math/MathML\">\\n            <apply>\\n              <times/>\\n              <ci> k7 </ci>\\n              <ci> at </ci>\\n            </apply>\\n          </math>\\n        </kineticLaw>\\n      </reaction>\\n      <reaction metaid=\"metaid_37\" id=\"v_2\" reversible=\"true\" fast=\"false\">\\n        <listOfReactants>\\n          <speciesReference metaid=\"metaid_34\" species=\"s1\" stoichiometry=\"1\" constant=\"true\"/>\\n          <speciesReference metaid=\"metaid_35\" species=\"at\" stoichiometry=\"2\" constant=\"true\"/>\\n        </listOfReactants>\\n        <listOfProducts>\\n          <speciesReference metaid=\"metaid_36\" species=\"s2\" stoichiometry=\"1\" constant=\"true\"/>\\n        </listOfProducts>\\n        <kineticLaw>\\n          <math xmlns=\"http://www.w3.org/1998/Math/MathML\">\\n            <apply>\\n              <divide/>\\n              <apply>\\n                <times/>\\n                <ci> k1 </ci>\\n                <ci> s1 </ci>\\n                <ci> at </ci>\\n              </apply>\\n              <apply>\\n                <plus/>\\n                <cn type=\"integer\"> 1 </cn>\\n                <apply>\\n                  <power/>\\n                  <apply>\\n                    <divide/>\\n                    <ci> at </ci>\\n                    <ci> ki </ci>\\n                  </apply>\\n                  <ci> n </ci>\\n                </apply>\\n              </apply>\\n            </apply>\\n          </math>\\n        </kineticLaw>\\n      </reaction>\\n      <reaction metaid=\"metaid_40\" id=\"v_3\" reversible=\"true\" fast=\"false\">\\n        <listOfReactants>\\n          <speciesReference metaid=\"metaid_38\" species=\"s2\" stoichiometry=\"1\" constant=\"true\"/>\\n        </listOfReactants>\\n        <listOfProducts>\\n          <speciesReference metaid=\"metaid_39\" species=\"s3\" stoichiometry=\"2\" constant=\"true\"/>\\n        </listOfProducts>\\n        <kineticLaw>\\n          <math xmlns=\"http://www.w3.org/1998/Math/MathML\">\\n            <apply>\\n              <times/>\\n              <ci> k2 </ci>\\n              <ci> s2 </ci>\\n            </apply>\\n          </math>\\n        </kineticLaw>\\n      </reaction>\\n      <reaction metaid=\"metaid_43\" id=\"v_4\" reversible=\"true\" fast=\"false\">\\n        <listOfReactants>\\n          <speciesReference metaid=\"metaid_41\" species=\"s3\" stoichiometry=\"1\" constant=\"true\"/>\\n        </listOfReactants>\\n        <listOfProducts>\\n          <speciesReference metaid=\"metaid_42\" species=\"na\" stoichiometry=\"1\" constant=\"true\"/>\\n        </listOfProducts>\\n        <kineticLaw>\\n          <math xmlns=\"http://www.w3.org/1998/Math/MathML\">\\n            <apply>\\n              <times/>\\n              <ci> k8 </ci>\\n              <ci> s3 </ci>\\n              <apply>\\n                <minus/>\\n                <ci> ntot </ci>\\n                <ci> na </ci>\\n              </apply>\\n            </apply>\\n          </math>\\n        </kineticLaw>\\n      </reaction>\\n      <reaction metaid=\"metaid_48\" id=\"v_5\" reversible=\"true\" fast=\"false\">\\n        <listOfReactants>\\n          <speciesReference metaid=\"metaid_44\" species=\"s3\" stoichiometry=\"1\" constant=\"true\"/>\\n          <speciesReference metaid=\"metaid_45\" species=\"na\" stoichiometry=\"1\" constant=\"true\"/>\\n        </listOfReactants>\\n        <listOfProducts>\\n          <speciesReference metaid=\"metaid_46\" species=\"s4\" stoichiometry=\"1\" constant=\"true\"/>\\n          <speciesReference metaid=\"metaid_47\" species=\"at\" stoichiometry=\"1\" constant=\"true\"/>\\n        </listOfProducts>\\n        <kineticLaw>\\n          <math xmlns=\"http://www.w3.org/1998/Math/MathML\">\\n            <apply>\\n              <divide/>\\n              <apply>\\n                <minus/>\\n                <apply>\\n                  <times/>\\n                  <ci> k31 </ci>\\n                  <ci> k32 </ci>\\n                  <ci> s3 </ci>\\n                  <ci> na </ci>\\n                  <apply>\\n                    <minus/>\\n                    <ci> atot </ci>\\n                    <ci> at </ci>\\n                  </apply>\\n                </apply>\\n                <apply>\\n                  <times/>\\n                  <ci> k33 </ci>\\n                  <ci> k34 </ci>\\n                  <ci> s4 </ci>\\n                  <ci> at </ci>\\n                  <apply>\\n                    <minus/>\\n                    <ci> ntot </ci>\\n                    <ci> na </ci>\\n                  </apply>\\n                </apply>\\n              </apply>\\n              <apply>\\n                <plus/>\\n                <apply>\\n                  <times/>\\n                  <ci> k33 </ci>\\n                  <apply>\\n                    <minus/>\\n                    <ci> ntot </ci>\\n                    <ci> na </ci>\\n                  </apply>\\n                </apply>\\n                <apply>\\n                  <times/>\\n                  <ci> k32 </ci>\\n                  <apply>\\n                    <minus/>\\n                    <ci> atot </ci>\\n                    <ci> at </ci>\\n                  </apply>\\n                </apply>\\n              </apply>\\n            </apply>\\n          </math>\\n        </kineticLaw>\\n      </reaction>\\n      <reaction metaid=\"metaid_52\" id=\"v_6\" reversible=\"true\" fast=\"false\">\\n        <listOfReactants>\\n          <speciesReference metaid=\"metaid_49\" species=\"s4\" stoichiometry=\"1\" constant=\"true\"/>\\n        </listOfReactants>\\n        <listOfProducts>\\n          <speciesReference metaid=\"metaid_50\" species=\"s5\" stoichiometry=\"1\" constant=\"true\"/>\\n          <speciesReference metaid=\"metaid_51\" species=\"at\" stoichiometry=\"1\" constant=\"true\"/>\\n        </listOfProducts>\\n        <kineticLaw>\\n          <math xmlns=\"http://www.w3.org/1998/Math/MathML\">\\n            <apply>\\n              <times/>\\n              <ci> k4 </ci>\\n              <ci> s4 </ci>\\n              <apply>\\n                <minus/>\\n                <ci> atot </ci>\\n                <ci> at </ci>\\n              </apply>\\n            </apply>\\n          </math>\\n        </kineticLaw>\\n      </reaction>\\n      <reaction metaid=\"metaid_55\" id=\"v_7\" reversible=\"true\" fast=\"false\">\\n        <listOfReactants>\\n          <speciesReference metaid=\"metaid_53\" species=\"s5\" stoichiometry=\"1\" constant=\"true\"/>\\n        </listOfReactants>\\n        <listOfProducts>\\n          <speciesReference metaid=\"metaid_54\" species=\"s6\" stoichiometry=\"1\" constant=\"true\"/>\\n        </listOfProducts>\\n        <kineticLaw>\\n          <math xmlns=\"http://www.w3.org/1998/Math/MathML\">\\n            <apply>\\n              <times/>\\n              <ci> k5 </ci>\\n              <ci> s5 </ci>\\n            </apply>\\n          </math>\\n        </kineticLaw>\\n      </reaction>\\n      <reaction metaid=\"metaid_58\" id=\"v_8\" reversible=\"true\" fast=\"false\">\\n        <listOfReactants>\\n          <speciesReference metaid=\"metaid_56\" species=\"s6\" stoichiometry=\"1\" constant=\"true\"/>\\n        </listOfReactants>\\n        <listOfProducts>\\n          <speciesReference metaid=\"metaid_57\" species=\"na\" stoichiometry=\"1\" constant=\"true\"/>\\n        </listOfProducts>\\n        <kineticLaw>\\n          <math xmlns=\"http://www.w3.org/1998/Math/MathML\">\\n            <apply>\\n              <times/>\\n              <ci> k6 </ci>\\n              <ci> s6 </ci>\\n              <apply>\\n                <minus/>\\n                <ci> ntot </ci>\\n                <ci> na </ci>\\n              </apply>\\n            </apply>\\n          </math>\\n        </kineticLaw>\\n      </reaction>\\n      <reaction metaid=\"metaid_61\" id=\"v_9\" reversible=\"true\" fast=\"false\">\\n        <listOfReactants>\\n          <speciesReference metaid=\"metaid_59\" species=\"s6\" stoichiometry=\"1\" constant=\"true\"/>\\n        </listOfReactants>\\n        <listOfProducts>\\n          <speciesReference metaid=\"metaid_60\" species=\"s6o\" stoichiometry=\"0.1\" constant=\"true\"/>\\n        </listOfProducts>\\n        <kineticLaw>\\n          <math xmlns=\"http://www.w3.org/1998/Math/MathML\">\\n            <apply>\\n              <times/>\\n              <ci> k10 </ci>\\n              <apply>\\n                <minus/>\\n                <ci> s6 </ci>\\n                <ci> s6o </ci>\\n              </apply>\\n            </apply>\\n          </math>\\n        </kineticLaw>\\n      </reaction>\\n    </listOfReactions>\\n  </model>\\n</sbml>'"
      ]
     },
     "execution_count": 21,
     "metadata": {},
     "output_type": "execute_result"
    }
   ],
   "source": [
    "sbml"
   ]
  },
  {
   "cell_type": "code",
   "execution_count": null,
   "metadata": {
    "collapsed": true
   },
   "outputs": [],
   "source": []
  }
 ],
 "metadata": {
  "kernelspec": {
   "display_name": "Python 2",
   "language": "python",
   "name": "python2"
  },
  "language_info": {
   "codemirror_mode": {
    "name": "ipython",
    "version": 2
   },
   "file_extension": ".py",
   "mimetype": "text/x-python",
   "name": "python",
   "nbconvert_exporter": "python",
   "pygments_lexer": "ipython2",
   "version": "2.7.13"
  }
 },
 "nbformat": 4,
 "nbformat_minor": 2
}
