{
 "cells": [
  {
   "cell_type": "markdown",
   "metadata": {},
   "source": [
    "# Getting and setting reaction parameters and reactions with Basico"
   ]
  },
  {
   "cell_type": "code",
   "execution_count": 88,
   "metadata": {
    "collapsed": true
   },
   "outputs": [],
   "source": [
    "import sys\n",
    "sys.path.append('..')\n",
    "%matplotlib inline"
   ]
  },
  {
   "cell_type": "code",
   "execution_count": 89,
   "metadata": {
    "collapsed": true
   },
   "outputs": [],
   "source": [
    "from basico import *"
   ]
  },
  {
   "cell_type": "markdown",
   "metadata": {},
   "source": [
    "### Load model"
   ]
  },
  {
   "cell_type": "code",
   "execution_count": 90,
   "metadata": {
    "collapsed": false
   },
   "outputs": [],
   "source": [
    "biomod = load_example(\"LM-test1\")"
   ]
  },
  {
   "source": [
    "## Getting/setting global quantities"
   ],
   "cell_type": "code",
   "metadata": {},
   "execution_count": 91,
   "outputs": []
  },
  {
   "cell_type": "markdown",
   "metadata": {},
   "source": [
    "        It is possible to set:\n",
    "            'initial_value'\n",
    "            'initial_expression'\n",
    "            'expression'\n",
    "            'status'\n",
    "            'type'"
   ]
  },
  {
   "cell_type": "code",
   "execution_count": 92,
   "metadata": {
    "collapsed": false
   },
   "outputs": [
    {
     "output_type": "execute_result",
     "data": {
      "text/html": "<div>\n<style scoped>\n    .dataframe tbody tr th:only-of-type {\n        vertical-align: middle;\n    }\n\n    .dataframe tbody tr th {\n        vertical-align: top;\n    }\n\n    .dataframe thead th {\n        text-align: right;\n    }\n</style>\n<table border=\"1\" class=\"dataframe\">\n  <thead>\n    <tr style=\"text-align: right;\">\n      <th></th>\n      <th>expression</th>\n      <th>initial_expression</th>\n      <th>initial_value</th>\n      <th>key</th>\n      <th>rate</th>\n      <th>type</th>\n      <th>unit</th>\n      <th>value</th>\n    </tr>\n    <tr>\n      <th>name</th>\n      <th></th>\n      <th></th>\n      <th></th>\n      <th></th>\n      <th></th>\n      <th></th>\n      <th></th>\n      <th></th>\n    </tr>\n  </thead>\n  <tbody>\n    <tr>\n      <th>epsilon</th>\n      <td></td>\n      <td></td>\n      <td>0.78</td>\n      <td>ModelValue_12</td>\n      <td>0.0</td>\n      <td>fixed</td>\n      <td></td>\n      <td>NaN</td>\n    </tr>\n    <tr>\n      <th>offset</th>\n      <td></td>\n      <td></td>\n      <td>0.10</td>\n      <td>ModelValue_13</td>\n      <td>0.0</td>\n      <td>fixed</td>\n      <td></td>\n      <td>NaN</td>\n    </tr>\n    <tr>\n      <th>signal</th>\n      <td>&lt;CN=Root,Model=Kinetics of a  Michaelian enzym...</td>\n      <td></td>\n      <td>0.10</td>\n      <td>ModelValue_14</td>\n      <td>NaN</td>\n      <td>assignment</td>\n      <td></td>\n      <td>NaN</td>\n    </tr>\n  </tbody>\n</table>\n</div>",
      "text/plain": [
       "                                                expression initial_expression  \\\n",
       "name                                                                            \n",
       "epsilon                                                                         \n",
       "offset                                                                          \n",
       "signal   <CN=Root,Model=Kinetics of a  Michaelian enzym...                      \n",
       "\n",
       "         initial_value            key  rate        type unit  value  \n",
       "name                                                                 \n",
       "epsilon           0.78  ModelValue_12   0.0       fixed         NaN  \n",
       "offset            0.10  ModelValue_13   0.0       fixed         NaN  \n",
       "signal            0.10  ModelValue_14   NaN  assignment         NaN  "
      ]
     },
     "metadata": {},
     "execution_count": 92
    }
   ],
   "source": [
    "get_parameters()"
   ]
  },
  {
   "cell_type": "code",
   "execution_count": 93,
   "metadata": {
    "collapsed": true
   },
   "outputs": [],
   "source": [
    "set_parameters(name= 'offset', initial_value = 50)"
   ]
  },
  {
   "cell_type": "code",
   "execution_count": 94,
   "metadata": {
    "collapsed": false
   },
   "outputs": [
    {
     "output_type": "execute_result",
     "data": {
      "text/html": "<div>\n<style scoped>\n    .dataframe tbody tr th:only-of-type {\n        vertical-align: middle;\n    }\n\n    .dataframe tbody tr th {\n        vertical-align: top;\n    }\n\n    .dataframe thead th {\n        text-align: right;\n    }\n</style>\n<table border=\"1\" class=\"dataframe\">\n  <thead>\n    <tr style=\"text-align: right;\">\n      <th></th>\n      <th>expression</th>\n      <th>initial_expression</th>\n      <th>initial_value</th>\n      <th>key</th>\n      <th>rate</th>\n      <th>type</th>\n      <th>unit</th>\n      <th>value</th>\n    </tr>\n    <tr>\n      <th>name</th>\n      <th></th>\n      <th></th>\n      <th></th>\n      <th></th>\n      <th></th>\n      <th></th>\n      <th></th>\n      <th></th>\n    </tr>\n  </thead>\n  <tbody>\n    <tr>\n      <th>epsilon</th>\n      <td></td>\n      <td></td>\n      <td>0.78</td>\n      <td>ModelValue_12</td>\n      <td>0.0</td>\n      <td>fixed</td>\n      <td></td>\n      <td>NaN</td>\n    </tr>\n    <tr>\n      <th>offset</th>\n      <td></td>\n      <td></td>\n      <td>50.00</td>\n      <td>ModelValue_13</td>\n      <td>0.0</td>\n      <td>fixed</td>\n      <td></td>\n      <td>NaN</td>\n    </tr>\n    <tr>\n      <th>signal</th>\n      <td>&lt;CN=Root,Model=Kinetics of a  Michaelian enzym...</td>\n      <td></td>\n      <td>0.10</td>\n      <td>ModelValue_14</td>\n      <td>NaN</td>\n      <td>assignment</td>\n      <td></td>\n      <td>NaN</td>\n    </tr>\n  </tbody>\n</table>\n</div>",
      "text/plain": [
       "                                                expression initial_expression  \\\n",
       "name                                                                            \n",
       "epsilon                                                                         \n",
       "offset                                                                          \n",
       "signal   <CN=Root,Model=Kinetics of a  Michaelian enzym...                      \n",
       "\n",
       "         initial_value            key  rate        type unit  value  \n",
       "name                                                                 \n",
       "epsilon           0.78  ModelValue_12   0.0       fixed         NaN  \n",
       "offset           50.00  ModelValue_13   0.0       fixed         NaN  \n",
       "signal            0.10  ModelValue_14   NaN  assignment         NaN  "
      ]
     },
     "metadata": {},
     "execution_count": 94
    }
   ],
   "source": [
    "get_parameters()"
   ]
  },
  {
   "cell_type": "markdown",
   "metadata": {},
   "source": [
    "## Getting/setting species (metabolites)"
   ]
  },
  {
   "cell_type": "code",
   "execution_count": 95,
   "metadata": {
    "collapsed": false
   },
   "outputs": [
    {
     "output_type": "execute_result",
     "data": {
      "text/html": "<div>\n<style scoped>\n    .dataframe tbody tr th:only-of-type {\n        vertical-align: middle;\n    }\n\n    .dataframe tbody tr th {\n        vertical-align: top;\n    }\n\n    .dataframe thead th {\n        text-align: right;\n    }\n</style>\n<table border=\"1\" class=\"dataframe\">\n  <thead>\n    <tr style=\"text-align: right;\">\n      <th></th>\n      <th>compartment</th>\n      <th>concentration</th>\n      <th>expression</th>\n      <th>initial_concentration</th>\n      <th>initial_expression</th>\n      <th>initial_particle_number</th>\n      <th>key</th>\n      <th>particle_number</th>\n      <th>particle_number_rate</th>\n      <th>rate</th>\n      <th>type</th>\n      <th>unit</th>\n    </tr>\n    <tr>\n      <th>name</th>\n      <th></th>\n      <th></th>\n      <th></th>\n      <th></th>\n      <th></th>\n      <th></th>\n      <th></th>\n      <th></th>\n      <th></th>\n      <th></th>\n      <th></th>\n      <th></th>\n    </tr>\n  </thead>\n  <tbody>\n    <tr>\n      <th>E</th>\n      <td>compartment</td>\n      <td>NaN</td>\n      <td></td>\n      <td>0.010000</td>\n      <td></td>\n      <td>6.022142e+18</td>\n      <td>Metabolite_20</td>\n      <td>NaN</td>\n      <td>NaN</td>\n      <td>NaN</td>\n      <td>reactions</td>\n      <td>mmol/ml</td>\n    </tr>\n    <tr>\n      <th>S</th>\n      <td>compartment</td>\n      <td>NaN</td>\n      <td></td>\n      <td>10.000001</td>\n      <td></td>\n      <td>6.022142e+21</td>\n      <td>Metabolite_19</td>\n      <td>NaN</td>\n      <td>NaN</td>\n      <td>NaN</td>\n      <td>reactions</td>\n      <td>mmol/ml</td>\n    </tr>\n    <tr>\n      <th>ES</th>\n      <td>compartment</td>\n      <td>NaN</td>\n      <td></td>\n      <td>0.000000</td>\n      <td></td>\n      <td>0.000000e+00</td>\n      <td>Metabolite_21</td>\n      <td>NaN</td>\n      <td>NaN</td>\n      <td>NaN</td>\n      <td>reactions</td>\n      <td>mmol/ml</td>\n    </tr>\n    <tr>\n      <th>P</th>\n      <td>compartment</td>\n      <td>NaN</td>\n      <td></td>\n      <td>0.000000</td>\n      <td></td>\n      <td>0.000000e+00</td>\n      <td>Metabolite_22</td>\n      <td>NaN</td>\n      <td>NaN</td>\n      <td>NaN</td>\n      <td>reactions</td>\n      <td>mmol/ml</td>\n    </tr>\n  </tbody>\n</table>\n</div>",
      "text/plain": [
       "      compartment  concentration expression  initial_concentration  \\\n",
       "name                                                                 \n",
       "E     compartment            NaN                          0.010000   \n",
       "S     compartment            NaN                         10.000001   \n",
       "ES    compartment            NaN                          0.000000   \n",
       "P     compartment            NaN                          0.000000   \n",
       "\n",
       "     initial_expression  initial_particle_number            key  \\\n",
       "name                                                              \n",
       "E                                   6.022142e+18  Metabolite_20   \n",
       "S                                   6.022142e+21  Metabolite_19   \n",
       "ES                                  0.000000e+00  Metabolite_21   \n",
       "P                                   0.000000e+00  Metabolite_22   \n",
       "\n",
       "      particle_number  particle_number_rate  rate       type     unit  \n",
       "name                                                                   \n",
       "E                 NaN                   NaN   NaN  reactions  mmol/ml  \n",
       "S                 NaN                   NaN   NaN  reactions  mmol/ml  \n",
       "ES                NaN                   NaN   NaN  reactions  mmol/ml  \n",
       "P                 NaN                   NaN   NaN  reactions  mmol/ml  "
      ]
     },
     "metadata": {},
     "execution_count": 95
    }
   ],
   "source": [
    "get_species()"
   ]
  },
  {
   "cell_type": "code",
   "execution_count": 96,
   "metadata": {
    "collapsed": false
   },
   "outputs": [
    {
     "output_type": "execute_result",
     "data": {
      "text/plain": [
       "name\n",
       "E      0.010000\n",
       "S     10.000001\n",
       "ES     0.000000\n",
       "P      0.000000\n",
       "Name: initial_concentration, dtype: float64"
      ]
     },
     "metadata": {},
     "execution_count": 96
    }
   ],
   "source": [
    "get_species(name = 'E')['initial_concentration']"
   ]
  },
  {
   "cell_type": "markdown",
   "metadata": {},
   "source": [
    "#### Setting"
   ]
  },
  {
   "cell_type": "markdown",
   "metadata": {},
   "source": [
    "        if 'name' in kwargs:\n",
    "            metab.setObjectName(kwargs['name'])\n",
    "\n",
    "        if 'unit' in kwargs:\n",
    "            metab.setUnitExpression(kwargs['unit'])\n",
    "\n",
    "        if 'initial_concentration' in kwargs:\n",
    "            metab.setInitialConcentration(kwargs['initial_concentration']),\n",
    "\n",
    "        if 'initial_particle_number' in kwargs:\n",
    "            metab.setInitialValue(kwargs['initial_particle_number']),\n",
    "\n",
    "        if 'initial_expression' in kwargs:\n",
    "            metab.setInitialExpression(kwargs['initial_expression'])\n",
    "\n",
    "        if 'expression' in kwargs:\n",
    "            metab.setExpression(kwargs['expression'])"
   ]
  },
  {
   "cell_type": "code",
   "execution_count": 97,
   "metadata": {
    "collapsed": false
   },
   "outputs": [],
   "source": [
    "set_species(name = 'E', new_name = 'Lilija')"
   ]
  },
  {
   "cell_type": "code",
   "execution_count": 98,
   "metadata": {
    "collapsed": true
   },
   "outputs": [],
   "source": [
    "set_species(name = 'Lilija', initial_concentration = 123456)"
   ]
  },
  {
   "cell_type": "code",
   "execution_count": 99,
   "metadata": {
    "collapsed": false
   },
   "outputs": [
    {
     "output_type": "execute_result",
     "data": {
      "text/html": "<div>\n<style scoped>\n    .dataframe tbody tr th:only-of-type {\n        vertical-align: middle;\n    }\n\n    .dataframe tbody tr th {\n        vertical-align: top;\n    }\n\n    .dataframe thead th {\n        text-align: right;\n    }\n</style>\n<table border=\"1\" class=\"dataframe\">\n  <thead>\n    <tr style=\"text-align: right;\">\n      <th></th>\n      <th>compartment</th>\n      <th>concentration</th>\n      <th>expression</th>\n      <th>initial_concentration</th>\n      <th>initial_expression</th>\n      <th>initial_particle_number</th>\n      <th>key</th>\n      <th>particle_number</th>\n      <th>particle_number_rate</th>\n      <th>rate</th>\n      <th>type</th>\n      <th>unit</th>\n    </tr>\n    <tr>\n      <th>name</th>\n      <th></th>\n      <th></th>\n      <th></th>\n      <th></th>\n      <th></th>\n      <th></th>\n      <th></th>\n      <th></th>\n      <th></th>\n      <th></th>\n      <th></th>\n      <th></th>\n    </tr>\n  </thead>\n  <tbody>\n    <tr>\n      <th>Lilija</th>\n      <td>compartment</td>\n      <td>NaN</td>\n      <td></td>\n      <td>123456.000000</td>\n      <td></td>\n      <td>7.434694e+25</td>\n      <td>Metabolite_20</td>\n      <td>NaN</td>\n      <td>NaN</td>\n      <td>NaN</td>\n      <td>reactions</td>\n      <td>mmol/ml</td>\n    </tr>\n    <tr>\n      <th>S</th>\n      <td>compartment</td>\n      <td>NaN</td>\n      <td></td>\n      <td>10.000001</td>\n      <td></td>\n      <td>6.022142e+21</td>\n      <td>Metabolite_19</td>\n      <td>NaN</td>\n      <td>NaN</td>\n      <td>NaN</td>\n      <td>reactions</td>\n      <td>mmol/ml</td>\n    </tr>\n    <tr>\n      <th>ES</th>\n      <td>compartment</td>\n      <td>NaN</td>\n      <td></td>\n      <td>0.000000</td>\n      <td></td>\n      <td>0.000000e+00</td>\n      <td>Metabolite_21</td>\n      <td>NaN</td>\n      <td>NaN</td>\n      <td>NaN</td>\n      <td>reactions</td>\n      <td>mmol/ml</td>\n    </tr>\n    <tr>\n      <th>P</th>\n      <td>compartment</td>\n      <td>NaN</td>\n      <td></td>\n      <td>0.000000</td>\n      <td></td>\n      <td>0.000000e+00</td>\n      <td>Metabolite_22</td>\n      <td>NaN</td>\n      <td>NaN</td>\n      <td>NaN</td>\n      <td>reactions</td>\n      <td>mmol/ml</td>\n    </tr>\n  </tbody>\n</table>\n</div>",
      "text/plain": [
       "        compartment  concentration expression  initial_concentration  \\\n",
       "name                                                                   \n",
       "Lilija  compartment            NaN                     123456.000000   \n",
       "S       compartment            NaN                         10.000001   \n",
       "ES      compartment            NaN                          0.000000   \n",
       "P       compartment            NaN                          0.000000   \n",
       "\n",
       "       initial_expression  initial_particle_number            key  \\\n",
       "name                                                                \n",
       "Lilija                                7.434694e+25  Metabolite_20   \n",
       "S                                     6.022142e+21  Metabolite_19   \n",
       "ES                                    0.000000e+00  Metabolite_21   \n",
       "P                                     0.000000e+00  Metabolite_22   \n",
       "\n",
       "        particle_number  particle_number_rate  rate       type     unit  \n",
       "name                                                                     \n",
       "Lilija              NaN                   NaN   NaN  reactions  mmol/ml  \n",
       "S                   NaN                   NaN   NaN  reactions  mmol/ml  \n",
       "ES                  NaN                   NaN   NaN  reactions  mmol/ml  \n",
       "P                   NaN                   NaN   NaN  reactions  mmol/ml  "
      ]
     },
     "metadata": {},
     "execution_count": 99
    }
   ],
   "source": [
    "get_species(name = 'Lilija')"
   ]
  },
  {
   "cell_type": "code",
   "execution_count": 100,
   "metadata": {
    "collapsed": true
   },
   "outputs": [],
   "source": [
    "# change it back\n",
    "set_species(new_name = 'E', name = 'Lilija')"
   ]
  },
  {
   "cell_type": "markdown",
   "metadata": {},
   "source": [
    "## Getting/setting reaction parameters"
   ]
  },
  {
   "cell_type": "code",
   "execution_count": 101,
   "metadata": {
    "collapsed": false
   },
   "outputs": [
    {
     "output_type": "execute_result",
     "data": {
      "text/html": "<div>\n<style scoped>\n    .dataframe tbody tr th:only-of-type {\n        vertical-align: middle;\n    }\n\n    .dataframe tbody tr th {\n        vertical-align: top;\n    }\n\n    .dataframe thead th {\n        text-align: right;\n    }\n</style>\n<table border=\"1\" class=\"dataframe\">\n  <thead>\n    <tr style=\"text-align: right;\">\n      <th></th>\n      <th>mapped_to</th>\n      <th>name</th>\n      <th>type</th>\n      <th>value</th>\n    </tr>\n    <tr>\n      <th>reaction name</th>\n      <th></th>\n      <th></th>\n      <th></th>\n      <th></th>\n    </tr>\n  </thead>\n  <tbody>\n    <tr>\n      <th>R1</th>\n      <td></td>\n      <td>(R1).k1</td>\n      <td>local</td>\n      <td>130.0</td>\n    </tr>\n    <tr>\n      <th>R1</th>\n      <td></td>\n      <td>(R1).k2</td>\n      <td>local</td>\n      <td>1.0</td>\n    </tr>\n    <tr>\n      <th>R2</th>\n      <td></td>\n      <td>(R2).k1</td>\n      <td>local</td>\n      <td>1.0</td>\n    </tr>\n  </tbody>\n</table>\n</div>",
      "text/plain": [
       "              mapped_to     name   type  value\n",
       "reaction name                                 \n",
       "R1                       (R1).k1  local  130.0\n",
       "R1                       (R1).k2  local    1.0\n",
       "R2                       (R2).k1  local    1.0"
      ]
     },
     "metadata": {},
     "execution_count": 101
    }
   ],
   "source": [
    "get_reaction_parameters()"
   ]
  },
  {
   "cell_type": "markdown",
   "metadata": {},
   "source": [
    "        Setting only the following is possible:\n",
    "        'new_name'\n",
    "        'value'"
   ]
  },
  {
   "cell_type": "code",
   "execution_count": 102,
   "metadata": {
    "collapsed": true
   },
   "outputs": [],
   "source": [
    "set_reaction_parameters(name = '(R1).k1', value=123)"
   ]
  },
  {
   "cell_type": "code",
   "execution_count": 103,
   "metadata": {
    "collapsed": false
   },
   "outputs": [
    {
     "output_type": "execute_result",
     "data": {
      "text/html": "<div>\n<style scoped>\n    .dataframe tbody tr th:only-of-type {\n        vertical-align: middle;\n    }\n\n    .dataframe tbody tr th {\n        vertical-align: top;\n    }\n\n    .dataframe thead th {\n        text-align: right;\n    }\n</style>\n<table border=\"1\" class=\"dataframe\">\n  <thead>\n    <tr style=\"text-align: right;\">\n      <th></th>\n      <th>mapped_to</th>\n      <th>name</th>\n      <th>type</th>\n      <th>value</th>\n    </tr>\n    <tr>\n      <th>reaction name</th>\n      <th></th>\n      <th></th>\n      <th></th>\n      <th></th>\n    </tr>\n  </thead>\n  <tbody>\n    <tr>\n      <th>R1</th>\n      <td></td>\n      <td>(R1).k1</td>\n      <td>local</td>\n      <td>123.0</td>\n    </tr>\n    <tr>\n      <th>R1</th>\n      <td></td>\n      <td>(R1).k2</td>\n      <td>local</td>\n      <td>1.0</td>\n    </tr>\n    <tr>\n      <th>R2</th>\n      <td></td>\n      <td>(R2).k1</td>\n      <td>local</td>\n      <td>1.0</td>\n    </tr>\n  </tbody>\n</table>\n</div>",
      "text/plain": [
       "              mapped_to     name   type  value\n",
       "reaction name                                 \n",
       "R1                       (R1).k1  local  123.0\n",
       "R1                       (R1).k2  local    1.0\n",
       "R2                       (R2).k1  local    1.0"
      ]
     },
     "metadata": {},
     "execution_count": 103
    }
   ],
   "source": [
    "get_reaction_parameters()"
   ]
  },
  {
   "cell_type": "markdown",
   "metadata": {},
   "source": [
    "## Getting/setting reactions"
   ]
  },
  {
   "cell_type": "code",
   "execution_count": 104,
   "metadata": {
    "collapsed": false
   },
   "outputs": [
    {
     "output_type": "execute_result",
     "data": {
      "text/html": "<div>\n<style scoped>\n    .dataframe tbody tr th:only-of-type {\n        vertical-align: middle;\n    }\n\n    .dataframe tbody tr th {\n        vertical-align: top;\n    }\n\n    .dataframe thead th {\n        text-align: right;\n    }\n</style>\n<table border=\"1\" class=\"dataframe\">\n  <thead>\n    <tr style=\"text-align: right;\">\n      <th></th>\n      <th>flux</th>\n      <th>particle_flux</th>\n      <th>scheme</th>\n    </tr>\n    <tr>\n      <th>name</th>\n      <th></th>\n      <th></th>\n      <th></th>\n    </tr>\n  </thead>\n  <tbody>\n    <tr>\n      <th>R1</th>\n      <td>NaN</td>\n      <td>NaN</td>\n      <td>S + E = ES</td>\n    </tr>\n    <tr>\n      <th>R2</th>\n      <td>NaN</td>\n      <td>NaN</td>\n      <td>ES -&gt; E + P</td>\n    </tr>\n  </tbody>\n</table>\n</div>",
      "text/plain": [
       "      flux  particle_flux       scheme\n",
       "name                                  \n",
       "R1     NaN            NaN   S + E = ES\n",
       "R2     NaN            NaN  ES -> E + P"
      ]
     },
     "metadata": {},
     "execution_count": 104
    }
   ],
   "source": [
    "get_reactions()"
   ]
  },
  {
   "cell_type": "markdown",
   "metadata": {},
   "source": [
    "### Setting scheme"
   ]
  },
  {
   "cell_type": "code",
   "execution_count": 105,
   "metadata": {
    "collapsed": false
   },
   "outputs": [],
   "source": [
    "set_reaction(name = 'R1', scheme = 'S + E + F = ES')"
   ]
  },
  {
   "cell_type": "code",
   "execution_count": 106,
   "metadata": {
    "collapsed": false
   },
   "outputs": [
    {
     "output_type": "execute_result",
     "data": {
      "text/html": "<div>\n<style scoped>\n    .dataframe tbody tr th:only-of-type {\n        vertical-align: middle;\n    }\n\n    .dataframe tbody tr th {\n        vertical-align: top;\n    }\n\n    .dataframe thead th {\n        text-align: right;\n    }\n</style>\n<table border=\"1\" class=\"dataframe\">\n  <thead>\n    <tr style=\"text-align: right;\">\n      <th></th>\n      <th>flux</th>\n      <th>particle_flux</th>\n      <th>scheme</th>\n    </tr>\n    <tr>\n      <th>name</th>\n      <th></th>\n      <th></th>\n      <th></th>\n    </tr>\n  </thead>\n  <tbody>\n    <tr>\n      <th>R1</th>\n      <td>NaN</td>\n      <td>NaN</td>\n      <td>S + E + F = ES</td>\n    </tr>\n    <tr>\n      <th>R2</th>\n      <td>NaN</td>\n      <td>NaN</td>\n      <td>ES -&gt; E + P</td>\n    </tr>\n  </tbody>\n</table>\n</div>",
      "text/plain": [
       "      flux  particle_flux          scheme\n",
       "name                                     \n",
       "R1     NaN            NaN  S + E + F = ES\n",
       "R2     NaN            NaN     ES -> E + P"
      ]
     },
     "metadata": {},
     "execution_count": 106
    }
   ],
   "source": [
    "get_reactions()"
   ]
  },
  {
   "cell_type": "markdown",
   "metadata": {},
   "source": [
    "### Setting reaction name"
   ]
  },
  {
   "cell_type": "code",
   "execution_count": 107,
   "metadata": {
    "collapsed": true
   },
   "outputs": [],
   "source": [
    "set_reaction(name = 'R1', new_name = 'Reaction 1')"
   ]
  },
  {
   "cell_type": "code",
   "execution_count": 108,
   "metadata": {
    "collapsed": false
   },
   "outputs": [
    {
     "output_type": "execute_result",
     "data": {
      "text/html": "<div>\n<style scoped>\n    .dataframe tbody tr th:only-of-type {\n        vertical-align: middle;\n    }\n\n    .dataframe tbody tr th {\n        vertical-align: top;\n    }\n\n    .dataframe thead th {\n        text-align: right;\n    }\n</style>\n<table border=\"1\" class=\"dataframe\">\n  <thead>\n    <tr style=\"text-align: right;\">\n      <th></th>\n      <th>flux</th>\n      <th>particle_flux</th>\n      <th>scheme</th>\n    </tr>\n    <tr>\n      <th>name</th>\n      <th></th>\n      <th></th>\n      <th></th>\n    </tr>\n  </thead>\n  <tbody>\n    <tr>\n      <th>Reaction 1</th>\n      <td>NaN</td>\n      <td>NaN</td>\n      <td>S + E + F = ES</td>\n    </tr>\n    <tr>\n      <th>R2</th>\n      <td>NaN</td>\n      <td>NaN</td>\n      <td>ES -&gt; E + P</td>\n    </tr>\n  </tbody>\n</table>\n</div>",
      "text/plain": [
       "            flux  particle_flux          scheme\n",
       "name                                           \n",
       "Reaction 1   NaN            NaN  S + E + F = ES\n",
       "R2           NaN            NaN     ES -> E + P"
      ]
     },
     "metadata": {},
     "execution_count": 108
    }
   ],
   "source": [
    "get_reactions()"
   ]
  },
  {
   "cell_type": "code",
   "execution_count": null,
   "metadata": {
    "collapsed": true
   },
   "outputs": [],
   "source": []
  }
 ],
 "metadata": {
  "anaconda-cloud": {},
  "kernelspec": {
   "name": "Python 2.7.18 32-bit ('base': conda)",
   "display_name": "Python 2.7.18 32-bit ('base': conda)",
   "metadata": {
    "interpreter": {
     "hash": "90f75240326c73b7c62b98120fe28db4ad14212bb9becf4aebf71617db42ce41"
    }
   }
  },
  "language_info": {
   "codemirror_mode": {
    "name": "ipython",
    "version": 2
   },
   "file_extension": ".py",
   "mimetype": "text/x-python",
   "name": "python",
   "nbconvert_exporter": "python",
   "pygments_lexer": "ipython2",
   "version": "2.7.18-final"
  }
 },
 "nbformat": 4,
 "nbformat_minor": 2
}