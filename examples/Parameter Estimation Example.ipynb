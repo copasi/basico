{
 "cells": [
  {
   "cell_type": "markdown",
   "metadata": {},
   "source": [
    "## Parameter Estimation using BasiCO\n",
    "This document describes how to use BasiCO for paramter estimation tasks. We start as normal: "
   ]
  },
  {
   "cell_type": "code",
   "execution_count": 1,
   "metadata": {},
   "outputs": [],
   "source": [
    "import sys\n",
    "if '..' not in sys.path: \n",
    "    sys.path.append('..')\n",
    "\n",
    "from basico import *\n",
    "%matplotlib inline"
   ]
  },
  {
   "cell_type": "markdown",
   "metadata": {},
   "source": [
    "Now we load an example model, that already has paramter estimation set up: "
   ]
  },
  {
   "cell_type": "code",
   "execution_count": 2,
   "metadata": {},
   "outputs": [],
   "source": [
    "dm = load_example('LM')"
   ]
  },
  {
   "cell_type": "markdown",
   "metadata": {},
   "source": [
    "with `get_fit_parameters` we can look at the paramters, that will be estimated, along with their bounds, and a list of experiments they apply to. If that list is empty, the parameter applies to all experiment, otherwise only the one mentioned. "
   ]
  },
  {
   "cell_type": "code",
   "execution_count": 3,
   "metadata": {},
   "outputs": [
    {
     "data": {
      "text/html": [
       "<div>\n",
       "<style scoped>\n",
       "    .dataframe tbody tr th:only-of-type {\n",
       "        vertical-align: middle;\n",
       "    }\n",
       "\n",
       "    .dataframe tbody tr th {\n",
       "        vertical-align: top;\n",
       "    }\n",
       "\n",
       "    .dataframe thead th {\n",
       "        text-align: right;\n",
       "    }\n",
       "</style>\n",
       "<table border=\"1\" class=\"dataframe\">\n",
       "  <thead>\n",
       "    <tr style=\"text-align: right;\">\n",
       "      <th></th>\n",
       "      <th>lower</th>\n",
       "      <th>upper</th>\n",
       "      <th>start</th>\n",
       "      <th>affected</th>\n",
       "      <th>cn</th>\n",
       "    </tr>\n",
       "    <tr>\n",
       "      <th>name</th>\n",
       "      <th></th>\n",
       "      <th></th>\n",
       "      <th></th>\n",
       "      <th></th>\n",
       "      <th></th>\n",
       "    </tr>\n",
       "  </thead>\n",
       "  <tbody>\n",
       "    <tr>\n",
       "      <th>(R1).k2</th>\n",
       "      <td>1e-6</td>\n",
       "      <td>1e6</td>\n",
       "      <td>1.0</td>\n",
       "      <td>[]</td>\n",
       "      <td>CN=Root,Model=Kinetics of a  Michaelian enzyme...</td>\n",
       "    </tr>\n",
       "    <tr>\n",
       "      <th>(R2).k1</th>\n",
       "      <td>1e-6</td>\n",
       "      <td>1e6</td>\n",
       "      <td>1.0</td>\n",
       "      <td>[]</td>\n",
       "      <td>CN=Root,Model=Kinetics of a  Michaelian enzyme...</td>\n",
       "    </tr>\n",
       "    <tr>\n",
       "      <th>Values[offset]</th>\n",
       "      <td>-0.2</td>\n",
       "      <td>0.4</td>\n",
       "      <td>0.1</td>\n",
       "      <td>[Experiment_1]</td>\n",
       "      <td>CN=Root,Model=Kinetics of a  Michaelian enzyme...</td>\n",
       "    </tr>\n",
       "    <tr>\n",
       "      <th>Values[offset]</th>\n",
       "      <td>-0.2</td>\n",
       "      <td>0.4</td>\n",
       "      <td>0.1</td>\n",
       "      <td>[Experiment_3]</td>\n",
       "      <td>CN=Root,Model=Kinetics of a  Michaelian enzyme...</td>\n",
       "    </tr>\n",
       "    <tr>\n",
       "      <th>Values[offset]</th>\n",
       "      <td>-0.2</td>\n",
       "      <td>0.4</td>\n",
       "      <td>0.1</td>\n",
       "      <td>[Experiment]</td>\n",
       "      <td>CN=Root,Model=Kinetics of a  Michaelian enzyme...</td>\n",
       "    </tr>\n",
       "    <tr>\n",
       "      <th>Values[offset]</th>\n",
       "      <td>-0.2</td>\n",
       "      <td>0.4</td>\n",
       "      <td>0.1</td>\n",
       "      <td>[Experiment_4]</td>\n",
       "      <td>CN=Root,Model=Kinetics of a  Michaelian enzyme...</td>\n",
       "    </tr>\n",
       "    <tr>\n",
       "      <th>Values[offset]</th>\n",
       "      <td>-0.2</td>\n",
       "      <td>0.4</td>\n",
       "      <td>0.1</td>\n",
       "      <td>[Experiment_2]</td>\n",
       "      <td>CN=Root,Model=Kinetics of a  Michaelian enzyme...</td>\n",
       "    </tr>\n",
       "  </tbody>\n",
       "</table>\n",
       "</div>"
      ],
      "text/plain": [
       "               lower upper  start        affected  \\\n",
       "name                                                \n",
       "(R1).k2         1e-6   1e6    1.0              []   \n",
       "(R2).k1         1e-6   1e6    1.0              []   \n",
       "Values[offset]  -0.2   0.4    0.1  [Experiment_1]   \n",
       "Values[offset]  -0.2   0.4    0.1  [Experiment_3]   \n",
       "Values[offset]  -0.2   0.4    0.1    [Experiment]   \n",
       "Values[offset]  -0.2   0.4    0.1  [Experiment_4]   \n",
       "Values[offset]  -0.2   0.4    0.1  [Experiment_2]   \n",
       "\n",
       "                                                               cn  \n",
       "name                                                               \n",
       "(R1).k2         CN=Root,Model=Kinetics of a  Michaelian enzyme...  \n",
       "(R2).k1         CN=Root,Model=Kinetics of a  Michaelian enzyme...  \n",
       "Values[offset]  CN=Root,Model=Kinetics of a  Michaelian enzyme...  \n",
       "Values[offset]  CN=Root,Model=Kinetics of a  Michaelian enzyme...  \n",
       "Values[offset]  CN=Root,Model=Kinetics of a  Michaelian enzyme...  \n",
       "Values[offset]  CN=Root,Model=Kinetics of a  Michaelian enzyme...  \n",
       "Values[offset]  CN=Root,Model=Kinetics of a  Michaelian enzyme...  "
      ]
     },
     "execution_count": 3,
     "metadata": {},
     "output_type": "execute_result"
    }
   ],
   "source": [
    "get_fit_parameters()"
   ]
  },
  {
   "cell_type": "markdown",
   "metadata": {},
   "source": [
    "Now lets see how well the current fit is: "
   ]
  },
  {
   "cell_type": "code",
   "execution_count": 4,
   "metadata": {},
   "outputs": [
    {
     "data": {
      "text/html": [
       "<div>\n",
       "<style scoped>\n",
       "    .dataframe tbody tr th:only-of-type {\n",
       "        vertical-align: middle;\n",
       "    }\n",
       "\n",
       "    .dataframe tbody tr th {\n",
       "        vertical-align: top;\n",
       "    }\n",
       "\n",
       "    .dataframe thead th {\n",
       "        text-align: right;\n",
       "    }\n",
       "</style>\n",
       "<table border=\"1\" class=\"dataframe\">\n",
       "  <thead>\n",
       "    <tr style=\"text-align: right;\">\n",
       "      <th></th>\n",
       "      <th>lower</th>\n",
       "      <th>upper</th>\n",
       "      <th>sol</th>\n",
       "      <th>affected</th>\n",
       "    </tr>\n",
       "    <tr>\n",
       "      <th>name</th>\n",
       "      <th></th>\n",
       "      <th></th>\n",
       "      <th></th>\n",
       "      <th></th>\n",
       "    </tr>\n",
       "  </thead>\n",
       "  <tbody>\n",
       "    <tr>\n",
       "      <th>(R1).k2</th>\n",
       "      <td>1e-6</td>\n",
       "      <td>1e6</td>\n",
       "      <td>0.000002</td>\n",
       "      <td>[]</td>\n",
       "    </tr>\n",
       "    <tr>\n",
       "      <th>(R2).k1</th>\n",
       "      <td>1e-6</td>\n",
       "      <td>1e6</td>\n",
       "      <td>44.661715</td>\n",
       "      <td>[]</td>\n",
       "    </tr>\n",
       "    <tr>\n",
       "      <th>Values[offset]</th>\n",
       "      <td>-0.2</td>\n",
       "      <td>0.4</td>\n",
       "      <td>0.043018</td>\n",
       "      <td>[Experiment_1]</td>\n",
       "    </tr>\n",
       "    <tr>\n",
       "      <th>Values[offset]</th>\n",
       "      <td>-0.2</td>\n",
       "      <td>0.4</td>\n",
       "      <td>0.054167</td>\n",
       "      <td>[Experiment_3]</td>\n",
       "    </tr>\n",
       "    <tr>\n",
       "      <th>Values[offset]</th>\n",
       "      <td>-0.2</td>\n",
       "      <td>0.4</td>\n",
       "      <td>-0.050941</td>\n",
       "      <td>[Experiment]</td>\n",
       "    </tr>\n",
       "    <tr>\n",
       "      <th>Values[offset]</th>\n",
       "      <td>-0.2</td>\n",
       "      <td>0.4</td>\n",
       "      <td>0.045922</td>\n",
       "      <td>[Experiment_4]</td>\n",
       "    </tr>\n",
       "    <tr>\n",
       "      <th>Values[offset]</th>\n",
       "      <td>-0.2</td>\n",
       "      <td>0.4</td>\n",
       "      <td>0.048025</td>\n",
       "      <td>[Experiment_2]</td>\n",
       "    </tr>\n",
       "  </tbody>\n",
       "</table>\n",
       "</div>"
      ],
      "text/plain": [
       "               lower upper        sol        affected\n",
       "name                                                 \n",
       "(R1).k2         1e-6   1e6   0.000002              []\n",
       "(R2).k1         1e-6   1e6  44.661715              []\n",
       "Values[offset]  -0.2   0.4   0.043018  [Experiment_1]\n",
       "Values[offset]  -0.2   0.4   0.054167  [Experiment_3]\n",
       "Values[offset]  -0.2   0.4  -0.050941    [Experiment]\n",
       "Values[offset]  -0.2   0.4   0.045922  [Experiment_4]\n",
       "Values[offset]  -0.2   0.4   0.048025  [Experiment_2]"
      ]
     },
     "execution_count": 4,
     "metadata": {},
     "output_type": "execute_result"
    }
   ],
   "source": [
    "run_parameter_estimation(method='Statistics')"
   ]
  },
  {
   "cell_type": "markdown",
   "metadata": {},
   "source": [
    "if ever you wanted to get the solution of the last run, you can execute `get_parameters_solution`"
   ]
  },
  {
   "cell_type": "code",
   "execution_count": 5,
   "metadata": {},
   "outputs": [
    {
     "data": {
      "text/html": [
       "<div>\n",
       "<style scoped>\n",
       "    .dataframe tbody tr th:only-of-type {\n",
       "        vertical-align: middle;\n",
       "    }\n",
       "\n",
       "    .dataframe tbody tr th {\n",
       "        vertical-align: top;\n",
       "    }\n",
       "\n",
       "    .dataframe thead th {\n",
       "        text-align: right;\n",
       "    }\n",
       "</style>\n",
       "<table border=\"1\" class=\"dataframe\">\n",
       "  <thead>\n",
       "    <tr style=\"text-align: right;\">\n",
       "      <th></th>\n",
       "      <th>lower</th>\n",
       "      <th>upper</th>\n",
       "      <th>sol</th>\n",
       "      <th>affected</th>\n",
       "    </tr>\n",
       "    <tr>\n",
       "      <th>name</th>\n",
       "      <th></th>\n",
       "      <th></th>\n",
       "      <th></th>\n",
       "      <th></th>\n",
       "    </tr>\n",
       "  </thead>\n",
       "  <tbody>\n",
       "    <tr>\n",
       "      <th>(R1).k2</th>\n",
       "      <td>1e-6</td>\n",
       "      <td>1e6</td>\n",
       "      <td>0.000002</td>\n",
       "      <td>[]</td>\n",
       "    </tr>\n",
       "    <tr>\n",
       "      <th>(R2).k1</th>\n",
       "      <td>1e-6</td>\n",
       "      <td>1e6</td>\n",
       "      <td>44.661715</td>\n",
       "      <td>[]</td>\n",
       "    </tr>\n",
       "    <tr>\n",
       "      <th>Values[offset]</th>\n",
       "      <td>-0.2</td>\n",
       "      <td>0.4</td>\n",
       "      <td>0.043018</td>\n",
       "      <td>[Experiment_1]</td>\n",
       "    </tr>\n",
       "    <tr>\n",
       "      <th>Values[offset]</th>\n",
       "      <td>-0.2</td>\n",
       "      <td>0.4</td>\n",
       "      <td>0.054167</td>\n",
       "      <td>[Experiment_3]</td>\n",
       "    </tr>\n",
       "    <tr>\n",
       "      <th>Values[offset]</th>\n",
       "      <td>-0.2</td>\n",
       "      <td>0.4</td>\n",
       "      <td>-0.050941</td>\n",
       "      <td>[Experiment]</td>\n",
       "    </tr>\n",
       "    <tr>\n",
       "      <th>Values[offset]</th>\n",
       "      <td>-0.2</td>\n",
       "      <td>0.4</td>\n",
       "      <td>0.045922</td>\n",
       "      <td>[Experiment_4]</td>\n",
       "    </tr>\n",
       "    <tr>\n",
       "      <th>Values[offset]</th>\n",
       "      <td>-0.2</td>\n",
       "      <td>0.4</td>\n",
       "      <td>0.048025</td>\n",
       "      <td>[Experiment_2]</td>\n",
       "    </tr>\n",
       "  </tbody>\n",
       "</table>\n",
       "</div>"
      ],
      "text/plain": [
       "               lower upper        sol        affected\n",
       "name                                                 \n",
       "(R1).k2         1e-6   1e6   0.000002              []\n",
       "(R2).k1         1e-6   1e6  44.661715              []\n",
       "Values[offset]  -0.2   0.4   0.043018  [Experiment_1]\n",
       "Values[offset]  -0.2   0.4   0.054167  [Experiment_3]\n",
       "Values[offset]  -0.2   0.4  -0.050941    [Experiment]\n",
       "Values[offset]  -0.2   0.4   0.045922  [Experiment_4]\n",
       "Values[offset]  -0.2   0.4   0.048025  [Experiment_2]"
      ]
     },
     "execution_count": 5,
     "metadata": {},
     "output_type": "execute_result"
    }
   ],
   "source": [
    "get_parameters_solution()"
   ]
  },
  {
   "cell_type": "markdown",
   "metadata": {},
   "source": [
    "To see what experiment files are there, you can run"
   ]
  },
  {
   "cell_type": "code",
   "execution_count": 6,
   "metadata": {},
   "outputs": [
    {
     "data": {
      "text/plain": [
       "['Experiment', 'Experiment_1', 'Experiment_2', 'Experiment_3', 'Experiment_4']"
      ]
     },
     "execution_count": 6,
     "metadata": {},
     "output_type": "execute_result"
    }
   ],
   "source": [
    "pe_get_experiment_names()"
   ]
  },
  {
   "cell_type": "markdown",
   "metadata": {},
   "source": [
    "the experimental data can be obtained like so: "
   ]
  },
  {
   "cell_type": "code",
   "execution_count": 7,
   "metadata": {},
   "outputs": [],
   "source": [
    "data = get_experiment_data_from_model()"
   ]
  },
  {
   "cell_type": "code",
   "execution_count": 8,
   "metadata": {},
   "outputs": [
    {
     "data": {
      "text/html": [
       "<div>\n",
       "<style scoped>\n",
       "    .dataframe tbody tr th:only-of-type {\n",
       "        vertical-align: middle;\n",
       "    }\n",
       "\n",
       "    .dataframe tbody tr th {\n",
       "        vertical-align: top;\n",
       "    }\n",
       "\n",
       "    .dataframe thead th {\n",
       "        text-align: right;\n",
       "    }\n",
       "</style>\n",
       "<table border=\"1\" class=\"dataframe\">\n",
       "  <thead>\n",
       "    <tr style=\"text-align: right;\">\n",
       "      <th></th>\n",
       "      <th>[S]_0</th>\n",
       "      <th>Time</th>\n",
       "      <th>Values[signal]</th>\n",
       "    </tr>\n",
       "  </thead>\n",
       "  <tbody>\n",
       "    <tr>\n",
       "      <th>0</th>\n",
       "      <td>0.31623</td>\n",
       "      <td>0.3</td>\n",
       "      <td>0.08568</td>\n",
       "    </tr>\n",
       "    <tr>\n",
       "      <th>1</th>\n",
       "      <td>0.31623</td>\n",
       "      <td>0.6</td>\n",
       "      <td>0.12849</td>\n",
       "    </tr>\n",
       "    <tr>\n",
       "      <th>2</th>\n",
       "      <td>0.31623</td>\n",
       "      <td>0.9</td>\n",
       "      <td>0.16599</td>\n",
       "    </tr>\n",
       "    <tr>\n",
       "      <th>3</th>\n",
       "      <td>0.31623</td>\n",
       "      <td>1.2</td>\n",
       "      <td>0.19788</td>\n",
       "    </tr>\n",
       "    <tr>\n",
       "      <th>4</th>\n",
       "      <td>0.31623</td>\n",
       "      <td>1.5</td>\n",
       "      <td>0.22046</td>\n",
       "    </tr>\n",
       "    <tr>\n",
       "      <th>...</th>\n",
       "      <td>...</td>\n",
       "      <td>...</td>\n",
       "      <td>...</td>\n",
       "    </tr>\n",
       "    <tr>\n",
       "      <th>95</th>\n",
       "      <td>0.31623</td>\n",
       "      <td>28.8</td>\n",
       "      <td>0.27933</td>\n",
       "    </tr>\n",
       "    <tr>\n",
       "      <th>96</th>\n",
       "      <td>0.31623</td>\n",
       "      <td>29.1</td>\n",
       "      <td>0.28938</td>\n",
       "    </tr>\n",
       "    <tr>\n",
       "      <th>97</th>\n",
       "      <td>0.31623</td>\n",
       "      <td>29.4</td>\n",
       "      <td>0.28208</td>\n",
       "    </tr>\n",
       "    <tr>\n",
       "      <th>98</th>\n",
       "      <td>0.31623</td>\n",
       "      <td>29.7</td>\n",
       "      <td>0.25544</td>\n",
       "    </tr>\n",
       "    <tr>\n",
       "      <th>99</th>\n",
       "      <td>0.31623</td>\n",
       "      <td>30.0</td>\n",
       "      <td>0.29552</td>\n",
       "    </tr>\n",
       "  </tbody>\n",
       "</table>\n",
       "<p>100 rows × 3 columns</p>\n",
       "</div>"
      ],
      "text/plain": [
       "      [S]_0  Time  Values[signal]\n",
       "0   0.31623   0.3         0.08568\n",
       "1   0.31623   0.6         0.12849\n",
       "2   0.31623   0.9         0.16599\n",
       "3   0.31623   1.2         0.19788\n",
       "4   0.31623   1.5         0.22046\n",
       "..      ...   ...             ...\n",
       "95  0.31623  28.8         0.27933\n",
       "96  0.31623  29.1         0.28938\n",
       "97  0.31623  29.4         0.28208\n",
       "98  0.31623  29.7         0.25544\n",
       "99  0.31623  30.0         0.29552\n",
       "\n",
       "[100 rows x 3 columns]"
      ]
     },
     "execution_count": 8,
     "metadata": {},
     "output_type": "execute_result"
    }
   ],
   "source": [
    "data[1]"
   ]
  },
  {
   "cell_type": "code",
   "execution_count": 9,
   "metadata": {},
   "outputs": [
    {
     "data": {
      "text/plain": [
       "5"
      ]
     },
     "execution_count": 9,
     "metadata": {},
     "output_type": "execute_result"
    }
   ],
   "source": [
    "len(data)"
   ]
  },
  {
   "cell_type": "markdown",
   "metadata": {},
   "source": [
    "or to get a specific data set you can get it directly from the name: "
   ]
  },
  {
   "cell_type": "code",
   "execution_count": 10,
   "metadata": {},
   "outputs": [],
   "source": [
    "df = get_data_from_experiment('Experiment')"
   ]
  },
  {
   "cell_type": "code",
   "execution_count": 11,
   "metadata": {},
   "outputs": [
    {
     "data": {
      "image/png": "[encoded data removed]",
      "text/plain": [
       "<Figure size 432x288 with 1 Axes>"
      ]
     },
     "metadata": {
      "needs_background": "light"
     },
     "output_type": "display_data"
    }
   ],
   "source": [
    "df.plot(kind='scatter', x='Time', y=\"Values[signal]\");"
   ]
  },
  {
   "cell_type": "markdown",
   "metadata": {},
   "source": [
    "you can also look directly at the mapping, of the data. in this `independent` will mean that it is an initial value that is different in this experiment. `dependent` is the mapping to a model variable such as the transient concentration or a transient value of a model parameter. "
   ]
  },
  {
   "cell_type": "code",
   "execution_count": 12,
   "metadata": {},
   "outputs": [
    {
     "data": {
      "text/html": [
       "<div>\n",
       "<style scoped>\n",
       "    .dataframe tbody tr th:only-of-type {\n",
       "        vertical-align: middle;\n",
       "    }\n",
       "\n",
       "    .dataframe tbody tr th {\n",
       "        vertical-align: top;\n",
       "    }\n",
       "\n",
       "    .dataframe thead th {\n",
       "        text-align: right;\n",
       "    }\n",
       "</style>\n",
       "<table border=\"1\" class=\"dataframe\">\n",
       "  <thead>\n",
       "    <tr style=\"text-align: right;\">\n",
       "      <th></th>\n",
       "      <th>type</th>\n",
       "      <th>mapping</th>\n",
       "      <th>cn</th>\n",
       "    </tr>\n",
       "    <tr>\n",
       "      <th>column</th>\n",
       "      <th></th>\n",
       "      <th></th>\n",
       "      <th></th>\n",
       "    </tr>\n",
       "  </thead>\n",
       "  <tbody>\n",
       "    <tr>\n",
       "      <th>0</th>\n",
       "      <td>independent</td>\n",
       "      <td>[S]_0</td>\n",
       "      <td>CN=Root,Model=Kinetics of a  Michaelian enzyme...</td>\n",
       "    </tr>\n",
       "    <tr>\n",
       "      <th>1</th>\n",
       "      <td>time</td>\n",
       "      <td></td>\n",
       "      <td></td>\n",
       "    </tr>\n",
       "    <tr>\n",
       "      <th>2</th>\n",
       "      <td>dependent</td>\n",
       "      <td>Values[signal]</td>\n",
       "      <td>CN=Root,Model=Kinetics of a  Michaelian enzyme...</td>\n",
       "    </tr>\n",
       "  </tbody>\n",
       "</table>\n",
       "</div>"
      ],
      "text/plain": [
       "               type         mapping  \\\n",
       "column                                \n",
       "0       independent           [S]_0   \n",
       "1              time                   \n",
       "2         dependent  Values[signal]   \n",
       "\n",
       "                                                       cn  \n",
       "column                                                     \n",
       "0       CN=Root,Model=Kinetics of a  Michaelian enzyme...  \n",
       "1                                                          \n",
       "2       CN=Root,Model=Kinetics of a  Michaelian enzyme...  "
      ]
     },
     "execution_count": 12,
     "metadata": {},
     "output_type": "execute_result"
    }
   ],
   "source": [
    "get_experiment_mapping('Experiment')"
   ]
  },
  {
   "cell_type": "markdown",
   "metadata": {},
   "source": [
    "you can also plot the current fit, by running: "
   ]
  },
  {
   "cell_type": "code",
   "execution_count": 13,
   "metadata": {},
   "outputs": [
    {
     "data": {
      "image/png": "[encoded data removed]",
      "text/plain": [
       "<Figure size 432x288 with 1 Axes>"
      ]
     },
     "metadata": {
      "needs_background": "light"
     },
     "output_type": "display_data"
    }
   ],
   "source": [
    "plot_per_dependent_variable();"
   ]
  },
  {
   "cell_type": "markdown",
   "metadata": {},
   "source": [
    "now lets combine it, by actyally running the parameter estimation (here using the Levenberg Marquardt algorithm)"
   ]
  },
  {
   "cell_type": "code",
   "execution_count": 14,
   "metadata": {},
   "outputs": [
    {
     "data": {
      "text/html": [
       "<div>\n",
       "<style scoped>\n",
       "    .dataframe tbody tr th:only-of-type {\n",
       "        vertical-align: middle;\n",
       "    }\n",
       "\n",
       "    .dataframe tbody tr th {\n",
       "        vertical-align: top;\n",
       "    }\n",
       "\n",
       "    .dataframe thead th {\n",
       "        text-align: right;\n",
       "    }\n",
       "</style>\n",
       "<table border=\"1\" class=\"dataframe\">\n",
       "  <thead>\n",
       "    <tr style=\"text-align: right;\">\n",
       "      <th></th>\n",
       "      <th>lower</th>\n",
       "      <th>upper</th>\n",
       "      <th>sol</th>\n",
       "      <th>affected</th>\n",
       "    </tr>\n",
       "    <tr>\n",
       "      <th>name</th>\n",
       "      <th></th>\n",
       "      <th></th>\n",
       "      <th></th>\n",
       "      <th></th>\n",
       "    </tr>\n",
       "  </thead>\n",
       "  <tbody>\n",
       "    <tr>\n",
       "      <th>(R1).k2</th>\n",
       "      <td>1e-6</td>\n",
       "      <td>1e6</td>\n",
       "      <td>0.000002</td>\n",
       "      <td>[]</td>\n",
       "    </tr>\n",
       "    <tr>\n",
       "      <th>(R2).k1</th>\n",
       "      <td>1e-6</td>\n",
       "      <td>1e6</td>\n",
       "      <td>44.661715</td>\n",
       "      <td>[]</td>\n",
       "    </tr>\n",
       "    <tr>\n",
       "      <th>Values[offset]</th>\n",
       "      <td>-0.2</td>\n",
       "      <td>0.4</td>\n",
       "      <td>0.043018</td>\n",
       "      <td>[Experiment_1]</td>\n",
       "    </tr>\n",
       "    <tr>\n",
       "      <th>Values[offset]</th>\n",
       "      <td>-0.2</td>\n",
       "      <td>0.4</td>\n",
       "      <td>0.054167</td>\n",
       "      <td>[Experiment_3]</td>\n",
       "    </tr>\n",
       "    <tr>\n",
       "      <th>Values[offset]</th>\n",
       "      <td>-0.2</td>\n",
       "      <td>0.4</td>\n",
       "      <td>-0.050941</td>\n",
       "      <td>[Experiment]</td>\n",
       "    </tr>\n",
       "    <tr>\n",
       "      <th>Values[offset]</th>\n",
       "      <td>-0.2</td>\n",
       "      <td>0.4</td>\n",
       "      <td>0.045922</td>\n",
       "      <td>[Experiment_4]</td>\n",
       "    </tr>\n",
       "    <tr>\n",
       "      <th>Values[offset]</th>\n",
       "      <td>-0.2</td>\n",
       "      <td>0.4</td>\n",
       "      <td>0.048025</td>\n",
       "      <td>[Experiment_2]</td>\n",
       "    </tr>\n",
       "  </tbody>\n",
       "</table>\n",
       "</div>"
      ],
      "text/plain": [
       "               lower upper        sol        affected\n",
       "name                                                 \n",
       "(R1).k2         1e-6   1e6   0.000002              []\n",
       "(R2).k1         1e-6   1e6  44.661715              []\n",
       "Values[offset]  -0.2   0.4   0.043018  [Experiment_1]\n",
       "Values[offset]  -0.2   0.4   0.054167  [Experiment_3]\n",
       "Values[offset]  -0.2   0.4  -0.050941    [Experiment]\n",
       "Values[offset]  -0.2   0.4   0.045922  [Experiment_4]\n",
       "Values[offset]  -0.2   0.4   0.048025  [Experiment_2]"
      ]
     },
     "execution_count": 14,
     "metadata": {},
     "output_type": "execute_result"
    }
   ],
   "source": [
    "run_parameter_estimation(method='LevenbergMarquardt', update_model=True)"
   ]
  },
  {
   "cell_type": "code",
   "execution_count": 15,
   "metadata": {},
   "outputs": [
    {
     "data": {
      "image/png": "[encoded data removed]",
      "text/plain": [
       "<Figure size 432x288 with 1 Axes>"
      ]
     },
     "metadata": {
      "needs_background": "light"
     },
     "output_type": "display_data"
    }
   ],
   "source": [
    "plot_per_dependent_variable();"
   ]
  },
  {
   "cell_type": "markdown",
   "metadata": {},
   "source": [
    "you also get all the data sets returned, so you can plot them yourself howerver you like"
   ]
  },
  {
   "cell_type": "code",
   "execution_count": 16,
   "metadata": {
    "scrolled": true
   },
   "outputs": [
    {
     "data": {
      "image/png": "[encoded data removed]",
      "text/plain": [
       "<Figure size 432x288 with 1 Axes>"
      ]
     },
     "metadata": {
      "needs_background": "light"
     },
     "output_type": "display_data"
    },
    {
     "data": {
      "image/png": "[encoded data removed]",
      "text/plain": [
       "<Figure size 432x288 with 1 Axes>"
      ]
     },
     "metadata": {
      "needs_background": "light"
     },
     "output_type": "display_data"
    },
    {
     "data": {
      "image/png": "[encoded data removed]",
      "text/plain": [
       "<Figure size 432x288 with 1 Axes>"
      ]
     },
     "metadata": {
      "needs_background": "light"
     },
     "output_type": "display_data"
    },
    {
     "data": {
      "image/png": "[encoded data removed]",
      "text/plain": [
       "<Figure size 432x288 with 1 Axes>"
      ]
     },
     "metadata": {
      "needs_background": "light"
     },
     "output_type": "display_data"
    },
    {
     "data": {
      "image/png": "[encoded data removed]",
      "text/plain": [
       "<Figure size 432x288 with 1 Axes>"
      ]
     },
     "metadata": {
      "needs_background": "light"
     },
     "output_type": "display_data"
    }
   ],
   "source": [
    "exp, sim = get_simulation_results()\n",
    "for i in range(len(exp)):\n",
    "    ax = exp[i].plot.scatter(x='Time', y='Values[signal]')\n",
    "    sim[i].reset_index().plot(x='Time', y='Values[signal]', ax=ax)\n",
    "    ax.set_title(pe_get_experiment_names()[i])"
   ]
  },
  {
   "cell_type": "code",
   "execution_count": null,
   "metadata": {},
   "outputs": [],
   "source": []
  }
 ],
 "metadata": {
  "kernelspec": {
   "display_name": "Python 3",
   "language": "python",
   "name": "python3"
  },
  "language_info": {
   "codemirror_mode": {
    "name": "ipython",
    "version": 3
   },
   "file_extension": ".py",
   "mimetype": "text/x-python",
   "name": "python",
   "nbconvert_exporter": "python",
   "pygments_lexer": "ipython3",
   "version": "3.7.3"
  }
 },
 "nbformat": 4,
 "nbformat_minor": 4
}
